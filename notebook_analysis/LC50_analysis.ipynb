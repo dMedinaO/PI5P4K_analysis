{
 "cells": [
  {
   "cell_type": "markdown",
   "id": "54ac14f0",
   "metadata": {},
   "source": [
    "### LC50 analysis"
   ]
  },
  {
   "cell_type": "markdown",
   "id": "795f18be",
   "metadata": {},
   "source": [
    "- Handle warning"
   ]
  },
  {
   "cell_type": "code",
   "execution_count": 27,
   "id": "b94531b6",
   "metadata": {},
   "outputs": [],
   "source": [
    "import warnings\n",
    "warnings.filterwarnings('ignore')"
   ]
  },
  {
   "cell_type": "markdown",
   "id": "247d8374",
   "metadata": {},
   "source": [
    "- Load modules"
   ]
  },
  {
   "cell_type": "code",
   "execution_count": 35,
   "id": "1457ad22",
   "metadata": {},
   "outputs": [],
   "source": [
    "import numpy as np\n",
    "import pandas as pd\n",
    "import matplotlib.pyplot as plt\n",
    "from scipy.optimize import curve_fit\n",
    "import seaborn as sns"
   ]
  },
  {
   "cell_type": "markdown",
   "id": "77214e32",
   "metadata": {},
   "source": [
    "- Auxiliar functions"
   ]
  },
  {
   "cell_type": "code",
   "execution_count": 29,
   "id": "6e1b4478",
   "metadata": {},
   "outputs": [],
   "source": [
    "def LL4(x, b, c, d, e):\n",
    "    \"\"\"\n",
    "    LL.4 (Log-logistic, 4 parámetros):\n",
    "    b = pendiente (Hill slope)\n",
    "    c = mínimo (bottom)\n",
    "    d = máximo (top)\n",
    "    e = LC50\n",
    "    \"\"\"\n",
    "    return c + (d - c) / (1 + np.exp(b * (np.log(x) - np.log(e))))\n"
   ]
  },
  {
   "cell_type": "markdown",
   "id": "74427be7",
   "metadata": {},
   "source": [
    "- Load data"
   ]
  },
  {
   "cell_type": "code",
   "execution_count": 30,
   "id": "0bfbca05",
   "metadata": {},
   "outputs": [
    {
     "data": {
      "text/html": [
       "<div>\n",
       "<style scoped>\n",
       "    .dataframe tbody tr th:only-of-type {\n",
       "        vertical-align: middle;\n",
       "    }\n",
       "\n",
       "    .dataframe tbody tr th {\n",
       "        vertical-align: top;\n",
       "    }\n",
       "\n",
       "    .dataframe thead th {\n",
       "        text-align: right;\n",
       "    }\n",
       "</style>\n",
       "<table border=\"1\" class=\"dataframe\">\n",
       "  <thead>\n",
       "    <tr style=\"text-align: right;\">\n",
       "      <th></th>\n",
       "      <th>Salinity</th>\n",
       "      <th>Replica1</th>\n",
       "      <th>Replica2</th>\n",
       "      <th>Replica3</th>\n",
       "    </tr>\n",
       "  </thead>\n",
       "  <tbody>\n",
       "    <tr>\n",
       "      <th>0</th>\n",
       "      <td>34.0</td>\n",
       "      <td>0</td>\n",
       "      <td>0</td>\n",
       "      <td>0</td>\n",
       "    </tr>\n",
       "    <tr>\n",
       "      <th>1</th>\n",
       "      <td>36.4</td>\n",
       "      <td>0</td>\n",
       "      <td>0</td>\n",
       "      <td>10</td>\n",
       "    </tr>\n",
       "    <tr>\n",
       "      <th>2</th>\n",
       "      <td>45.8</td>\n",
       "      <td>0</td>\n",
       "      <td>0</td>\n",
       "      <td>10</td>\n",
       "    </tr>\n",
       "    <tr>\n",
       "      <th>3</th>\n",
       "      <td>51.8</td>\n",
       "      <td>10</td>\n",
       "      <td>20</td>\n",
       "      <td>10</td>\n",
       "    </tr>\n",
       "    <tr>\n",
       "      <th>4</th>\n",
       "      <td>57.7</td>\n",
       "      <td>100</td>\n",
       "      <td>100</td>\n",
       "      <td>100</td>\n",
       "    </tr>\n",
       "    <tr>\n",
       "      <th>5</th>\n",
       "      <td>58.0</td>\n",
       "      <td>100</td>\n",
       "      <td>100</td>\n",
       "      <td>100</td>\n",
       "    </tr>\n",
       "    <tr>\n",
       "      <th>6</th>\n",
       "      <td>58.8</td>\n",
       "      <td>100</td>\n",
       "      <td>100</td>\n",
       "      <td>100</td>\n",
       "    </tr>\n",
       "    <tr>\n",
       "      <th>7</th>\n",
       "      <td>59.4</td>\n",
       "      <td>100</td>\n",
       "      <td>100</td>\n",
       "      <td>100</td>\n",
       "    </tr>\n",
       "  </tbody>\n",
       "</table>\n",
       "</div>"
      ],
      "text/plain": [
       "   Salinity  Replica1  Replica2  Replica3\n",
       "0      34.0         0         0         0\n",
       "1      36.4         0         0        10\n",
       "2      45.8         0         0        10\n",
       "3      51.8        10        20        10\n",
       "4      57.7       100       100       100\n",
       "5      58.0       100       100       100\n",
       "6      58.8       100       100       100\n",
       "7      59.4       100       100       100"
      ]
     },
     "execution_count": 30,
     "metadata": {},
     "output_type": "execute_result"
    }
   ],
   "source": [
    "data = pd.read_csv(\"../raw_data/lc50_data.csv\")\n",
    "data"
   ]
  },
  {
   "cell_type": "markdown",
   "id": "4b0aed57",
   "metadata": {},
   "source": [
    "- Prepare data and fit model"
   ]
  },
  {
   "cell_type": "code",
   "execution_count": 31,
   "id": "42b07827",
   "metadata": {},
   "outputs": [],
   "source": [
    "data[\"response\"] = data[[\"Replica1\", \"Replica2\", \"Replica3\"]].mean(axis=1)"
   ]
  },
  {
   "cell_type": "code",
   "execution_count": 32,
   "id": "002d1a6a",
   "metadata": {},
   "outputs": [],
   "source": [
    "xdata = data[\"Salinity\"].values\n",
    "ydata = data[\"response\"].values\n",
    "p0 = [1, 0, 100, 50]  # valores iniciales para ajuste\n",
    "\n",
    "popt, _ = curve_fit(LL4, xdata, ydata, p0=p0)\n",
    "\n",
    "b, c, d, e = popt\n",
    "LC50 = e\n",
    "LC50_response = LL4(LC50, *popt)"
   ]
  },
  {
   "cell_type": "markdown",
   "id": "d89d9b2a",
   "metadata": {},
   "source": [
    "- Get curve prediction"
   ]
  },
  {
   "cell_type": "code",
   "execution_count": 36,
   "id": "ad3f363a",
   "metadata": {},
   "outputs": [],
   "source": [
    "x_fit = np.linspace(min(xdata), max(xdata), 200)\n",
    "y_fit = LL4(x_fit, *popt)\n",
    "df_curve = pd.DataFrame({\"Salinity\": x_fit, \"Predicted\": y_fit})"
   ]
  },
  {
   "cell_type": "markdown",
   "id": "a4c420a0",
   "metadata": {},
   "source": [
    "- Generate plot"
   ]
  },
  {
   "cell_type": "code",
   "execution_count": 40,
   "id": "f35afe00",
   "metadata": {},
   "outputs": [
    {
     "data": {
      "image/png": "[encoded data removed]",
      "text/plain": [
       "<Figure size 1000x600 with 1 Axes>"
      ]
     },
     "metadata": {},
     "output_type": "display_data"
    }
   ],
   "source": [
    "sns.set(style=\"whitegrid\", context=\"talk\", font_scale=0.91)\n",
    "plt.figure(figsize=(10, 6))\n",
    "\n",
    "ax = sns.lineplot(\n",
    "    data=df_curve,\n",
    "    x=\"Salinity\",\n",
    "    y=\"Predicted\",\n",
    "    color=\"#1b4965\",\n",
    "    linewidth=2,\n",
    "    label=\"Fitted Curve\"\n",
    ")\n",
    "\n",
    "sns.scatterplot(\n",
    "    data=data,\n",
    "    x=\"Salinity\",\n",
    "    y=\"response\",\n",
    "    color=\"black\",\n",
    "    s=60,\n",
    "    edgecolor=\"white\",\n",
    "    label=\"Observed\"\n",
    ")\n",
    "\n",
    "ax.axvline(LC50, linestyle=\"--\", color=\"red\", linewidth=1.3)\n",
    "ax.axhline(LC50_response, linestyle=\"--\", color=\"red\", linewidth=1.3)\n",
    "ax.plot(LC50, LC50_response, 'o', color=\"red\", markersize=8)\n",
    "ax.text(LC50 + 0.5, LC50_response + 5, f\"LC50 = {LC50:.2f} g/L\",\n",
    "        color=\"red\", fontsize=12, weight='bold')\n",
    "\n",
    "ax.set_xlabel(\"Salinity (g/L)\", fontsize=14)\n",
    "ax.set_ylabel(\"Response (%)\", fontsize=14)\n",
    "ax.set_title(\"Dose–Response Curve\", fontsize=16)\n",
    "ax.legend(title=None, fontsize=11, loc='best', frameon=False)\n",
    "\n",
    "sns.despine()\n",
    "plt.tight_layout()\n",
    "plt.savefig(\"../figures_paper/lc50.png\", dpi=300)\n",
    "plt.show()"
   ]
  }
 ],
 "metadata": {
  "kernelspec": {
   "display_name": "training_models_pi",
   "language": "python",
   "name": "python3"
  },
  "language_info": {
   "codemirror_mode": {
    "name": "ipython",
    "version": 3
   },
   "file_extension": ".py",
   "mimetype": "text/x-python",
   "name": "python",
   "nbconvert_exporter": "python",
   "pygments_lexer": "ipython3",
   "version": "3.12.8"
  }
 },
 "nbformat": 4,
 "nbformat_minor": 5
}
