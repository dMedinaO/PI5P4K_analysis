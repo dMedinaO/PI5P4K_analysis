{
 "cells": [
  {
   "cell_type": "markdown",
   "metadata": {},
   "source": [
    "## Analysis of relative expression"
   ]
  },
  {
   "cell_type": "markdown",
   "metadata": {},
   "source": [
    "- Processing warnings"
   ]
  },
  {
   "cell_type": "code",
   "execution_count": 79,
   "metadata": {},
   "outputs": [],
   "source": [
    "import warnings\n",
    "warnings.filterwarnings('ignore')"
   ]
  },
  {
   "cell_type": "markdown",
   "metadata": {},
   "source": [
    "- Loading modules"
   ]
  },
  {
   "cell_type": "code",
   "execution_count": 80,
   "metadata": {},
   "outputs": [],
   "source": [
    "import pandas as pd\n",
    "import seaborn as sns\n",
    "import matplotlib.pyplot as plt\n",
    "from statsmodels.stats.multicomp import pairwise_tukeyhsd\n",
    "from itertools import combinations"
   ]
  },
  {
   "cell_type": "markdown",
   "metadata": {},
   "source": [
    "- Loading raw data"
   ]
  },
  {
   "cell_type": "code",
   "execution_count": 81,
   "metadata": {},
   "outputs": [
    {
     "data": {
      "text/html": [
       "<div>\n",
       "<style scoped>\n",
       "    .dataframe tbody tr th:only-of-type {\n",
       "        vertical-align: middle;\n",
       "    }\n",
       "\n",
       "    .dataframe tbody tr th {\n",
       "        vertical-align: top;\n",
       "    }\n",
       "\n",
       "    .dataframe thead th {\n",
       "        text-align: right;\n",
       "    }\n",
       "</style>\n",
       "<table border=\"1\" class=\"dataframe\">\n",
       "  <thead>\n",
       "    <tr style=\"text-align: right;\">\n",
       "      <th></th>\n",
       "      <th>sample</th>\n",
       "      <th>expression</th>\n",
       "      <th>treat</th>\n",
       "      <th>time</th>\n",
       "    </tr>\n",
       "  </thead>\n",
       "  <tbody>\n",
       "    <tr>\n",
       "      <th>0</th>\n",
       "      <td>1</td>\n",
       "      <td>1.609675</td>\n",
       "      <td>0</td>\n",
       "      <td>0</td>\n",
       "    </tr>\n",
       "    <tr>\n",
       "      <th>1</th>\n",
       "      <td>1</td>\n",
       "      <td>1.705633</td>\n",
       "      <td>0</td>\n",
       "      <td>0</td>\n",
       "    </tr>\n",
       "    <tr>\n",
       "      <th>2</th>\n",
       "      <td>1</td>\n",
       "      <td>1.839750</td>\n",
       "      <td>0</td>\n",
       "      <td>0</td>\n",
       "    </tr>\n",
       "    <tr>\n",
       "      <th>3</th>\n",
       "      <td>1</td>\n",
       "      <td>1.690755</td>\n",
       "      <td>0</td>\n",
       "      <td>0</td>\n",
       "    </tr>\n",
       "    <tr>\n",
       "      <th>4</th>\n",
       "      <td>1</td>\n",
       "      <td>1.663931</td>\n",
       "      <td>0</td>\n",
       "      <td>0</td>\n",
       "    </tr>\n",
       "    <tr>\n",
       "      <th>...</th>\n",
       "      <td>...</td>\n",
       "      <td>...</td>\n",
       "      <td>...</td>\n",
       "      <td>...</td>\n",
       "    </tr>\n",
       "    <tr>\n",
       "      <th>115</th>\n",
       "      <td>152</td>\n",
       "      <td>0.544677</td>\n",
       "      <td>42</td>\n",
       "      <td>28</td>\n",
       "    </tr>\n",
       "    <tr>\n",
       "      <th>116</th>\n",
       "      <td>153</td>\n",
       "      <td>0.976968</td>\n",
       "      <td>42</td>\n",
       "      <td>28</td>\n",
       "    </tr>\n",
       "    <tr>\n",
       "      <th>117</th>\n",
       "      <td>154</td>\n",
       "      <td>0.417831</td>\n",
       "      <td>42</td>\n",
       "      <td>28</td>\n",
       "    </tr>\n",
       "    <tr>\n",
       "      <th>118</th>\n",
       "      <td>155</td>\n",
       "      <td>0.788235</td>\n",
       "      <td>42</td>\n",
       "      <td>28</td>\n",
       "    </tr>\n",
       "    <tr>\n",
       "      <th>119</th>\n",
       "      <td>156</td>\n",
       "      <td>1.163438</td>\n",
       "      <td>42</td>\n",
       "      <td>28</td>\n",
       "    </tr>\n",
       "  </tbody>\n",
       "</table>\n",
       "<p>120 rows × 4 columns</p>\n",
       "</div>"
      ],
      "text/plain": [
       "     sample  expression  treat  time\n",
       "0         1    1.609675      0     0\n",
       "1         1    1.705633      0     0\n",
       "2         1    1.839750      0     0\n",
       "3         1    1.690755      0     0\n",
       "4         1    1.663931      0     0\n",
       "..      ...         ...    ...   ...\n",
       "115     152    0.544677     42    28\n",
       "116     153    0.976968     42    28\n",
       "117     154    0.417831     42    28\n",
       "118     155    0.788235     42    28\n",
       "119     156    1.163438     42    28\n",
       "\n",
       "[120 rows x 4 columns]"
      ]
     },
     "execution_count": 81,
     "metadata": {},
     "output_type": "execute_result"
    }
   ],
   "source": [
    "df_data = pd.read_excel(\"../raw_data/relative_expression.xlsx\", sheet_name=\"relative_expression\")\n",
    "df_data = df_data[[\"sample\", \"expression\", \"treat\", \"time\"]]\n",
    "df_data"
   ]
  },
  {
   "cell_type": "code",
   "execution_count": 82,
   "metadata": {},
   "outputs": [
    {
     "data": {
      "text/plain": [
       "0     23\n",
       "7     21\n",
       "21    21\n",
       "14    20\n",
       "4     18\n",
       "28    17\n",
       "Name: time, dtype: int64"
      ]
     },
     "execution_count": 82,
     "metadata": {},
     "output_type": "execute_result"
    }
   ],
   "source": [
    "df_data[\"time\"].value_counts()"
   ]
  },
  {
   "cell_type": "code",
   "execution_count": 83,
   "metadata": {},
   "outputs": [
    {
     "data": {
      "text/plain": [
       "36    29\n",
       "34    28\n",
       "42    28\n",
       "0     23\n",
       "49    12\n",
       "Name: treat, dtype: int64"
      ]
     },
     "execution_count": 83,
     "metadata": {},
     "output_type": "execute_result"
    }
   ],
   "source": [
    "df_data[\"treat\"].value_counts()"
   ]
  },
  {
   "cell_type": "code",
   "execution_count": 84,
   "metadata": {},
   "outputs": [],
   "source": [
    "df_data[\"treat\"] = df_data[\"treat\"].replace({0: \"Time Zero (34.0 g/L)\", 34: \"34.0 g/L (Control)\", \n",
    "                                           36: \"36.4 g/L\", 42: \"45.8 g/L\",\n",
    "                                           49: \"51.8 g/L\"})"
   ]
  },
  {
   "cell_type": "markdown",
   "metadata": {},
   "source": [
    "- Creating plot"
   ]
  },
  {
   "cell_type": "code",
   "execution_count": 85,
   "metadata": {},
   "outputs": [],
   "source": [
    "df_data.columns = [\"sample\", \"Relative Expression\",\t\"Dilutions of brine\", \"Days\"]"
   ]
  },
  {
   "cell_type": "code",
   "execution_count": 86,
   "metadata": {},
   "outputs": [],
   "source": [
    "personalized_pallete = [\"#bee9e8\", \"#62b6cb\", \"#1b4965\", \n",
    "                  \"#cae9ff\", \"#5fa8d3\"]"
   ]
  },
  {
   "cell_type": "code",
   "execution_count": 87,
   "metadata": {},
   "outputs": [],
   "source": [
    "df_data[\"Dilutions of brine\"] = df_data[\"Dilutions of brine\"].astype(str)\n",
    "df_data[\"Days\"] = df_data[\"Days\"].astype(int)"
   ]
  },
  {
   "cell_type": "code",
   "execution_count": 88,
   "metadata": {},
   "outputs": [],
   "source": [
    "hue_order = sorted(df_data[\"Dilutions of brine\"].unique())\n",
    "x_ticks = sorted(df_data[\"Days\"].unique())\n",
    "bar_width = 0.8"
   ]
  },
  {
   "cell_type": "code",
   "execution_count": 89,
   "metadata": {},
   "outputs": [
    {
     "data": {
      "image/png": "[encoded data removed]",
      "text/plain": [
       "<Figure size 1000x600 with 1 Axes>"
      ]
     },
     "metadata": {},
     "output_type": "display_data"
    }
   ],
   "source": [
    "sns.set(style=\"ticks\", context=\"talk\", font_scale=1.0)\n",
    "plt.figure(figsize=(10, 6))\n",
    "\n",
    "ax = sns.barplot(\n",
    "    data=df_data,\n",
    "    x=\"Days\",\n",
    "    y=\"Relative Expression\",\n",
    "    hue=\"Dilutions of brine\",\n",
    "    palette=personalized_pallete,\n",
    "    capsize=0.15,\n",
    "    errwidth=1.3,\n",
    "    linewidth=0.5,\n",
    "    hue_order=hue_order\n",
    ")\n",
    "\n",
    "ax.set_xlabel(\"Days\", fontsize=14, weight='bold')\n",
    "ax.set_ylabel(\"Relative Expression\", fontsize=14, weight='bold')\n",
    "ax.grid(True, which='major', axis='both', linestyle='--', linewidth=0.5, alpha=0.7)\n",
    "ax.set_axisbelow(True)\n",
    "ax.legend(title=\"Dilution of Brine\", title_fontsize=12, fontsize=11, loc='upper right', frameon=False)\n",
    "sns.despine()\n",
    "\n",
    "alpha = 0.05\n",
    "\n",
    "for i, day in enumerate(x_ticks):\n",
    "    subdata = df_data[df_data[\"Days\"] == day]\n",
    "    \n",
    "    valid_groups = subdata[\"Dilutions of brine\"].value_counts()\n",
    "    valid_groups = valid_groups[valid_groups >= 2]\n",
    "\n",
    "    if len(valid_groups) < 2:\n",
    "        continue\n",
    "    \n",
    "    subdata = subdata[subdata[\"Dilutions of brine\"].isin(valid_groups.index)]\n",
    "\n",
    "    tukey = pairwise_tukeyhsd(\n",
    "        endog=subdata[\"Relative Expression\"],\n",
    "        groups=subdata[\"Dilutions of brine\"],\n",
    "        alpha=alpha\n",
    "    )\n",
    "    \n",
    "    for res in tukey.summary().data[1:]:\n",
    "        group1, group2, meandiff, pval, lower, upper, reject = res\n",
    "        if reject:\n",
    "            offset1 = hue_order.index(group1)\n",
    "            offset2 = hue_order.index(group2)\n",
    "            group_count = len(hue_order)\n",
    "            spacing = bar_width / group_count\n",
    "            center = i \n",
    "\n",
    "            x1 = center - bar_width / 2 + spacing * (offset1 + 0.5)\n",
    "            x2 = center - bar_width / 2 + spacing * (offset2 + 0.5)\n",
    "\n",
    "            y1 = subdata[subdata[\"Dilutions of brine\"] == group1][\"Relative Expression\"].mean()\n",
    "            y2 = subdata[subdata[\"Dilutions of brine\"] == group2][\"Relative Expression\"].mean()\n",
    "\n",
    "            if y1 > y2:\n",
    "                x_ast, y_ast = x1, y1\n",
    "            else:\n",
    "                x_ast, y_ast = x2, y2\n",
    "\n",
    "            ax.text(\n",
    "                x_ast,\n",
    "                y_ast + 0.15,\n",
    "                \"*\", \n",
    "                ha='center',\n",
    "                va='bottom',\n",
    "                fontsize=16,\n",
    "                weight='bold',\n",
    "                color='black'\n",
    "            )\n",
    "\n",
    "plt.tight_layout()\n",
    "plt.savefig(\"../figures_paper/relative_expression_tukey.png\", dpi=300)\n",
    "plt.show()"
   ]
  }
 ],
 "metadata": {
  "kernelspec": {
   "display_name": "training_models_pi",
   "language": "python",
   "name": "python3"
  },
  "language_info": {
   "codemirror_mode": {
    "name": "ipython",
    "version": 3
   },
   "file_extension": ".py",
   "mimetype": "text/x-python",
   "name": "python",
   "nbconvert_exporter": "python",
   "pygments_lexer": "ipython3",
   "version": "3.12.8"
  }
 },
 "nbformat": 4,
 "nbformat_minor": 2
}
