{
 "cells": [
  {
   "cell_type": "markdown",
   "metadata": {},
   "source": [
    "### Developing a phylogenetic tree for the used oligonucletide data in this work\n",
    "\n",
    "This notebook facilitates the implementation of a phylogenetic tree using the processed sequence in this work. For this, the following steps are implemented:\n",
    "\n",
    "- Read processed sequence in this work\n",
    "- Make a query to Blast for identifying candidates for a multi alignment sequence process\n",
    "- Filter candidates based on stablished criteria\n",
    "- Run a multi alignment sequence\n",
    "- Process the MSA and prepare data for the development of a phylogenetic tree\n",
    "- Generate a phylogenetic tree\n",
    "- Plot phylogenetic tree and save the results"
   ]
  },
  {
   "cell_type": "markdown",
   "metadata": {},
   "source": [
    "- Process warning"
   ]
  },
  {
   "cell_type": "code",
   "execution_count": 148,
   "metadata": {},
   "outputs": [],
   "source": [
    "import warnings\n",
    "warnings.filterwarnings('ignore')"
   ]
  },
  {
   "cell_type": "markdown",
   "metadata": {},
   "source": [
    "- Load modules"
   ]
  },
  {
   "cell_type": "code",
   "execution_count": null,
   "metadata": {},
   "outputs": [],
   "source": [
    "from Bio.Blast import NCBIWWW, NCBIXML\n",
    "from Bio.Align.Applications import ClustalOmegaCommandline\n",
    "from Bio.Phylo.TreeConstruction import DistanceCalculator, DistanceTreeConstructor\n",
    "import matplotlib.pyplot as plt\n",
    "from Bio import SeqIO, Entrez, AlignIO, Phylo\n",
    "from Bio.Seq import Seq\n",
    "from Bio.SeqRecord import SeqRecord\n",
    "import pandas as pd\n",
    "import seaborn as sns"
   ]
  },
  {
   "cell_type": "markdown",
   "metadata": {},
   "source": [
    "- Auxiliar functions"
   ]
  },
  {
   "cell_type": "code",
   "execution_count": 150,
   "metadata": {},
   "outputs": [],
   "source": [
    "def get_organism(title):\n",
    "    values = title.split(\"[\")\n",
    "    organism = values[1].split(\"]\")[0].replace(\" \", \"-\")\n",
    "\n",
    "    if \"beta\" in title or \"Beta\" in title:\n",
    "        organism = f\"{organism}|Beta\"\n",
    "    elif \"alpha\" in title or \"Alpha\" in title:\n",
    "        organism = f\"{organism}|Alpha\"\n",
    "    else:\n",
    "        pass\n",
    "\n",
    "    return organism"
   ]
  },
  {
   "cell_type": "code",
   "execution_count": 151,
   "metadata": {},
   "outputs": [],
   "source": [
    "def get_name(title):\n",
    "\n",
    "    values = title.split(\"[\")\n",
    "    names = values[0]\n",
    "    names = names.strip()\n",
    "    names = names.split(\"[\")\n",
    "    name_protein = names[0]\n",
    "    return name_protein"
   ]
  },
  {
   "cell_type": "code",
   "execution_count": 224,
   "metadata": {},
   "outputs": [],
   "source": [
    "def check_entres_to_ignore(title):\n",
    "\n",
    "    if \"hypothetical\" in title: #or \"unnamed\" in title or \"LOW\" in title or \"partial\" in title or \"protein\" in title or \"spatiotemporal\" in title:\n",
    "        return True\n",
    "    else:\n",
    "        return False"
   ]
  },
  {
   "cell_type": "code",
   "execution_count": 153,
   "metadata": {},
   "outputs": [],
   "source": [
    "def translate_nucleotide_sequence(\n",
    "    nucleotide_seq: str,\n",
    "    frame: int = +1,\n",
    "    remove_stop: bool = True,\n",
    "    id_value: str = \"\"\n",
    ") -> SeqRecord:\n",
    "\n",
    "    seq = Seq(nucleotide_seq)\n",
    "\n",
    "    if frame < 0:\n",
    "        seq = seq.reverse_complement()\n",
    "        offset = abs(frame) - 1\n",
    "    else:\n",
    "        offset = frame - 1\n",
    "\n",
    "    trimmed_seq = seq[offset:]\n",
    "    trimmed_len = len(trimmed_seq) - (len(trimmed_seq) % 3)\n",
    "    coding_seq = trimmed_seq[:trimmed_len]\n",
    "\n",
    "    protein_seq = coding_seq.translate(to_stop=False)\n",
    "\n",
    "    if remove_stop:\n",
    "        protein_seq = protein_seq.rstrip(\"*\")\n",
    "\n",
    "    return SeqRecord(protein_seq, id=id_value, description=f\"Frame {frame}\")\n"
   ]
  },
  {
   "cell_type": "code",
   "execution_count": 154,
   "metadata": {},
   "outputs": [],
   "source": [
    "def fetch_protein_sequence(accession: str, email: str = \"david.medina@cebib.cl\") -> str:\n",
    "\n",
    "    try:\n",
    "        Entrez.email = email\n",
    "\n",
    "        handle = Entrez.efetch(\n",
    "            db=\"protein\",\n",
    "            id=accession,\n",
    "            rettype=\"fasta\",\n",
    "            retmode=\"text\"\n",
    "        )\n",
    "        record = SeqIO.read(handle, \"fasta\")\n",
    "        handle.close()\n",
    "        return str(record.seq)\n",
    "\n",
    "    except Exception as e:\n",
    "        print(f\"Error fetching {accession}: {e}\")\n",
    "        return \"seq not found\""
   ]
  },
  {
   "cell_type": "markdown",
   "metadata": {},
   "source": [
    "- Load input sequence"
   ]
  },
  {
   "cell_type": "code",
   "execution_count": 155,
   "metadata": {},
   "outputs": [
    {
     "data": {
      "text/plain": [
       "{'Organism': 'Study Argopecten purpuratus',\n",
       " 'Sequence': 'TCAGTTCAACAGTGTTTGGGCATGAGTCTCTACAATGTACTGGTGGTATTGTTTTAGCAGGTGATGCATTTGTTCTACTTCTTCACTGACTAGTGTTTTCACAAAGAATTTCTTATCCTGAGACATCAACATCCGGGCCCCACTCCGGCCGGGGGAGTCTACATCCAACGCCTGCTTAGTTAAGGAGTTCATATAATCTTGGTCATCGATTCCGAATCTCTCCCGGAGATTCCTGAACACAACTGGGCAATACTCCTTACCTTGAAATGACTTGGCATACTTTCTTTGTTGTAAGAATGATTGTCCACTCGTACTTTACTGAACGCTTTAAAATCATCGGGCATCAACATTACAGGAAGGTTCACATGGTTCAAGCCATTTATCGTATGATTAATCCCCCACCAATGACATCTAGAGAATCACTAGTGAATTCGCGGCCGCCTGCAGGTCGACCATATGGGAGAGCTCCCAACGCGTTGGATGCATA'}"
      ]
     },
     "execution_count": 155,
     "metadata": {},
     "output_type": "execute_result"
    }
   ],
   "source": [
    "for record in SeqIO.parse(\"../raw_data/oligos_sequences.fasta\", \"fasta\"):\n",
    "    sequences_to_process = {\n",
    "        \"Organism\" : record.description,\n",
    "        \"Sequence\" : str(record.seq)\n",
    "    }\n",
    "\n",
    "sequences_to_process"
   ]
  },
  {
   "cell_type": "markdown",
   "metadata": {},
   "source": [
    "- Making query to NCBI-BLAST for alignment sequences"
   ]
  },
  {
   "cell_type": "code",
   "execution_count": 156,
   "metadata": {},
   "outputs": [],
   "source": [
    "entrez_query = (\n",
    "    \"(Mollusca[Organism] OR Bivalvia[Organism] OR Cephalopoda[Organism] \"\n",
    "    \"OR Mytilus[Organism] OR Crassostrea[Organism] \"\n",
    "    \"OR Argopecten[Organism] OR Anadara[Organism] OR Pectinidae[Organism] \"\n",
    "    \"OR Veneridae[Organism] OR Mizuhopecten[Organism] \"\n",
    "    \"OR Ctenophora[Organism] \"\n",
    "    \"OR Brachiopoda[Organism])\"\n",
    ")"
   ]
  },
  {
   "cell_type": "code",
   "execution_count": 202,
   "metadata": {},
   "outputs": [
    {
     "name": "stdout",
     "output_type": "stream",
     "text": [
      "Sending BLAST query to NCBI...\n",
      "(134, 9)\n"
     ]
    },
    {
     "data": {
      "text/html": [
       "<div>\n",
       "<style scoped>\n",
       "    .dataframe tbody tr th:only-of-type {\n",
       "        vertical-align: middle;\n",
       "    }\n",
       "\n",
       "    .dataframe tbody tr th {\n",
       "        vertical-align: top;\n",
       "    }\n",
       "\n",
       "    .dataframe thead th {\n",
       "        text-align: right;\n",
       "    }\n",
       "</style>\n",
       "<table border=\"1\" class=\"dataframe\">\n",
       "  <thead>\n",
       "    <tr style=\"text-align: right;\">\n",
       "      <th></th>\n",
       "      <th>Hit_def</th>\n",
       "      <th>Accession</th>\n",
       "      <th>Length</th>\n",
       "      <th>Frame</th>\n",
       "      <th>E_value</th>\n",
       "      <th>Score</th>\n",
       "      <th>Identities</th>\n",
       "      <th>Align_length</th>\n",
       "      <th>Percent_identity</th>\n",
       "    </tr>\n",
       "  </thead>\n",
       "  <tbody>\n",
       "    <tr>\n",
       "      <th>0</th>\n",
       "      <td>phosphatidylinositol 5-phosphate 4-kinase type...</td>\n",
       "      <td>XP_069111413</td>\n",
       "      <td>407</td>\n",
       "      <td>-2</td>\n",
       "      <td>5.917040e-70</td>\n",
       "      <td>456.0</td>\n",
       "      <td>85</td>\n",
       "      <td>87</td>\n",
       "      <td>97.70</td>\n",
       "    </tr>\n",
       "    <tr>\n",
       "      <th>1</th>\n",
       "      <td>phosphatidylinositol 5-phosphate 4-kinase type...</td>\n",
       "      <td>XP_033762842</td>\n",
       "      <td>407</td>\n",
       "      <td>-2</td>\n",
       "      <td>9.109530e-70</td>\n",
       "      <td>456.0</td>\n",
       "      <td>85</td>\n",
       "      <td>87</td>\n",
       "      <td>97.70</td>\n",
       "    </tr>\n",
       "    <tr>\n",
       "      <th>2</th>\n",
       "      <td>phosphatidylinositol 5-phosphate 4-kinase type...</td>\n",
       "      <td>XP_060083998</td>\n",
       "      <td>407</td>\n",
       "      <td>-2</td>\n",
       "      <td>1.628360e-69</td>\n",
       "      <td>454.0</td>\n",
       "      <td>84</td>\n",
       "      <td>87</td>\n",
       "      <td>96.55</td>\n",
       "    </tr>\n",
       "    <tr>\n",
       "      <th>3</th>\n",
       "      <td>phosphatidylinositol 5-phosphate 4-kinase type...</td>\n",
       "      <td>XP_021377781</td>\n",
       "      <td>407</td>\n",
       "      <td>-2</td>\n",
       "      <td>1.697330e-69</td>\n",
       "      <td>453.0</td>\n",
       "      <td>84</td>\n",
       "      <td>87</td>\n",
       "      <td>96.55</td>\n",
       "    </tr>\n",
       "    <tr>\n",
       "      <th>4</th>\n",
       "      <td>phosphatidylinositol 5-phosphate 4-kinase type...</td>\n",
       "      <td>XP_060589942</td>\n",
       "      <td>410</td>\n",
       "      <td>-2</td>\n",
       "      <td>6.442520e-59</td>\n",
       "      <td>406.0</td>\n",
       "      <td>73</td>\n",
       "      <td>87</td>\n",
       "      <td>83.91</td>\n",
       "    </tr>\n",
       "  </tbody>\n",
       "</table>\n",
       "</div>"
      ],
      "text/plain": [
       "                                             Hit_def     Accession  Length  \\\n",
       "0  phosphatidylinositol 5-phosphate 4-kinase type...  XP_069111413     407   \n",
       "1  phosphatidylinositol 5-phosphate 4-kinase type...  XP_033762842     407   \n",
       "2  phosphatidylinositol 5-phosphate 4-kinase type...  XP_060083998     407   \n",
       "3  phosphatidylinositol 5-phosphate 4-kinase type...  XP_021377781     407   \n",
       "4  phosphatidylinositol 5-phosphate 4-kinase type...  XP_060589942     410   \n",
       "\n",
       "   Frame       E_value  Score  Identities  Align_length  Percent_identity  \n",
       "0     -2  5.917040e-70  456.0          85            87             97.70  \n",
       "1     -2  9.109530e-70  456.0          85            87             97.70  \n",
       "2     -2  1.628360e-69  454.0          84            87             96.55  \n",
       "3     -2  1.697330e-69  453.0          84            87             96.55  \n",
       "4     -2  6.442520e-59  406.0          73            87             83.91  "
      ]
     },
     "execution_count": 202,
     "metadata": {},
     "output_type": "execute_result"
    }
   ],
   "source": [
    "query_seq = Seq(sequences_to_process[\"Sequence\"])\n",
    "record = SeqRecord(query_seq, id=\"Query1\", description=sequences_to_process[\"Organism\"])\n",
    "\n",
    "print(\"Sending BLAST query to NCBI...\")\n",
    "result_handle = NCBIWWW.qblast(\n",
    "    program=\"blastx\",\n",
    "    database=\"nr\",\n",
    "    sequence=record.format(\"fasta\"),\n",
    "    hitlist_size=10000,\n",
    "    format_type=\"XML\",\n",
    "    entrez_query=entrez_query\n",
    ")\n",
    "\n",
    "blast_records = NCBIXML.read(result_handle)\n",
    "\n",
    "filter_sequences = []\n",
    "\n",
    "for alignment in blast_records.alignments:\n",
    "    hsp = alignment.hsps[0]  # high-scoring pair\n",
    "    \n",
    "    filter_sequences.append({\n",
    "            \"Hit_def\": alignment.hit_def,\n",
    "            \"Accession\": alignment.accession,\n",
    "            \"Length\": alignment.length,\n",
    "            \"Frame\": hsp.frame[0],  # Solo el marco (ej: +1, -3)\n",
    "            \"E_value\": hsp.expect,\n",
    "            \"Score\": hsp.score,\n",
    "            \"Identities\": hsp.identities,\n",
    "            \"Align_length\": hsp.align_length,\n",
    "            \"Percent_identity\": round((hsp.identities / hsp.align_length) * 100, 2)\n",
    "        })\n",
    "\n",
    "df_selected_sequences = pd.DataFrame(\n",
    "    data=filter_sequences)\n",
    "\n",
    "print(df_selected_sequences.shape)\n",
    "df_selected_sequences.head(5)\n"
   ]
  },
  {
   "cell_type": "code",
   "execution_count": 158,
   "metadata": {},
   "outputs": [],
   "source": [
    "df_selected_sequences.to_csv(\"tmp.csv\", index=False)"
   ]
  },
  {
   "cell_type": "code",
   "execution_count": 159,
   "metadata": {},
   "outputs": [
    {
     "data": {
      "text/plain": [
       "(134, 9)"
      ]
     },
     "execution_count": 159,
     "metadata": {},
     "output_type": "execute_result"
    }
   ],
   "source": [
    "df_selected_sequences.shape"
   ]
  },
  {
   "cell_type": "markdown",
   "metadata": {},
   "source": [
    "- Get name, ID, and organism"
   ]
  },
  {
   "cell_type": "code",
   "execution_count": 203,
   "metadata": {},
   "outputs": [],
   "source": [
    "df_selected_sequences[\"organism\"] = df_selected_sequences[\"Hit_def\"].apply(get_organism)\n",
    "df_selected_sequences[\"protein_name\"] = df_selected_sequences[\"Hit_def\"].apply(get_name)"
   ]
  },
  {
   "cell_type": "code",
   "execution_count": 161,
   "metadata": {},
   "outputs": [
    {
     "data": {
      "text/html": [
       "<div>\n",
       "<style scoped>\n",
       "    .dataframe tbody tr th:only-of-type {\n",
       "        vertical-align: middle;\n",
       "    }\n",
       "\n",
       "    .dataframe tbody tr th {\n",
       "        vertical-align: top;\n",
       "    }\n",
       "\n",
       "    .dataframe thead th {\n",
       "        text-align: right;\n",
       "    }\n",
       "</style>\n",
       "<table border=\"1\" class=\"dataframe\">\n",
       "  <thead>\n",
       "    <tr style=\"text-align: right;\">\n",
       "      <th></th>\n",
       "      <th>Hit_def</th>\n",
       "      <th>Accession</th>\n",
       "      <th>Length</th>\n",
       "      <th>Frame</th>\n",
       "      <th>E_value</th>\n",
       "      <th>Score</th>\n",
       "      <th>Identities</th>\n",
       "      <th>Align_length</th>\n",
       "      <th>Percent_identity</th>\n",
       "      <th>organism</th>\n",
       "      <th>protein_name</th>\n",
       "    </tr>\n",
       "  </thead>\n",
       "  <tbody>\n",
       "    <tr>\n",
       "      <th>0</th>\n",
       "      <td>phosphatidylinositol 5-phosphate 4-kinase type...</td>\n",
       "      <td>XP_069111413</td>\n",
       "      <td>407</td>\n",
       "      <td>-2</td>\n",
       "      <td>5.917040e-70</td>\n",
       "      <td>456.0</td>\n",
       "      <td>85</td>\n",
       "      <td>87</td>\n",
       "      <td>97.70</td>\n",
       "      <td>Argopecten-irradians|Alpha</td>\n",
       "      <td>phosphatidylinositol 5-phosphate 4-kinase type...</td>\n",
       "    </tr>\n",
       "    <tr>\n",
       "      <th>1</th>\n",
       "      <td>phosphatidylinositol 5-phosphate 4-kinase type...</td>\n",
       "      <td>XP_033762842</td>\n",
       "      <td>407</td>\n",
       "      <td>-2</td>\n",
       "      <td>9.109530e-70</td>\n",
       "      <td>456.0</td>\n",
       "      <td>85</td>\n",
       "      <td>87</td>\n",
       "      <td>97.70</td>\n",
       "      <td>Pecten-maximus|Alpha</td>\n",
       "      <td>phosphatidylinositol 5-phosphate 4-kinase type...</td>\n",
       "    </tr>\n",
       "    <tr>\n",
       "      <th>2</th>\n",
       "      <td>phosphatidylinositol 5-phosphate 4-kinase type...</td>\n",
       "      <td>XP_060083998</td>\n",
       "      <td>407</td>\n",
       "      <td>-2</td>\n",
       "      <td>1.628360e-69</td>\n",
       "      <td>454.0</td>\n",
       "      <td>84</td>\n",
       "      <td>87</td>\n",
       "      <td>96.55</td>\n",
       "      <td>Ylistrum-balloti|Alpha</td>\n",
       "      <td>phosphatidylinositol 5-phosphate 4-kinase type...</td>\n",
       "    </tr>\n",
       "    <tr>\n",
       "      <th>3</th>\n",
       "      <td>phosphatidylinositol 5-phosphate 4-kinase type...</td>\n",
       "      <td>XP_021377781</td>\n",
       "      <td>407</td>\n",
       "      <td>-2</td>\n",
       "      <td>1.697330e-69</td>\n",
       "      <td>453.0</td>\n",
       "      <td>84</td>\n",
       "      <td>87</td>\n",
       "      <td>96.55</td>\n",
       "      <td>Mizuhopecten-yessoensis|Beta</td>\n",
       "      <td>phosphatidylinositol 5-phosphate 4-kinase type...</td>\n",
       "    </tr>\n",
       "    <tr>\n",
       "      <th>4</th>\n",
       "      <td>phosphatidylinositol 5-phosphate 4-kinase type...</td>\n",
       "      <td>XP_060589942</td>\n",
       "      <td>410</td>\n",
       "      <td>-2</td>\n",
       "      <td>6.442520e-59</td>\n",
       "      <td>406.0</td>\n",
       "      <td>73</td>\n",
       "      <td>87</td>\n",
       "      <td>83.91</td>\n",
       "      <td>Ruditapes-philippinarum|Alpha</td>\n",
       "      <td>phosphatidylinositol 5-phosphate 4-kinase type...</td>\n",
       "    </tr>\n",
       "  </tbody>\n",
       "</table>\n",
       "</div>"
      ],
      "text/plain": [
       "                                             Hit_def     Accession  Length  \\\n",
       "0  phosphatidylinositol 5-phosphate 4-kinase type...  XP_069111413     407   \n",
       "1  phosphatidylinositol 5-phosphate 4-kinase type...  XP_033762842     407   \n",
       "2  phosphatidylinositol 5-phosphate 4-kinase type...  XP_060083998     407   \n",
       "3  phosphatidylinositol 5-phosphate 4-kinase type...  XP_021377781     407   \n",
       "4  phosphatidylinositol 5-phosphate 4-kinase type...  XP_060589942     410   \n",
       "\n",
       "   Frame       E_value  Score  Identities  Align_length  Percent_identity  \\\n",
       "0     -2  5.917040e-70  456.0          85            87             97.70   \n",
       "1     -2  9.109530e-70  456.0          85            87             97.70   \n",
       "2     -2  1.628360e-69  454.0          84            87             96.55   \n",
       "3     -2  1.697330e-69  453.0          84            87             96.55   \n",
       "4     -2  6.442520e-59  406.0          73            87             83.91   \n",
       "\n",
       "                        organism  \\\n",
       "0     Argopecten-irradians|Alpha   \n",
       "1           Pecten-maximus|Alpha   \n",
       "2         Ylistrum-balloti|Alpha   \n",
       "3   Mizuhopecten-yessoensis|Beta   \n",
       "4  Ruditapes-philippinarum|Alpha   \n",
       "\n",
       "                                        protein_name  \n",
       "0  phosphatidylinositol 5-phosphate 4-kinase type...  \n",
       "1  phosphatidylinositol 5-phosphate 4-kinase type...  \n",
       "2  phosphatidylinositol 5-phosphate 4-kinase type...  \n",
       "3  phosphatidylinositol 5-phosphate 4-kinase type...  \n",
       "4  phosphatidylinositol 5-phosphate 4-kinase type...  "
      ]
     },
     "execution_count": 161,
     "metadata": {},
     "output_type": "execute_result"
    }
   ],
   "source": [
    "df_selected_sequences.head(5)"
   ]
  },
  {
   "cell_type": "code",
   "execution_count": 204,
   "metadata": {},
   "outputs": [
    {
     "data": {
      "text/plain": [
       "(134, 11)"
      ]
     },
     "execution_count": 204,
     "metadata": {},
     "output_type": "execute_result"
    }
   ],
   "source": [
    "df_selected_sequences.shape"
   ]
  },
  {
   "cell_type": "markdown",
   "metadata": {},
   "source": [
    "- Removing PREDICTED/Uncultured elements"
   ]
  },
  {
   "cell_type": "code",
   "execution_count": 163,
   "metadata": {},
   "outputs": [
    {
     "name": "stdout",
     "output_type": "stream",
     "text": [
      "(95, 12)\n"
     ]
    },
    {
     "data": {
      "text/html": [
       "<div>\n",
       "<style scoped>\n",
       "    .dataframe tbody tr th:only-of-type {\n",
       "        vertical-align: middle;\n",
       "    }\n",
       "\n",
       "    .dataframe tbody tr th {\n",
       "        vertical-align: top;\n",
       "    }\n",
       "\n",
       "    .dataframe thead th {\n",
       "        text-align: right;\n",
       "    }\n",
       "</style>\n",
       "<table border=\"1\" class=\"dataframe\">\n",
       "  <thead>\n",
       "    <tr style=\"text-align: right;\">\n",
       "      <th></th>\n",
       "      <th>Hit_def</th>\n",
       "      <th>Accession</th>\n",
       "      <th>Length</th>\n",
       "      <th>Frame</th>\n",
       "      <th>E_value</th>\n",
       "      <th>Score</th>\n",
       "      <th>Identities</th>\n",
       "      <th>Align_length</th>\n",
       "      <th>Percent_identity</th>\n",
       "      <th>organism</th>\n",
       "      <th>protein_name</th>\n",
       "      <th>to_ignore</th>\n",
       "    </tr>\n",
       "  </thead>\n",
       "  <tbody>\n",
       "    <tr>\n",
       "      <th>1</th>\n",
       "      <td>phosphatidylinositol 5-phosphate 4-kinase type...</td>\n",
       "      <td>XP_033762842</td>\n",
       "      <td>407</td>\n",
       "      <td>-2</td>\n",
       "      <td>9.109530e-70</td>\n",
       "      <td>456.0</td>\n",
       "      <td>85</td>\n",
       "      <td>87</td>\n",
       "      <td>97.70</td>\n",
       "      <td>Pecten-maximus|Alpha</td>\n",
       "      <td>phosphatidylinositol 5-phosphate 4-kinase type...</td>\n",
       "      <td>False</td>\n",
       "    </tr>\n",
       "    <tr>\n",
       "      <th>2</th>\n",
       "      <td>phosphatidylinositol 5-phosphate 4-kinase type...</td>\n",
       "      <td>XP_060083998</td>\n",
       "      <td>407</td>\n",
       "      <td>-2</td>\n",
       "      <td>1.628360e-69</td>\n",
       "      <td>454.0</td>\n",
       "      <td>84</td>\n",
       "      <td>87</td>\n",
       "      <td>96.55</td>\n",
       "      <td>Ylistrum-balloti|Alpha</td>\n",
       "      <td>phosphatidylinositol 5-phosphate 4-kinase type...</td>\n",
       "      <td>False</td>\n",
       "    </tr>\n",
       "    <tr>\n",
       "      <th>3</th>\n",
       "      <td>phosphatidylinositol 5-phosphate 4-kinase type...</td>\n",
       "      <td>XP_021377781</td>\n",
       "      <td>407</td>\n",
       "      <td>-2</td>\n",
       "      <td>1.697330e-69</td>\n",
       "      <td>453.0</td>\n",
       "      <td>84</td>\n",
       "      <td>87</td>\n",
       "      <td>96.55</td>\n",
       "      <td>Mizuhopecten-yessoensis|Beta</td>\n",
       "      <td>phosphatidylinositol 5-phosphate 4-kinase type...</td>\n",
       "      <td>False</td>\n",
       "    </tr>\n",
       "    <tr>\n",
       "      <th>4</th>\n",
       "      <td>phosphatidylinositol 5-phosphate 4-kinase type...</td>\n",
       "      <td>XP_060589942</td>\n",
       "      <td>410</td>\n",
       "      <td>-2</td>\n",
       "      <td>6.442520e-59</td>\n",
       "      <td>406.0</td>\n",
       "      <td>73</td>\n",
       "      <td>87</td>\n",
       "      <td>83.91</td>\n",
       "      <td>Ruditapes-philippinarum|Alpha</td>\n",
       "      <td>phosphatidylinositol 5-phosphate 4-kinase type...</td>\n",
       "      <td>False</td>\n",
       "    </tr>\n",
       "    <tr>\n",
       "      <th>5</th>\n",
       "      <td>phosphatidylinositol 5-phosphate 4-kinase type...</td>\n",
       "      <td>XP_064613695</td>\n",
       "      <td>433</td>\n",
       "      <td>-2</td>\n",
       "      <td>6.656470e-59</td>\n",
       "      <td>393.0</td>\n",
       "      <td>72</td>\n",
       "      <td>87</td>\n",
       "      <td>82.76</td>\n",
       "      <td>Liolophura-japonica|Alpha</td>\n",
       "      <td>phosphatidylinositol 5-phosphate 4-kinase type...</td>\n",
       "      <td>False</td>\n",
       "    </tr>\n",
       "  </tbody>\n",
       "</table>\n",
       "</div>"
      ],
      "text/plain": [
       "                                             Hit_def     Accession  Length  \\\n",
       "1  phosphatidylinositol 5-phosphate 4-kinase type...  XP_033762842     407   \n",
       "2  phosphatidylinositol 5-phosphate 4-kinase type...  XP_060083998     407   \n",
       "3  phosphatidylinositol 5-phosphate 4-kinase type...  XP_021377781     407   \n",
       "4  phosphatidylinositol 5-phosphate 4-kinase type...  XP_060589942     410   \n",
       "5  phosphatidylinositol 5-phosphate 4-kinase type...  XP_064613695     433   \n",
       "\n",
       "   Frame       E_value  Score  Identities  Align_length  Percent_identity  \\\n",
       "1     -2  9.109530e-70  456.0          85            87             97.70   \n",
       "2     -2  1.628360e-69  454.0          84            87             96.55   \n",
       "3     -2  1.697330e-69  453.0          84            87             96.55   \n",
       "4     -2  6.442520e-59  406.0          73            87             83.91   \n",
       "5     -2  6.656470e-59  393.0          72            87             82.76   \n",
       "\n",
       "                        organism  \\\n",
       "1           Pecten-maximus|Alpha   \n",
       "2         Ylistrum-balloti|Alpha   \n",
       "3   Mizuhopecten-yessoensis|Beta   \n",
       "4  Ruditapes-philippinarum|Alpha   \n",
       "5      Liolophura-japonica|Alpha   \n",
       "\n",
       "                                        protein_name  to_ignore  \n",
       "1  phosphatidylinositol 5-phosphate 4-kinase type...      False  \n",
       "2  phosphatidylinositol 5-phosphate 4-kinase type...      False  \n",
       "3  phosphatidylinositol 5-phosphate 4-kinase type...      False  \n",
       "4  phosphatidylinositol 5-phosphate 4-kinase type...      False  \n",
       "5  phosphatidylinositol 5-phosphate 4-kinase type...      False  "
      ]
     },
     "execution_count": 163,
     "metadata": {},
     "output_type": "execute_result"
    }
   ],
   "source": [
    "df_selected_sequences[\"to_ignore\"] = df_selected_sequences[\"Hit_def\"].apply(check_entres_to_ignore)\n",
    "df_selected_sequences[\"to_ignore\"].value_counts()\n",
    "df_selected_sequences = df_selected_sequences[df_selected_sequences[\"to_ignore\"]==False]\n",
    "print(df_selected_sequences.shape)\n",
    "df_selected_sequences.head(5)"
   ]
  },
  {
   "cell_type": "code",
   "execution_count": 205,
   "metadata": {},
   "outputs": [
    {
     "data": {
      "text/plain": [
       "Ostrea-edulis                  9\n",
       "Bolinopsis-microptera|Alpha    9\n",
       "Magallana-gigas                8\n",
       "Mya-arenaria                   6\n",
       "Magallana-angulata             6\n",
       "Dreissena-polymorpha           6\n",
       "Name: organism, dtype: int64"
      ]
     },
     "execution_count": 205,
     "metadata": {},
     "output_type": "execute_result"
    }
   ],
   "source": [
    "df_selected_sequences[\"organism\"].value_counts().head(6)"
   ]
  },
  {
   "cell_type": "markdown",
   "metadata": {},
   "source": [
    "- Checking duplicated entries. Including organisms and sequences"
   ]
  },
  {
   "cell_type": "code",
   "execution_count": 206,
   "metadata": {},
   "outputs": [
    {
     "name": "stdout",
     "output_type": "stream",
     "text": [
      "(45, 10) (23, 10)\n"
     ]
    }
   ],
   "source": [
    "organism_count = df_selected_sequences.groupby(by=\"organism\").count().sort_values(by=\"Hit_def\", ascending=False)\n",
    "unique_organism = organism_count[organism_count[\"Hit_def\"]==1]\n",
    "duplicated_organism = organism_count[organism_count[\"Hit_def\"]>1]\n",
    "\n",
    "print(unique_organism.shape, duplicated_organism.shape)"
   ]
  },
  {
   "cell_type": "code",
   "execution_count": 207,
   "metadata": {},
   "outputs": [
    {
     "data": {
      "text/plain": [
       "(45, 11)"
      ]
     },
     "execution_count": 207,
     "metadata": {},
     "output_type": "execute_result"
    }
   ],
   "source": [
    "filter_unique_organism = df_selected_sequences[df_selected_sequences[\"organism\"].isin(unique_organism.index)]\n",
    "filter_unique_organism.shape"
   ]
  },
  {
   "cell_type": "code",
   "execution_count": 208,
   "metadata": {},
   "outputs": [
    {
     "data": {
      "text/plain": [
       "Index(['Hit_def', 'Accession', 'Length', 'Frame', 'E_value', 'Score',\n",
       "       'Identities', 'Align_length', 'Percent_identity', 'organism',\n",
       "       'protein_name'],\n",
       "      dtype='object')"
      ]
     },
     "execution_count": 208,
     "metadata": {},
     "output_type": "execute_result"
    }
   ],
   "source": [
    "filter_unique_organism.columns"
   ]
  },
  {
   "cell_type": "code",
   "execution_count": 210,
   "metadata": {},
   "outputs": [
    {
     "data": {
      "text/html": [
       "<div>\n",
       "<style scoped>\n",
       "    .dataframe tbody tr th:only-of-type {\n",
       "        vertical-align: middle;\n",
       "    }\n",
       "\n",
       "    .dataframe tbody tr th {\n",
       "        vertical-align: top;\n",
       "    }\n",
       "\n",
       "    .dataframe thead th {\n",
       "        text-align: right;\n",
       "    }\n",
       "</style>\n",
       "<table border=\"1\" class=\"dataframe\">\n",
       "  <thead>\n",
       "    <tr style=\"text-align: right;\">\n",
       "      <th></th>\n",
       "      <th>Hit_def</th>\n",
       "      <th>Accession</th>\n",
       "      <th>Length</th>\n",
       "      <th>Frame</th>\n",
       "      <th>E_value</th>\n",
       "      <th>Score</th>\n",
       "      <th>Identities</th>\n",
       "      <th>Align_length</th>\n",
       "      <th>Percent_identity</th>\n",
       "      <th>organism</th>\n",
       "      <th>protein_name</th>\n",
       "    </tr>\n",
       "  </thead>\n",
       "  <tbody>\n",
       "    <tr>\n",
       "      <th>0</th>\n",
       "      <td>1-phosphatidylinositol 3-phosphate 5-kinase-li...</td>\n",
       "      <td>XP_055998373</td>\n",
       "      <td>2077</td>\n",
       "      <td>-2</td>\n",
       "      <td>1.587310e+00</td>\n",
       "      <td>79.0</td>\n",
       "      <td>25</td>\n",
       "      <td>87</td>\n",
       "      <td>28.74</td>\n",
       "      <td>Ostrea-edulis</td>\n",
       "      <td>1-phosphatidylinositol 3-phosphate 5-kinase-li...</td>\n",
       "    </tr>\n",
       "    <tr>\n",
       "      <th>1</th>\n",
       "      <td>phosphatidylinositol 5-phosphate 4-kinase type...</td>\n",
       "      <td>XP_063681229</td>\n",
       "      <td>389</td>\n",
       "      <td>-2</td>\n",
       "      <td>8.840280e-22</td>\n",
       "      <td>181.0</td>\n",
       "      <td>39</td>\n",
       "      <td>93</td>\n",
       "      <td>41.94</td>\n",
       "      <td>Bolinopsis-microptera|Alpha</td>\n",
       "      <td>phosphatidylinositol 5-phosphate 4-kinase type...</td>\n",
       "    </tr>\n",
       "    <tr>\n",
       "      <th>2</th>\n",
       "      <td>1-phosphatidylinositol 3-phosphate 5-kinase is...</td>\n",
       "      <td>XP_034323711</td>\n",
       "      <td>2143</td>\n",
       "      <td>-2</td>\n",
       "      <td>1.986730e+00</td>\n",
       "      <td>79.0</td>\n",
       "      <td>25</td>\n",
       "      <td>80</td>\n",
       "      <td>31.25</td>\n",
       "      <td>Magallana-gigas</td>\n",
       "      <td>1-phosphatidylinositol 3-phosphate 5-kinase is...</td>\n",
       "    </tr>\n",
       "    <tr>\n",
       "      <th>3</th>\n",
       "      <td>PI42B-like protein, partial [Mya arenaria]</td>\n",
       "      <td>WAQ93696</td>\n",
       "      <td>286</td>\n",
       "      <td>-2</td>\n",
       "      <td>4.072420e-26</td>\n",
       "      <td>262.0</td>\n",
       "      <td>48</td>\n",
       "      <td>61</td>\n",
       "      <td>78.69</td>\n",
       "      <td>Mya-arenaria</td>\n",
       "      <td>PI42B-like protein, partial</td>\n",
       "    </tr>\n",
       "    <tr>\n",
       "      <th>4</th>\n",
       "      <td>1-phosphatidylinositol 3-phosphate 5-kinase-li...</td>\n",
       "      <td>XP_052697493</td>\n",
       "      <td>2118</td>\n",
       "      <td>-2</td>\n",
       "      <td>2.139150e+00</td>\n",
       "      <td>78.0</td>\n",
       "      <td>25</td>\n",
       "      <td>86</td>\n",
       "      <td>29.07</td>\n",
       "      <td>Magallana-angulata</td>\n",
       "      <td>1-phosphatidylinositol 3-phosphate 5-kinase-li...</td>\n",
       "    </tr>\n",
       "  </tbody>\n",
       "</table>\n",
       "</div>"
      ],
      "text/plain": [
       "                                             Hit_def     Accession  Length  \\\n",
       "0  1-phosphatidylinositol 3-phosphate 5-kinase-li...  XP_055998373    2077   \n",
       "1  phosphatidylinositol 5-phosphate 4-kinase type...  XP_063681229     389   \n",
       "2  1-phosphatidylinositol 3-phosphate 5-kinase is...  XP_034323711    2143   \n",
       "3         PI42B-like protein, partial [Mya arenaria]      WAQ93696     286   \n",
       "4  1-phosphatidylinositol 3-phosphate 5-kinase-li...  XP_052697493    2118   \n",
       "\n",
       "   Frame       E_value  Score  Identities  Align_length  Percent_identity  \\\n",
       "0     -2  1.587310e+00   79.0          25            87             28.74   \n",
       "1     -2  8.840280e-22  181.0          39            93             41.94   \n",
       "2     -2  1.986730e+00   79.0          25            80             31.25   \n",
       "3     -2  4.072420e-26  262.0          48            61             78.69   \n",
       "4     -2  2.139150e+00   78.0          25            86             29.07   \n",
       "\n",
       "                      organism  \\\n",
       "0                Ostrea-edulis   \n",
       "1  Bolinopsis-microptera|Alpha   \n",
       "2              Magallana-gigas   \n",
       "3                 Mya-arenaria   \n",
       "4           Magallana-angulata   \n",
       "\n",
       "                                        protein_name  \n",
       "0  1-phosphatidylinositol 3-phosphate 5-kinase-li...  \n",
       "1  phosphatidylinositol 5-phosphate 4-kinase type...  \n",
       "2  1-phosphatidylinositol 3-phosphate 5-kinase is...  \n",
       "3                        PI42B-like protein, partial  \n",
       "4  1-phosphatidylinositol 3-phosphate 5-kinase-li...  "
      ]
     },
     "execution_count": 210,
     "metadata": {},
     "output_type": "execute_result"
    }
   ],
   "source": [
    "matrix_duplicated = []\n",
    "for organism in duplicated_organism.index:\n",
    "    records_in_df = df_selected_sequences[df_selected_sequences[\"organism\"] == organism]\n",
    "    records_in_df.reset_index(inplace=True)\n",
    "        \n",
    "    row = []\n",
    "\n",
    "    for column in ['Hit_def', 'Accession', 'Length', 'Frame', 'E_value', 'Score',\n",
    "       'Identities', 'Align_length', 'Percent_identity', 'organism',\n",
    "       'protein_name']:\n",
    "        row.append(records_in_df[column][0])\n",
    "    \n",
    "    matrix_duplicated.append(row)\n",
    "\n",
    "df_selected_duplicated = pd.DataFrame(data=matrix_duplicated, columns=filter_unique_organism.columns)\n",
    "df_selected_duplicated.head(5)"
   ]
  },
  {
   "cell_type": "code",
   "execution_count": 211,
   "metadata": {},
   "outputs": [
    {
     "data": {
      "text/plain": [
       "(68, 11)"
      ]
     },
     "execution_count": 211,
     "metadata": {},
     "output_type": "execute_result"
    }
   ],
   "source": [
    "processed_df = pd.concat([filter_unique_organism, df_selected_duplicated], axis=0)\n",
    "processed_df.reset_index(inplace=True)\n",
    "processed_df = processed_df.drop(columns=[\"index\"])\n",
    "processed_df.shape"
   ]
  },
  {
   "cell_type": "markdown",
   "metadata": {},
   "source": [
    "- Check identity"
   ]
  },
  {
   "cell_type": "code",
   "execution_count": 212,
   "metadata": {},
   "outputs": [
    {
     "data": {
      "text/plain": [
       "count    68.000000\n",
       "mean     73.150441\n",
       "std      17.940365\n",
       "min      28.740000\n",
       "25%      73.572500\n",
       "50%      79.000000\n",
       "75%      82.055000\n",
       "max      97.700000\n",
       "Name: Percent_identity, dtype: float64"
      ]
     },
     "execution_count": 212,
     "metadata": {},
     "output_type": "execute_result"
    }
   ],
   "source": [
    "processed_df[\"Percent_identity\"].describe()"
   ]
  },
  {
   "cell_type": "code",
   "execution_count": 213,
   "metadata": {},
   "outputs": [
    {
     "data": {
      "text/plain": [
       "<Axes: xlabel='Percent_identity', ylabel='Count'>"
      ]
     },
     "execution_count": 213,
     "metadata": {},
     "output_type": "execute_result"
    },
    {
     "data": {
      "image/png": "[encoded data removed]",
      "text/plain": [
       "<Figure size 640x480 with 1 Axes>"
      ]
     },
     "metadata": {},
     "output_type": "display_data"
    }
   ],
   "source": [
    "sns.histplot(data=processed_df, x=\"Percent_identity\", fill=False)"
   ]
  },
  {
   "cell_type": "code",
   "execution_count": 215,
   "metadata": {},
   "outputs": [
    {
     "data": {
      "text/plain": [
       "(54, 11)"
      ]
     },
     "execution_count": 215,
     "metadata": {},
     "output_type": "execute_result"
    }
   ],
   "source": [
    "processed_df = processed_df[processed_df[\"Percent_identity\"]>70]\n",
    "processed_df.shape"
   ]
  },
  {
   "cell_type": "markdown",
   "metadata": {},
   "source": [
    "- Get full sequences"
   ]
  },
  {
   "cell_type": "code",
   "execution_count": 216,
   "metadata": {},
   "outputs": [],
   "source": [
    "processed_df[\"full_sequence\"] = processed_df[\"Accession\"].apply(fetch_protein_sequence)"
   ]
  },
  {
   "cell_type": "code",
   "execution_count": 217,
   "metadata": {},
   "outputs": [
    {
     "data": {
      "text/plain": [
       "(54, 12)"
      ]
     },
     "execution_count": 217,
     "metadata": {},
     "output_type": "execute_result"
    }
   ],
   "source": [
    "processed_df = processed_df[processed_df[\"full_sequence\"] != \"seq not found\"]\n",
    "processed_df.shape"
   ]
  },
  {
   "cell_type": "markdown",
   "metadata": {},
   "source": [
    "- Checking length"
   ]
  },
  {
   "cell_type": "code",
   "execution_count": 218,
   "metadata": {},
   "outputs": [
    {
     "data": {
      "text/plain": [
       "count     54.000000\n",
       "mean     378.888889\n",
       "std       65.986753\n",
       "min       55.000000\n",
       "25%      370.500000\n",
       "50%      407.000000\n",
       "75%      410.750000\n",
       "max      439.000000\n",
       "Name: length, dtype: float64"
      ]
     },
     "execution_count": 218,
     "metadata": {},
     "output_type": "execute_result"
    }
   ],
   "source": [
    "processed_df[\"length\"] = processed_df[\"full_sequence\"].str.len()\n",
    "processed_df[\"length\"].describe()"
   ]
  },
  {
   "cell_type": "markdown",
   "metadata": {},
   "source": [
    "- Prepare a fasta file for generating the MSA"
   ]
  },
  {
   "cell_type": "code",
   "execution_count": 241,
   "metadata": {},
   "outputs": [
    {
     "name": "stdout",
     "output_type": "stream",
     "text": [
      "CIQRVGSSPIWSTCRRPRIH**FSRCHWWGINHTINGLNHVNLPVMLMPDDFKAFSKVRVDNHSYNKESMPSHFKVRSIAQLCSGISGRDSESMTKII*TP*LSRRWM*TPPAGVGPGC*CLRIRNSL*KH*SVKK*NKCITC*NNTTSTL*RLMPKHC*T\n"
     ]
    }
   ],
   "source": [
    "translated = translate_nucleotide_sequence(sequences_to_process[\"Sequence\"], frame=-3, id_value=\"Studied-Argopecten purpuratus\")\n",
    "print(translated.seq)"
   ]
  },
  {
   "cell_type": "code",
   "execution_count": 242,
   "metadata": {},
   "outputs": [
    {
     "data": {
      "text/plain": [
       "55"
      ]
     },
     "execution_count": 242,
     "metadata": {},
     "output_type": "execute_result"
    }
   ],
   "source": [
    "fasta_file = \"tmp.fasta\"\n",
    "records = [\n",
    "    SeqRecord(Seq(seq), id=seq_id, description=\"\")\n",
    "    for seq_id, seq in zip(processed_df[\"organism\"], processed_df[\"full_sequence\"])\n",
    "]\n",
    "\n",
    "records.append(translated)\n",
    "\n",
    "SeqIO.write(records, fasta_file, \"fasta\")"
   ]
  },
  {
   "cell_type": "markdown",
   "metadata": {},
   "source": [
    "- Runing MSA"
   ]
  },
  {
   "cell_type": "code",
   "execution_count": 243,
   "metadata": {},
   "outputs": [
    {
     "name": "stdout",
     "output_type": "stream",
     "text": [
      "Running alignment...\n"
     ]
    }
   ],
   "source": [
    "aligned_file = \"aligned_sequences.fasta\"\n",
    "clustalomega_cline = ClustalOmegaCommandline(\n",
    "    infile=fasta_file, outfile=aligned_file, verbose=True, auto=True, force=True\n",
    ")\n",
    "print(\"Running alignment...\")\n",
    "stdout, stderr = clustalomega_cline()"
   ]
  },
  {
   "cell_type": "markdown",
   "metadata": {},
   "source": [
    "- Read alignment and estimate distances and Ploting"
   ]
  },
  {
   "cell_type": "code",
   "execution_count": 244,
   "metadata": {},
   "outputs": [
    {
     "data": {
      "image/png": "[encoded data removed]",
      "text/plain": [
       "<Figure size 2000x1400 with 1 Axes>"
      ]
     },
     "metadata": {},
     "output_type": "display_data"
    }
   ],
   "source": [
    "alignment = AlignIO.read(aligned_file, \"fasta\")\n",
    "calculator = DistanceCalculator(\"blosum62\")\n",
    "constructor = DistanceTreeConstructor()\n",
    "\n",
    "dm = calculator.get_distance(alignment)\n",
    "tree = constructor.nj(dm)\n",
    "\n",
    "for clade in tree.find_clades():\n",
    "    if clade.name:\n",
    "        if clade.name.startswith(\"Inner\"):\n",
    "            clade.name = \"\"\n",
    "        else:\n",
    "            parts = clade.name.split(\"|\")\n",
    "            raw_name = parts[0]\n",
    "            subtype = parts[1].lower() if len(parts) > 1 else \"\"\n",
    "\n",
    "            formatted_name = raw_name.replace(\"-\", \"   \").strip()\n",
    "            formatted_name = f\"$\\\\it{{{formatted_name}}}$\"\n",
    "            clade.name = formatted_name\n",
    "\n",
    "            if subtype == \"alpha\":\n",
    "                clade.color = \"#c1121f\"\n",
    "            elif subtype == \"beta\":\n",
    "                clade.color = \"#bee9e8\"\n",
    "\n",
    "fig = plt.figure(figsize=(20, 14))\n",
    "ax = fig.add_subplot(1, 1, 1)\n",
    "\n",
    "Phylo.draw(tree, do_show=False, axes=ax, show_confidence=True)\n",
    "\n",
    "plt.subplots_adjust(right=0.7)\n",
    "\n",
    "legend_elements = [\n",
    "    plt.Line2D([0], [0], marker='o', color='w', label='Alpha', markerfacecolor=\"#c1121f\", markersize=8),\n",
    "    plt.Line2D([0], [0], marker='o', color='w', label='Beta', markerfacecolor=\"#bee9e8\", markersize=8)\n",
    "]\n",
    "\n",
    "ax.set_xlabel(\"Branch length\", fontsize=14)\n",
    "ax.set_ylabel(\"Taxa\", fontsize=14)\n",
    "\n",
    "ax.legend(handles=legend_elements, loc='lower right', title=\"Subtype\", fontsize=12)\n",
    "\n",
    "sns.despine()\n",
    "#plt.tight_layout()\n",
    "plt.show()"
   ]
  }
 ],
 "metadata": {
  "kernelspec": {
   "display_name": "training_models_pi",
   "language": "python",
   "name": "python3"
  },
  "language_info": {
   "codemirror_mode": {
    "name": "ipython",
    "version": 3
   },
   "file_extension": ".py",
   "mimetype": "text/x-python",
   "name": "python",
   "nbconvert_exporter": "python",
   "pygments_lexer": "ipython3",
   "version": "3.12.8"
  }
 },
 "nbformat": 4,
 "nbformat_minor": 2
}
