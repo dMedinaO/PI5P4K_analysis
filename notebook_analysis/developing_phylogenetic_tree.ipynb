{
 "cells": [
  {
   "cell_type": "markdown",
   "metadata": {},
   "source": [
    "### Developing a phylogenetic tree for the used oligonucletide data in this work\n",
    "\n",
    "This notebook facilitates the implementation of a phylogenetic tree using the processed sequence in this work. For this, the following steps are implemented:\n",
    "\n",
    "- Read processed sequence in this work\n",
    "- Make a query to Blast for identifying candidates for a multi alignment sequence process\n",
    "- Filter candidates based on stablished criteria\n",
    "- Run a multi alignment sequence\n",
    "- Process the MSA and prepare data for the development of a phylogenetic tree\n",
    "- Generate a phylogenetic tree\n",
    "- Plot phylogenetic tree and save the results"
   ]
  },
  {
   "cell_type": "markdown",
   "metadata": {},
   "source": [
    "- Process warning"
   ]
  },
  {
   "cell_type": "code",
   "execution_count": 1,
   "metadata": {},
   "outputs": [],
   "source": [
    "import warnings\n",
    "warnings.filterwarnings('ignore')"
   ]
  },
  {
   "cell_type": "markdown",
   "metadata": {},
   "source": [
    "- Load modules"
   ]
  },
  {
   "cell_type": "code",
   "execution_count": 2,
   "metadata": {},
   "outputs": [],
   "source": [
    "from Bio.Blast import NCBIWWW, NCBIXML\n",
    "from Bio.Align.Applications import ClustalOmegaCommandline\n",
    "from Bio.Phylo.TreeConstruction import DistanceCalculator, DistanceTreeConstructor\n",
    "import matplotlib.pyplot as plt\n",
    "from Bio import SeqIO, Entrez, AlignIO, Phylo\n",
    "from Bio.Seq import Seq\n",
    "from Bio.SeqRecord import SeqRecord\n",
    "import pandas as pd\n",
    "import seaborn as sns\n",
    "import os\n",
    "import re"
   ]
  },
  {
   "cell_type": "markdown",
   "metadata": {},
   "source": [
    "- Auxiliar functions"
   ]
  },
  {
   "cell_type": "code",
   "execution_count": 3,
   "metadata": {},
   "outputs": [],
   "source": [
    "def apply_process_to_name(title):\n",
    "\n",
    "    values = title.split(\"|\")\n",
    "    names = values[-1]\n",
    "    names = names.strip()\n",
    "    names_list = names.split(\" \")\n",
    "    name_data = f\"{names_list[0]} {names_list[1]}\"\n",
    "    return name_data"
   ]
  },
  {
   "cell_type": "code",
   "execution_count": 4,
   "metadata": {},
   "outputs": [],
   "source": [
    "def get_gi(title):\n",
    "    values = title.split(\"|\")\n",
    "    gi_id = f\"{values[0]}|{values[1]}\"\n",
    "    return gi_id"
   ]
  },
  {
   "cell_type": "code",
   "execution_count": 5,
   "metadata": {},
   "outputs": [],
   "source": [
    "def get_additional_id(title):\n",
    "    values = title.split(\"|\")\n",
    "    additional_id = f\"{values[2]}|{values[3]}\"\n",
    "    return additional_id"
   ]
  },
  {
   "cell_type": "code",
   "execution_count": 6,
   "metadata": {},
   "outputs": [],
   "source": [
    "def check_entres_to_ignore(title):\n",
    "    if \"PREDICTED\" in title or \"cultured\" in title or \"Cloning\" in title or \"Synthetic construct\" in title or \"Homo sapiens\" in title:\n",
    "        return True\n",
    "    else:\n",
    "        return False"
   ]
  },
  {
   "cell_type": "code",
   "execution_count": 7,
   "metadata": {},
   "outputs": [],
   "source": [
    "def recover_full_sequence(title):\n",
    "    \n",
    "    try:\n",
    "        Entrez.email = \"david.medina@cebib.cl\"\n",
    "\n",
    "        accession = re.search(r\"\\|([A-Z_]+\\d+\\.\\d+)\\|\", title)\n",
    "        if accession:\n",
    "            acc = accession.group(1)\n",
    "\n",
    "            # Descargar la secuencia completa\n",
    "            handle = Entrez.efetch(db=\"nucleotide\", id=acc, rettype=\"fasta\", retmode=\"text\")\n",
    "            record = SeqIO.read(handle, \"fasta\")\n",
    "            return str(record.seq)\n",
    "        else:\n",
    "            return \"seq not found\"\n",
    "    except:\n",
    "        return \"seq not found\""
   ]
  },
  {
   "cell_type": "markdown",
   "metadata": {},
   "source": [
    "- Load input sequence"
   ]
  },
  {
   "cell_type": "code",
   "execution_count": 8,
   "metadata": {},
   "outputs": [
    {
     "data": {
      "text/plain": [
       "{'Organism': 'Study Argopecten purpuratus',\n",
       " 'Sequence': 'TCAGTTCAACAGTGTTTGGGCATGAGTCTCTACAATGTACTGGTGGTATTGTTTTAGCAGGTGATGCATTTGTTCTACTTCTTCACTGACTAGTGTTTTCACAAAGAATTTCTTATCCTGAGACATCAACATCCGGGCCCCACTCCGGCCGGGGGAGTCTACATCCAACGCCTGCTTAGTTAAGGAGTTCATATAATCTTGGTCATCGATTCCGAATCTCTCCCGGAGATTCCTGAACACAACTGGGCAATACTCCTTACCTTGAAATGACTTGGCATACTTTCTTTGTTGTAAGAATGATTGTCCACTCGTACTTTACTGAACGCTTTAAAATCATCGGGCATCAACATTACAGGAAGGTTCACATGGTTCAAGCCATTTATCGTATGATTAATCCCCCACCAATGACATCTAGAGAATCACTAGTGAATTCGCGGCCGCCTGCAGGTCGACCATATGGGAGAGCTCCCAACGCGTTGGATGCATA'}"
      ]
     },
     "execution_count": 8,
     "metadata": {},
     "output_type": "execute_result"
    }
   ],
   "source": [
    "for record in SeqIO.parse(\"../raw_data_giannina/oligos_sequences.fasta\", \"fasta\"):\n",
    "    sequences_to_process = {\n",
    "        \"Organism\" : record.description,\n",
    "        \"Sequence\" : str(record.seq)\n",
    "    }\n",
    "\n",
    "sequences_to_process"
   ]
  },
  {
   "cell_type": "markdown",
   "metadata": {},
   "source": [
    "- Making query to NCBI-BLAST for alignment sequences"
   ]
  },
  {
   "cell_type": "code",
   "execution_count": 9,
   "metadata": {},
   "outputs": [
    {
     "name": "stdout",
     "output_type": "stream",
     "text": [
      "Sending BLAST query to NCBI...\n"
     ]
    },
    {
     "data": {
      "text/html": [
       "<div>\n",
       "<style scoped>\n",
       "    .dataframe tbody tr th:only-of-type {\n",
       "        vertical-align: middle;\n",
       "    }\n",
       "\n",
       "    .dataframe tbody tr th {\n",
       "        vertical-align: top;\n",
       "    }\n",
       "\n",
       "    .dataframe thead th {\n",
       "        text-align: right;\n",
       "    }\n",
       "</style>\n",
       "<table border=\"1\" class=\"dataframe\">\n",
       "  <thead>\n",
       "    <tr style=\"text-align: right;\">\n",
       "      <th></th>\n",
       "      <th>title</th>\n",
       "      <th>score</th>\n",
       "      <th>aligned_sequence</th>\n",
       "      <th>identity</th>\n",
       "    </tr>\n",
       "  </thead>\n",
       "  <tbody>\n",
       "    <tr>\n",
       "      <th>0</th>\n",
       "      <td>gi|2835362640|ref|XM_069255312.1| PREDICTED: A...</td>\n",
       "      <td>735.0</td>\n",
       "      <td>CAACAATGTCTGGGCATGAGTCTCTACAATGTACTGGTGGTATTGT...</td>\n",
       "      <td>0.972292</td>\n",
       "    </tr>\n",
       "    <tr>\n",
       "      <th>1</th>\n",
       "      <td>gi|1835471732|ref|XR_004536138.1| PREDICTED: P...</td>\n",
       "      <td>625.0</td>\n",
       "      <td>CAGCAATGTCTGAGCATGAGTCTCTACAATGTACTGATGGTACTGT...</td>\n",
       "      <td>0.916877</td>\n",
       "    </tr>\n",
       "    <tr>\n",
       "      <th>2</th>\n",
       "      <td>gi|1835471729|ref|XR_004536137.1| PREDICTED: P...</td>\n",
       "      <td>625.0</td>\n",
       "      <td>CAGCAATGTCTGAGCATGAGTCTCTACAATGTACTGATGGTACTGT...</td>\n",
       "      <td>0.916877</td>\n",
       "    </tr>\n",
       "    <tr>\n",
       "      <th>3</th>\n",
       "      <td>gi|1835471725|ref|XM_033906951.1| PREDICTED: P...</td>\n",
       "      <td>625.0</td>\n",
       "      <td>CAGCAATGTCTGAGCATGAGTCTCTACAATGTACTGATGGTACTGT...</td>\n",
       "      <td>0.916877</td>\n",
       "    </tr>\n",
       "    <tr>\n",
       "      <th>4</th>\n",
       "      <td>gi|1207973896|ref|XM_021522106.1| PREDICTED: M...</td>\n",
       "      <td>581.0</td>\n",
       "      <td>GTCTGGGCATGAGTCTCTACAATGTACTGGTGGTACTGTTTGAGTA...</td>\n",
       "      <td>0.900000</td>\n",
       "    </tr>\n",
       "  </tbody>\n",
       "</table>\n",
       "</div>"
      ],
      "text/plain": [
       "                                               title  score  \\\n",
       "0  gi|2835362640|ref|XM_069255312.1| PREDICTED: A...  735.0   \n",
       "1  gi|1835471732|ref|XR_004536138.1| PREDICTED: P...  625.0   \n",
       "2  gi|1835471729|ref|XR_004536137.1| PREDICTED: P...  625.0   \n",
       "3  gi|1835471725|ref|XM_033906951.1| PREDICTED: P...  625.0   \n",
       "4  gi|1207973896|ref|XM_021522106.1| PREDICTED: M...  581.0   \n",
       "\n",
       "                                    aligned_sequence  identity  \n",
       "0  CAACAATGTCTGGGCATGAGTCTCTACAATGTACTGGTGGTATTGT...  0.972292  \n",
       "1  CAGCAATGTCTGAGCATGAGTCTCTACAATGTACTGATGGTACTGT...  0.916877  \n",
       "2  CAGCAATGTCTGAGCATGAGTCTCTACAATGTACTGATGGTACTGT...  0.916877  \n",
       "3  CAGCAATGTCTGAGCATGAGTCTCTACAATGTACTGATGGTACTGT...  0.916877  \n",
       "4  GTCTGGGCATGAGTCTCTACAATGTACTGGTGGTACTGTTTGAGTA...  0.900000  "
      ]
     },
     "execution_count": 9,
     "metadata": {},
     "output_type": "execute_result"
    }
   ],
   "source": [
    "query_seq = Seq(sequences_to_process[\"Sequence\"])\n",
    "record = SeqRecord(query_seq, id=\"Query1\", description=sequences_to_process[\"Organism\"])\n",
    "\n",
    "print(\"Sending BLAST query to NCBI...\")\n",
    "result_handle = NCBIWWW.qblast(\n",
    "    program=\"blastn\",             \n",
    "    database=\"nt\",                \n",
    "    sequence=record.format(\"fasta\"),\n",
    "    hitlist_size=10000,              \n",
    "    format_type=\"XML\"\n",
    ")\n",
    "\n",
    "blast_records = NCBIXML.read(result_handle)\n",
    "\n",
    "filter_sequences = []\n",
    "\n",
    "for alignment in blast_records.alignments:\n",
    "    hsp = alignment.hsps[0]  # high-scoring pair\n",
    "    \n",
    "    row = [\n",
    "        alignment.title,\n",
    "        hsp.score,\n",
    "        hsp.sbjct,\n",
    "        hsp.identities / hsp.align_length\n",
    "    ]\n",
    "\n",
    "    filter_sequences.append(row)\n",
    "\n",
    "df_selected_sequences = pd.DataFrame(\n",
    "    data=filter_sequences, \n",
    "    columns=[\"title\", \"score\", \"aligned_sequence\", \"identity\"])\n",
    "\n",
    "df_selected_sequences.head(5)"
   ]
  },
  {
   "cell_type": "markdown",
   "metadata": {},
   "source": [
    "- Removing PREDICTED/Uncultured elements"
   ]
  },
  {
   "cell_type": "code",
   "execution_count": 10,
   "metadata": {},
   "outputs": [
    {
     "data": {
      "text/html": [
       "<div>\n",
       "<style scoped>\n",
       "    .dataframe tbody tr th:only-of-type {\n",
       "        vertical-align: middle;\n",
       "    }\n",
       "\n",
       "    .dataframe tbody tr th {\n",
       "        vertical-align: top;\n",
       "    }\n",
       "\n",
       "    .dataframe thead th {\n",
       "        text-align: right;\n",
       "    }\n",
       "</style>\n",
       "<table border=\"1\" class=\"dataframe\">\n",
       "  <thead>\n",
       "    <tr style=\"text-align: right;\">\n",
       "      <th></th>\n",
       "      <th>title</th>\n",
       "      <th>score</th>\n",
       "      <th>aligned_sequence</th>\n",
       "      <th>identity</th>\n",
       "      <th>to_ignore</th>\n",
       "    </tr>\n",
       "  </thead>\n",
       "  <tbody>\n",
       "    <tr>\n",
       "      <th>26</th>\n",
       "      <td>gi|2671790432|gb|PP199098.1| Argopecten irradi...</td>\n",
       "      <td>267.0</td>\n",
       "      <td>CTGGTGGTATTGTTTAAGCAGGTGATGCATCTGTTCTACTTCTTCA...</td>\n",
       "      <td>0.953642</td>\n",
       "      <td>False</td>\n",
       "    </tr>\n",
       "    <tr>\n",
       "      <th>35</th>\n",
       "      <td>gi|2277725323|gb|MW800702.1| Octopus vulgaris ...</td>\n",
       "      <td>214.0</td>\n",
       "      <td>AACAACGTCTGTGCGTGTCTTTCAACAATATATGAGTGATACTGTT...</td>\n",
       "      <td>0.717500</td>\n",
       "      <td>False</td>\n",
       "    </tr>\n",
       "    <tr>\n",
       "      <th>44</th>\n",
       "      <td>gi|2254959558|gb|OM296289.1| Androctonus crass...</td>\n",
       "      <td>189.0</td>\n",
       "      <td>TGTTTTTCCATGACATTCCACAATATAAGGATGATACTGTTTGAGT...</td>\n",
       "      <td>0.702771</td>\n",
       "      <td>False</td>\n",
       "    </tr>\n",
       "    <tr>\n",
       "      <th>86</th>\n",
       "      <td>gi|2099394798|ref|NM_001030971.2| Gallus gallu...</td>\n",
       "      <td>174.0</td>\n",
       "      <td>CATGACACTCCACAATAAACTGATGGTATTTCTTCAGTATGTTGTG...</td>\n",
       "      <td>0.698454</td>\n",
       "      <td>False</td>\n",
       "    </tr>\n",
       "    <tr>\n",
       "      <th>91</th>\n",
       "      <td>gi|60099194|emb|AJ851794.1| Gallus gallus mRNA...</td>\n",
       "      <td>174.0</td>\n",
       "      <td>CATGACACTCCACAATAAACTGATGGTATTTCTTCAGTATGTTGTG...</td>\n",
       "      <td>0.698454</td>\n",
       "      <td>False</td>\n",
       "    </tr>\n",
       "  </tbody>\n",
       "</table>\n",
       "</div>"
      ],
      "text/plain": [
       "                                                title  score  \\\n",
       "26  gi|2671790432|gb|PP199098.1| Argopecten irradi...  267.0   \n",
       "35  gi|2277725323|gb|MW800702.1| Octopus vulgaris ...  214.0   \n",
       "44  gi|2254959558|gb|OM296289.1| Androctonus crass...  189.0   \n",
       "86  gi|2099394798|ref|NM_001030971.2| Gallus gallu...  174.0   \n",
       "91  gi|60099194|emb|AJ851794.1| Gallus gallus mRNA...  174.0   \n",
       "\n",
       "                                     aligned_sequence  identity  to_ignore  \n",
       "26  CTGGTGGTATTGTTTAAGCAGGTGATGCATCTGTTCTACTTCTTCA...  0.953642      False  \n",
       "35  AACAACGTCTGTGCGTGTCTTTCAACAATATATGAGTGATACTGTT...  0.717500      False  \n",
       "44  TGTTTTTCCATGACATTCCACAATATAAGGATGATACTGTTTGAGT...  0.702771      False  \n",
       "86  CATGACACTCCACAATAAACTGATGGTATTTCTTCAGTATGTTGTG...  0.698454      False  \n",
       "91  CATGACACTCCACAATAAACTGATGGTATTTCTTCAGTATGTTGTG...  0.698454      False  "
      ]
     },
     "execution_count": 10,
     "metadata": {},
     "output_type": "execute_result"
    }
   ],
   "source": [
    "df_selected_sequences[\"to_ignore\"] = df_selected_sequences[\"title\"].apply(check_entres_to_ignore)\n",
    "df_selected_sequences[\"to_ignore\"].value_counts()\n",
    "df_filter_sequences = df_selected_sequences[df_selected_sequences[\"to_ignore\"]==False]\n",
    "df_filter_sequences.head(5)"
   ]
  },
  {
   "cell_type": "markdown",
   "metadata": {},
   "source": [
    "- Get names and IDs"
   ]
  },
  {
   "cell_type": "code",
   "execution_count": 11,
   "metadata": {},
   "outputs": [
    {
     "data": {
      "text/html": [
       "<div>\n",
       "<style scoped>\n",
       "    .dataframe tbody tr th:only-of-type {\n",
       "        vertical-align: middle;\n",
       "    }\n",
       "\n",
       "    .dataframe tbody tr th {\n",
       "        vertical-align: top;\n",
       "    }\n",
       "\n",
       "    .dataframe thead th {\n",
       "        text-align: right;\n",
       "    }\n",
       "</style>\n",
       "<table border=\"1\" class=\"dataframe\">\n",
       "  <thead>\n",
       "    <tr style=\"text-align: right;\">\n",
       "      <th></th>\n",
       "      <th>title</th>\n",
       "      <th>score</th>\n",
       "      <th>aligned_sequence</th>\n",
       "      <th>identity</th>\n",
       "      <th>to_ignore</th>\n",
       "      <th>organism</th>\n",
       "      <th>gi</th>\n",
       "      <th>additionl_id</th>\n",
       "    </tr>\n",
       "  </thead>\n",
       "  <tbody>\n",
       "    <tr>\n",
       "      <th>26</th>\n",
       "      <td>gi|2671790432|gb|PP199098.1| Argopecten irradi...</td>\n",
       "      <td>267.0</td>\n",
       "      <td>CTGGTGGTATTGTTTAAGCAGGTGATGCATCTGTTCTACTTCTTCA...</td>\n",
       "      <td>0.953642</td>\n",
       "      <td>False</td>\n",
       "      <td>Argopecten irradians</td>\n",
       "      <td>gi|2671790432</td>\n",
       "      <td>gb|PP199098.1</td>\n",
       "    </tr>\n",
       "    <tr>\n",
       "      <th>35</th>\n",
       "      <td>gi|2277725323|gb|MW800702.1| Octopus vulgaris ...</td>\n",
       "      <td>214.0</td>\n",
       "      <td>AACAACGTCTGTGCGTGTCTTTCAACAATATATGAGTGATACTGTT...</td>\n",
       "      <td>0.717500</td>\n",
       "      <td>False</td>\n",
       "      <td>Octopus vulgaris</td>\n",
       "      <td>gi|2277725323</td>\n",
       "      <td>gb|MW800702.1</td>\n",
       "    </tr>\n",
       "    <tr>\n",
       "      <th>44</th>\n",
       "      <td>gi|2254959558|gb|OM296289.1| Androctonus crass...</td>\n",
       "      <td>189.0</td>\n",
       "      <td>TGTTTTTCCATGACATTCCACAATATAAGGATGATACTGTTTGAGT...</td>\n",
       "      <td>0.702771</td>\n",
       "      <td>False</td>\n",
       "      <td>Androctonus crassicauda</td>\n",
       "      <td>gi|2254959558</td>\n",
       "      <td>gb|OM296289.1</td>\n",
       "    </tr>\n",
       "    <tr>\n",
       "      <th>86</th>\n",
       "      <td>gi|2099394798|ref|NM_001030971.2| Gallus gallu...</td>\n",
       "      <td>174.0</td>\n",
       "      <td>CATGACACTCCACAATAAACTGATGGTATTTCTTCAGTATGTTGTG...</td>\n",
       "      <td>0.698454</td>\n",
       "      <td>False</td>\n",
       "      <td>Gallus gallus</td>\n",
       "      <td>gi|2099394798</td>\n",
       "      <td>ref|NM_001030971.2</td>\n",
       "    </tr>\n",
       "    <tr>\n",
       "      <th>91</th>\n",
       "      <td>gi|60099194|emb|AJ851794.1| Gallus gallus mRNA...</td>\n",
       "      <td>174.0</td>\n",
       "      <td>CATGACACTCCACAATAAACTGATGGTATTTCTTCAGTATGTTGTG...</td>\n",
       "      <td>0.698454</td>\n",
       "      <td>False</td>\n",
       "      <td>Gallus gallus</td>\n",
       "      <td>gi|60099194</td>\n",
       "      <td>emb|AJ851794.1</td>\n",
       "    </tr>\n",
       "  </tbody>\n",
       "</table>\n",
       "</div>"
      ],
      "text/plain": [
       "                                                title  score  \\\n",
       "26  gi|2671790432|gb|PP199098.1| Argopecten irradi...  267.0   \n",
       "35  gi|2277725323|gb|MW800702.1| Octopus vulgaris ...  214.0   \n",
       "44  gi|2254959558|gb|OM296289.1| Androctonus crass...  189.0   \n",
       "86  gi|2099394798|ref|NM_001030971.2| Gallus gallu...  174.0   \n",
       "91  gi|60099194|emb|AJ851794.1| Gallus gallus mRNA...  174.0   \n",
       "\n",
       "                                     aligned_sequence  identity  to_ignore  \\\n",
       "26  CTGGTGGTATTGTTTAAGCAGGTGATGCATCTGTTCTACTTCTTCA...  0.953642      False   \n",
       "35  AACAACGTCTGTGCGTGTCTTTCAACAATATATGAGTGATACTGTT...  0.717500      False   \n",
       "44  TGTTTTTCCATGACATTCCACAATATAAGGATGATACTGTTTGAGT...  0.702771      False   \n",
       "86  CATGACACTCCACAATAAACTGATGGTATTTCTTCAGTATGTTGTG...  0.698454      False   \n",
       "91  CATGACACTCCACAATAAACTGATGGTATTTCTTCAGTATGTTGTG...  0.698454      False   \n",
       "\n",
       "                   organism             gi        additionl_id  \n",
       "26     Argopecten irradians  gi|2671790432       gb|PP199098.1  \n",
       "35         Octopus vulgaris  gi|2277725323       gb|MW800702.1  \n",
       "44  Androctonus crassicauda  gi|2254959558       gb|OM296289.1  \n",
       "86            Gallus gallus  gi|2099394798  ref|NM_001030971.2  \n",
       "91            Gallus gallus    gi|60099194      emb|AJ851794.1  "
      ]
     },
     "execution_count": 11,
     "metadata": {},
     "output_type": "execute_result"
    }
   ],
   "source": [
    "df_filter_sequences[\"organism\"] = df_filter_sequences[\"title\"].apply(apply_process_to_name)\n",
    "df_filter_sequences[\"gi\"] = df_filter_sequences[\"title\"].apply(get_gi)\n",
    "df_filter_sequences[\"additionl_id\"] = df_filter_sequences[\"title\"].apply(get_additional_id)\n",
    "df_filter_sequences.head(5)"
   ]
  },
  {
   "cell_type": "code",
   "execution_count": 12,
   "metadata": {},
   "outputs": [
    {
     "data": {
      "text/plain": [
       "Bacillus cereus                  66\n",
       "Methylocella palustris           64\n",
       "Bacillus thuringiensis           37\n",
       "Pennisetum glaucum               33\n",
       "Mus musculus                     33\n",
       "                                 ..\n",
       "Raphanus sativus                  1\n",
       "Phytophthora cinnamomi            1\n",
       "Musa balbisiana                   1\n",
       "Stenotrophomonas chelatiphaga     1\n",
       "PGeneClip Hygromycin              1\n",
       "Name: organism, Length: 477, dtype: int64"
      ]
     },
     "execution_count": 12,
     "metadata": {},
     "output_type": "execute_result"
    }
   ],
   "source": [
    "df_filter_sequences[\"organism\"].value_counts()"
   ]
  },
  {
   "cell_type": "markdown",
   "metadata": {},
   "source": [
    "- Checking duplicated entries. Including organisms and sequences"
   ]
  },
  {
   "cell_type": "code",
   "execution_count": 13,
   "metadata": {},
   "outputs": [
    {
     "name": "stdout",
     "output_type": "stream",
     "text": [
      "(317, 7) (160, 7)\n"
     ]
    }
   ],
   "source": [
    "name_cound = df_filter_sequences.groupby(by=\"organism\").count().sort_values(by=\"title\", ascending=False)\n",
    "unique_names = name_cound[name_cound[\"title\"]==1]\n",
    "duplicated_names = name_cound[name_cound[\"title\"]>1]\n",
    "\n",
    "print(unique_names.shape, duplicated_names.shape)"
   ]
  },
  {
   "cell_type": "code",
   "execution_count": 14,
   "metadata": {},
   "outputs": [
    {
     "data": {
      "text/plain": [
       "(317, 8)"
      ]
     },
     "execution_count": 14,
     "metadata": {},
     "output_type": "execute_result"
    }
   ],
   "source": [
    "filter_unique_names = df_filter_sequences[df_filter_sequences[\"organism\"].isin(unique_names.index)]\n",
    "filter_unique_names.shape"
   ]
  },
  {
   "cell_type": "code",
   "execution_count": 20,
   "metadata": {},
   "outputs": [
    {
     "data": {
      "text/plain": [
       "Index(['title', 'score', 'aligned_sequence', 'identity', 'to_ignore',\n",
       "       'organism', 'gi', 'additionl_id'],\n",
       "      dtype='object')"
      ]
     },
     "execution_count": 20,
     "metadata": {},
     "output_type": "execute_result"
    }
   ],
   "source": [
    "filter_unique_names.columns"
   ]
  },
  {
   "cell_type": "code",
   "execution_count": 21,
   "metadata": {},
   "outputs": [
    {
     "data": {
      "text/html": [
       "<div>\n",
       "<style scoped>\n",
       "    .dataframe tbody tr th:only-of-type {\n",
       "        vertical-align: middle;\n",
       "    }\n",
       "\n",
       "    .dataframe tbody tr th {\n",
       "        vertical-align: top;\n",
       "    }\n",
       "\n",
       "    .dataframe thead th {\n",
       "        text-align: right;\n",
       "    }\n",
       "</style>\n",
       "<table border=\"1\" class=\"dataframe\">\n",
       "  <thead>\n",
       "    <tr style=\"text-align: right;\">\n",
       "      <th></th>\n",
       "      <th>title</th>\n",
       "      <th>score</th>\n",
       "      <th>aligned_sequence</th>\n",
       "      <th>identity</th>\n",
       "      <th>to_ignore</th>\n",
       "      <th>organism</th>\n",
       "      <th>gi</th>\n",
       "      <th>additionl_id</th>\n",
       "    </tr>\n",
       "  </thead>\n",
       "  <tbody>\n",
       "    <tr>\n",
       "      <th>0</th>\n",
       "      <td>gi|939460503|emb|LN890238.1| Bacillus cereus p...</td>\n",
       "      <td>140.0</td>\n",
       "      <td>AATCACTAGTGAATTCGCGGCCGCCTGCAGGTCGACCATATGGGAG...</td>\n",
       "      <td>1.000000</td>\n",
       "      <td>False</td>\n",
       "      <td>Bacillus cereus</td>\n",
       "      <td>gi|939460503</td>\n",
       "      <td>emb|LN890238.1</td>\n",
       "    </tr>\n",
       "    <tr>\n",
       "      <th>1</th>\n",
       "      <td>gi|1313712470|emb|LT934184.1| Methylocella pal...</td>\n",
       "      <td>140.0</td>\n",
       "      <td>AATCACTAGTGAATTCGCGGCCGCCTGCAGGTCGACCATATGGGAG...</td>\n",
       "      <td>1.000000</td>\n",
       "      <td>False</td>\n",
       "      <td>Methylocella palustris</td>\n",
       "      <td>gi|1313712470</td>\n",
       "      <td>emb|LT934184.1</td>\n",
       "    </tr>\n",
       "    <tr>\n",
       "      <th>2</th>\n",
       "      <td>gi|939460295|emb|LN890030.1| Bacillus thuringi...</td>\n",
       "      <td>140.0</td>\n",
       "      <td>AATCACTAGTGAATTCGCGGCCGCCTGCAGGTCGACCATATGGGAG...</td>\n",
       "      <td>1.000000</td>\n",
       "      <td>False</td>\n",
       "      <td>Bacillus thuringiensis</td>\n",
       "      <td>gi|939460295</td>\n",
       "      <td>emb|LN890030.1</td>\n",
       "    </tr>\n",
       "    <tr>\n",
       "      <th>3</th>\n",
       "      <td>gi|259048771|emb|FN552482.1| Pennisetum glaucu...</td>\n",
       "      <td>142.0</td>\n",
       "      <td>GAATCACTAGTGAATTCGCGGCCGCCTGCAGGTCGACCATATGGGA...</td>\n",
       "      <td>1.000000</td>\n",
       "      <td>False</td>\n",
       "      <td>Pennisetum glaucum</td>\n",
       "      <td>gi|259048771</td>\n",
       "      <td>emb|FN552482.1</td>\n",
       "    </tr>\n",
       "    <tr>\n",
       "      <th>4</th>\n",
       "      <td>gi|3062783|dbj|AB009615.1| Mus musculus mRNA f...</td>\n",
       "      <td>155.0</td>\n",
       "      <td>CATGACATTCCACTATATACTGGTGGTACTTCTTCAGGATGTTGTG...</td>\n",
       "      <td>0.684755</td>\n",
       "      <td>False</td>\n",
       "      <td>Mus musculus</td>\n",
       "      <td>gi|3062783</td>\n",
       "      <td>dbj|AB009615.1</td>\n",
       "    </tr>\n",
       "    <tr>\n",
       "      <th>...</th>\n",
       "      <td>...</td>\n",
       "      <td>...</td>\n",
       "      <td>...</td>\n",
       "      <td>...</td>\n",
       "      <td>...</td>\n",
       "      <td>...</td>\n",
       "      <td>...</td>\n",
       "      <td>...</td>\n",
       "    </tr>\n",
       "    <tr>\n",
       "      <th>155</th>\n",
       "      <td>gi|226442392|dbj|AB495008.1| Xylaria sp. TI070...</td>\n",
       "      <td>116.0</td>\n",
       "      <td>GAATCACTAGTGAATTCGCGGCCGCCTGCAGGTCGACCATATGGGA...</td>\n",
       "      <td>1.000000</td>\n",
       "      <td>False</td>\n",
       "      <td>Xylaria sp.</td>\n",
       "      <td>gi|226442392</td>\n",
       "      <td>dbj|AB495008.1</td>\n",
       "    </tr>\n",
       "    <tr>\n",
       "      <th>156</th>\n",
       "      <td>gi|2917605509|emb|OZ228683.1| Sitta europaea g...</td>\n",
       "      <td>76.0</td>\n",
       "      <td>TAGTCCTGGTCATCGATGCCGAACCTCTCGCGCAGGTTCCGGAACA...</td>\n",
       "      <td>0.788235</td>\n",
       "      <td>False</td>\n",
       "      <td>Sitta europaea</td>\n",
       "      <td>gi|2917605509</td>\n",
       "      <td>emb|OZ228683.1</td>\n",
       "    </tr>\n",
       "    <tr>\n",
       "      <th>157</th>\n",
       "      <td>gi|651212704|gb|KJ586213.1| Carthamus tinctori...</td>\n",
       "      <td>67.0</td>\n",
       "      <td>AATTGTCGGCCGCCTG-AGGTCGACCATATGGGAAAGCT-CAAACG...</td>\n",
       "      <td>0.872727</td>\n",
       "      <td>False</td>\n",
       "      <td>Carthamus tinctorius</td>\n",
       "      <td>gi|651212704</td>\n",
       "      <td>gb|KJ586213.1</td>\n",
       "    </tr>\n",
       "    <tr>\n",
       "      <th>158</th>\n",
       "      <td>gi|449042857|gb|JX070071.1| Smilax brasiliensi...</td>\n",
       "      <td>85.0</td>\n",
       "      <td>AGAGAAATCCCTAGTGGAATTCGCGGGCCGCCTGCAAGGTCGACCA...</td>\n",
       "      <td>0.867470</td>\n",
       "      <td>False</td>\n",
       "      <td>Smilax brasiliensis</td>\n",
       "      <td>gi|449042857</td>\n",
       "      <td>gb|JX070071.1</td>\n",
       "    </tr>\n",
       "    <tr>\n",
       "      <th>159</th>\n",
       "      <td>gi|733578905|emb|LN713468.1| Lithodes maja par...</td>\n",
       "      <td>142.0</td>\n",
       "      <td>GAATCACTAGTGAATTCGCGGCCGCCTGCAGGTCGACCATATGGGA...</td>\n",
       "      <td>1.000000</td>\n",
       "      <td>False</td>\n",
       "      <td>Lithodes maja</td>\n",
       "      <td>gi|733578905</td>\n",
       "      <td>emb|LN713468.1</td>\n",
       "    </tr>\n",
       "  </tbody>\n",
       "</table>\n",
       "<p>160 rows × 8 columns</p>\n",
       "</div>"
      ],
      "text/plain": [
       "                                                 title  score  \\\n",
       "0    gi|939460503|emb|LN890238.1| Bacillus cereus p...  140.0   \n",
       "1    gi|1313712470|emb|LT934184.1| Methylocella pal...  140.0   \n",
       "2    gi|939460295|emb|LN890030.1| Bacillus thuringi...  140.0   \n",
       "3    gi|259048771|emb|FN552482.1| Pennisetum glaucu...  142.0   \n",
       "4    gi|3062783|dbj|AB009615.1| Mus musculus mRNA f...  155.0   \n",
       "..                                                 ...    ...   \n",
       "155  gi|226442392|dbj|AB495008.1| Xylaria sp. TI070...  116.0   \n",
       "156  gi|2917605509|emb|OZ228683.1| Sitta europaea g...   76.0   \n",
       "157  gi|651212704|gb|KJ586213.1| Carthamus tinctori...   67.0   \n",
       "158  gi|449042857|gb|JX070071.1| Smilax brasiliensi...   85.0   \n",
       "159  gi|733578905|emb|LN713468.1| Lithodes maja par...  142.0   \n",
       "\n",
       "                                      aligned_sequence  identity  to_ignore  \\\n",
       "0    AATCACTAGTGAATTCGCGGCCGCCTGCAGGTCGACCATATGGGAG...  1.000000      False   \n",
       "1    AATCACTAGTGAATTCGCGGCCGCCTGCAGGTCGACCATATGGGAG...  1.000000      False   \n",
       "2    AATCACTAGTGAATTCGCGGCCGCCTGCAGGTCGACCATATGGGAG...  1.000000      False   \n",
       "3    GAATCACTAGTGAATTCGCGGCCGCCTGCAGGTCGACCATATGGGA...  1.000000      False   \n",
       "4    CATGACATTCCACTATATACTGGTGGTACTTCTTCAGGATGTTGTG...  0.684755      False   \n",
       "..                                                 ...       ...        ...   \n",
       "155  GAATCACTAGTGAATTCGCGGCCGCCTGCAGGTCGACCATATGGGA...  1.000000      False   \n",
       "156  TAGTCCTGGTCATCGATGCCGAACCTCTCGCGCAGGTTCCGGAACA...  0.788235      False   \n",
       "157  AATTGTCGGCCGCCTG-AGGTCGACCATATGGGAAAGCT-CAAACG...  0.872727      False   \n",
       "158  AGAGAAATCCCTAGTGGAATTCGCGGGCCGCCTGCAAGGTCGACCA...  0.867470      False   \n",
       "159  GAATCACTAGTGAATTCGCGGCCGCCTGCAGGTCGACCATATGGGA...  1.000000      False   \n",
       "\n",
       "                   organism             gi    additionl_id  \n",
       "0           Bacillus cereus   gi|939460503  emb|LN890238.1  \n",
       "1    Methylocella palustris  gi|1313712470  emb|LT934184.1  \n",
       "2    Bacillus thuringiensis   gi|939460295  emb|LN890030.1  \n",
       "3        Pennisetum glaucum   gi|259048771  emb|FN552482.1  \n",
       "4              Mus musculus     gi|3062783  dbj|AB009615.1  \n",
       "..                      ...            ...             ...  \n",
       "155             Xylaria sp.   gi|226442392  dbj|AB495008.1  \n",
       "156          Sitta europaea  gi|2917605509  emb|OZ228683.1  \n",
       "157    Carthamus tinctorius   gi|651212704   gb|KJ586213.1  \n",
       "158     Smilax brasiliensis   gi|449042857   gb|JX070071.1  \n",
       "159           Lithodes maja   gi|733578905  emb|LN713468.1  \n",
       "\n",
       "[160 rows x 8 columns]"
      ]
     },
     "execution_count": 21,
     "metadata": {},
     "output_type": "execute_result"
    }
   ],
   "source": [
    "matrix_duplicated = []\n",
    "for organism in duplicated_names.index:\n",
    "    records_in_df = df_filter_sequences[df_filter_sequences[\"organism\"] == organism]\n",
    "    records_in_df.reset_index(inplace=True)\n",
    "        \n",
    "    row = []\n",
    "\n",
    "    for column in ['title', 'score', 'aligned_sequence', 'identity', 'to_ignore', 'organism', 'gi', 'additionl_id']:\n",
    "        row.append(records_in_df[column][0])\n",
    "    \n",
    "    matrix_duplicated.append(row)\n",
    "\n",
    "df_selected_duplicated = pd.DataFrame(data=matrix_duplicated, columns=filter_unique_names.columns)\n",
    "df_selected_duplicated"
   ]
  },
  {
   "cell_type": "code",
   "execution_count": 22,
   "metadata": {},
   "outputs": [
    {
     "data": {
      "text/plain": [
       "(477, 8)"
      ]
     },
     "execution_count": 22,
     "metadata": {},
     "output_type": "execute_result"
    }
   ],
   "source": [
    "processed_df = pd.concat([filter_unique_names, df_selected_duplicated], axis=0)\n",
    "processed_df.reset_index(inplace=True)\n",
    "processed_df = processed_df.drop(columns=[\"index\"])\n",
    "processed_df.shape"
   ]
  },
  {
   "cell_type": "code",
   "execution_count": 23,
   "metadata": {},
   "outputs": [
    {
     "data": {
      "text/plain": [
       "Argopecten irradians       1\n",
       "PsiSTRIKE hMGFP            1\n",
       "Bacteroidales bacterium    1\n",
       "Arabidopsis lyrata         1\n",
       "Arthrobacter ramosus       1\n",
       "                          ..\n",
       "Brugia malayi              1\n",
       "Alteromonas sp.            1\n",
       "Abra segmentum             1\n",
       "Glomus sp.                 1\n",
       "Lithodes maja              1\n",
       "Name: organism, Length: 477, dtype: int64"
      ]
     },
     "execution_count": 23,
     "metadata": {},
     "output_type": "execute_result"
    }
   ],
   "source": [
    "processed_df[\"organism\"].value_counts()"
   ]
  },
  {
   "cell_type": "markdown",
   "metadata": {},
   "source": [
    "- Get full sequences"
   ]
  },
  {
   "cell_type": "code",
   "execution_count": null,
   "metadata": {},
   "outputs": [],
   "source": [
    "processed_df[\"full_sequence\"] = processed_df[\"title\"].apply(recover_full_sequence)"
   ]
  },
  {
   "cell_type": "code",
   "execution_count": null,
   "metadata": {},
   "outputs": [
    {
     "data": {
      "text/plain": [
       "(1174, 10)"
      ]
     },
     "execution_count": 81,
     "metadata": {},
     "output_type": "execute_result"
    }
   ],
   "source": [
    "processed_df = processed_df[processed_df[\"full_sequence\"] != \"seq not found\"]\n",
    "processed_df.shape"
   ]
  },
  {
   "cell_type": "code",
   "execution_count": null,
   "metadata": {},
   "outputs": [
    {
     "data": {
      "text/html": [
       "<div>\n",
       "<style scoped>\n",
       "    .dataframe tbody tr th:only-of-type {\n",
       "        vertical-align: middle;\n",
       "    }\n",
       "\n",
       "    .dataframe tbody tr th {\n",
       "        vertical-align: top;\n",
       "    }\n",
       "\n",
       "    .dataframe thead th {\n",
       "        text-align: right;\n",
       "    }\n",
       "</style>\n",
       "<table border=\"1\" class=\"dataframe\">\n",
       "  <thead>\n",
       "    <tr style=\"text-align: right;\">\n",
       "      <th></th>\n",
       "      <th>title</th>\n",
       "      <th>score</th>\n",
       "      <th>aligned_sequence</th>\n",
       "      <th>identity</th>\n",
       "      <th>is_predicted</th>\n",
       "      <th>organism</th>\n",
       "      <th>gi</th>\n",
       "      <th>additionl_id</th>\n",
       "      <th>to_ignore</th>\n",
       "      <th>full_sequence</th>\n",
       "    </tr>\n",
       "  </thead>\n",
       "  <tbody>\n",
       "    <tr>\n",
       "      <th>26</th>\n",
       "      <td>gi|2671790432|gb|PP199098.1| Argopecten irradi...</td>\n",
       "      <td>267.0</td>\n",
       "      <td>CTGGTGGTATTGTTTAAGCAGGTGATGCATCTGTTCTACTTCTTCA...</td>\n",
       "      <td>0.953642</td>\n",
       "      <td>False</td>\n",
       "      <td>Argopecten irradians</td>\n",
       "      <td>gi|2671790432</td>\n",
       "      <td>gb|PP199098.1</td>\n",
       "      <td>False</td>\n",
       "      <td>CCATCTTGGATGTTGAGAGGTGTTGCAGCGATAATGGACCGTCTAC...</td>\n",
       "    </tr>\n",
       "    <tr>\n",
       "      <th>35</th>\n",
       "      <td>gi|2277725323|gb|MW800702.1| Octopus vulgaris ...</td>\n",
       "      <td>214.0</td>\n",
       "      <td>AACAACGTCTGTGCGTGTCTTTCAACAATATATGAGTGATACTGTT...</td>\n",
       "      <td>0.717500</td>\n",
       "      <td>False</td>\n",
       "      <td>Octopus vulgaris</td>\n",
       "      <td>gi|2277725323</td>\n",
       "      <td>gb|MW800702.1</td>\n",
       "      <td>False</td>\n",
       "      <td>ATGGCTAGTGCCAAAAGGAAGCACCTTAAAATGAAAACTGTCCAAC...</td>\n",
       "    </tr>\n",
       "    <tr>\n",
       "      <th>44</th>\n",
       "      <td>gi|2254959558|gb|OM296289.1| Androctonus crass...</td>\n",
       "      <td>189.0</td>\n",
       "      <td>TGTTTTTCCATGACATTCCACAATATAAGGATGATACTGTTTGAGT...</td>\n",
       "      <td>0.702771</td>\n",
       "      <td>False</td>\n",
       "      <td>Androctonus crassicauda</td>\n",
       "      <td>gi|2254959558</td>\n",
       "      <td>gb|OM296289.1</td>\n",
       "      <td>False</td>\n",
       "      <td>TAATTACAAATTTGACCTCATAATTCGCAGTTTCATTTCATGACTG...</td>\n",
       "    </tr>\n",
       "    <tr>\n",
       "      <th>86</th>\n",
       "      <td>gi|2099394798|ref|NM_001030971.2| Gallus gallu...</td>\n",
       "      <td>174.0</td>\n",
       "      <td>CATGACACTCCACAATAAACTGATGGTATTTCTTCAGTATGTTGTG...</td>\n",
       "      <td>0.698454</td>\n",
       "      <td>False</td>\n",
       "      <td>Gallus gallus</td>\n",
       "      <td>gi|2099394798</td>\n",
       "      <td>ref|NM_001030971.2</td>\n",
       "      <td>False</td>\n",
       "      <td>GGCGCGGCAGAGGCCGGGATGCGCGCGGCGTCCCGCGGCAGTCAGT...</td>\n",
       "    </tr>\n",
       "    <tr>\n",
       "      <th>91</th>\n",
       "      <td>gi|60099194|emb|AJ851794.1| Gallus gallus mRNA...</td>\n",
       "      <td>174.0</td>\n",
       "      <td>CATGACACTCCACAATAAACTGATGGTATTTCTTCAGTATGTTGTG...</td>\n",
       "      <td>0.698454</td>\n",
       "      <td>False</td>\n",
       "      <td>Gallus gallus</td>\n",
       "      <td>gi|60099194</td>\n",
       "      <td>emb|AJ851794.1</td>\n",
       "      <td>False</td>\n",
       "      <td>GCCCCGCGGCGGGCGGGGCCGCGGCGCGCGAGCGGGGCCATTTCGG...</td>\n",
       "    </tr>\n",
       "  </tbody>\n",
       "</table>\n",
       "</div>"
      ],
      "text/plain": [
       "                                                title  score  \\\n",
       "26  gi|2671790432|gb|PP199098.1| Argopecten irradi...  267.0   \n",
       "35  gi|2277725323|gb|MW800702.1| Octopus vulgaris ...  214.0   \n",
       "44  gi|2254959558|gb|OM296289.1| Androctonus crass...  189.0   \n",
       "86  gi|2099394798|ref|NM_001030971.2| Gallus gallu...  174.0   \n",
       "91  gi|60099194|emb|AJ851794.1| Gallus gallus mRNA...  174.0   \n",
       "\n",
       "                                     aligned_sequence  identity  is_predicted  \\\n",
       "26  CTGGTGGTATTGTTTAAGCAGGTGATGCATCTGTTCTACTTCTTCA...  0.953642         False   \n",
       "35  AACAACGTCTGTGCGTGTCTTTCAACAATATATGAGTGATACTGTT...  0.717500         False   \n",
       "44  TGTTTTTCCATGACATTCCACAATATAAGGATGATACTGTTTGAGT...  0.702771         False   \n",
       "86  CATGACACTCCACAATAAACTGATGGTATTTCTTCAGTATGTTGTG...  0.698454         False   \n",
       "91  CATGACACTCCACAATAAACTGATGGTATTTCTTCAGTATGTTGTG...  0.698454         False   \n",
       "\n",
       "                   organism             gi        additionl_id  to_ignore  \\\n",
       "26     Argopecten irradians  gi|2671790432       gb|PP199098.1      False   \n",
       "35         Octopus vulgaris  gi|2277725323       gb|MW800702.1      False   \n",
       "44  Androctonus crassicauda  gi|2254959558       gb|OM296289.1      False   \n",
       "86            Gallus gallus  gi|2099394798  ref|NM_001030971.2      False   \n",
       "91            Gallus gallus    gi|60099194      emb|AJ851794.1      False   \n",
       "\n",
       "                                        full_sequence  \n",
       "26  CCATCTTGGATGTTGAGAGGTGTTGCAGCGATAATGGACCGTCTAC...  \n",
       "35  ATGGCTAGTGCCAAAAGGAAGCACCTTAAAATGAAAACTGTCCAAC...  \n",
       "44  TAATTACAAATTTGACCTCATAATTCGCAGTTTCATTTCATGACTG...  \n",
       "86  GGCGCGGCAGAGGCCGGGATGCGCGCGGCGTCCCGCGGCAGTCAGT...  \n",
       "91  GCCCCGCGGCGGGCGGGGCCGCGGCGCGCGAGCGGGGCCATTTCGG...  "
      ]
     },
     "execution_count": 82,
     "metadata": {},
     "output_type": "execute_result"
    }
   ],
   "source": [
    "processed_df.head(5)"
   ]
  },
  {
   "cell_type": "markdown",
   "metadata": {},
   "source": [
    "- Checking length"
   ]
  },
  {
   "cell_type": "code",
   "execution_count": null,
   "metadata": {},
   "outputs": [
    {
     "data": {
      "text/plain": [
       "count    4.760000e+02\n",
       "mean     1.153260e+06\n",
       "std      7.499127e+06\n",
       "min      1.950000e+02\n",
       "25%      6.985000e+02\n",
       "50%      1.136500e+03\n",
       "75%      1.687000e+03\n",
       "max      8.829979e+07\n",
       "Name: length, dtype: float64"
      ]
     },
     "execution_count": 124,
     "metadata": {},
     "output_type": "execute_result"
    }
   ],
   "source": [
    "processed_df[\"length\"] = processed_df[\"full_sequence\"].str.len()\n",
    "processed_df[\"length\"].describe()"
   ]
  },
  {
   "cell_type": "code",
   "execution_count": null,
   "metadata": {},
   "outputs": [
    {
     "ename": "KeyboardInterrupt",
     "evalue": "",
     "output_type": "error",
     "traceback": [
      "\u001b[0;31m---------------------------------------------------------------------------\u001b[0m",
      "\u001b[0;31mKeyboardInterrupt\u001b[0m                         Traceback (most recent call last)",
      "Cell \u001b[0;32mIn[125], line 1\u001b[0m\n\u001b[0;32m----> 1\u001b[0m \u001b[43msns\u001b[49m\u001b[38;5;241;43m.\u001b[39;49m\u001b[43mhistplot\u001b[49m\u001b[43m(\u001b[49m\u001b[43mdata\u001b[49m\u001b[38;5;241;43m=\u001b[39;49m\u001b[43mprocessed_df\u001b[49m\u001b[43m,\u001b[49m\u001b[43m \u001b[49m\u001b[43mx\u001b[49m\u001b[38;5;241;43m=\u001b[39;49m\u001b[38;5;124;43m\"\u001b[39;49m\u001b[38;5;124;43mlength\u001b[39;49m\u001b[38;5;124;43m\"\u001b[39;49m\u001b[43m,\u001b[49m\u001b[43m \u001b[49m\u001b[43mfill\u001b[49m\u001b[38;5;241;43m=\u001b[39;49m\u001b[38;5;28;43;01mFalse\u001b[39;49;00m\u001b[43m)\u001b[49m\n",
      "File \u001b[0;32m~/miniconda3/envs/training_models_pi/lib/python3.12/site-packages/seaborn/distributions.py:1416\u001b[0m, in \u001b[0;36mhistplot\u001b[0;34m(data, x, y, hue, weights, stat, bins, binwidth, binrange, discrete, cumulative, common_bins, common_norm, multiple, element, fill, shrink, kde, kde_kws, line_kws, thresh, pthresh, pmax, cbar, cbar_ax, cbar_kws, palette, hue_order, hue_norm, color, log_scale, legend, ax, **kwargs)\u001b[0m\n\u001b[1;32m   1405\u001b[0m estimate_kws \u001b[38;5;241m=\u001b[39m \u001b[38;5;28mdict\u001b[39m(\n\u001b[1;32m   1406\u001b[0m     stat\u001b[38;5;241m=\u001b[39mstat,\n\u001b[1;32m   1407\u001b[0m     bins\u001b[38;5;241m=\u001b[39mbins,\n\u001b[0;32m   (...)\u001b[0m\n\u001b[1;32m   1411\u001b[0m     cumulative\u001b[38;5;241m=\u001b[39mcumulative,\n\u001b[1;32m   1412\u001b[0m )\n\u001b[1;32m   1414\u001b[0m \u001b[38;5;28;01mif\u001b[39;00m p\u001b[38;5;241m.\u001b[39munivariate:\n\u001b[0;32m-> 1416\u001b[0m     \u001b[43mp\u001b[49m\u001b[38;5;241;43m.\u001b[39;49m\u001b[43mplot_univariate_histogram\u001b[49m\u001b[43m(\u001b[49m\n\u001b[1;32m   1417\u001b[0m \u001b[43m        \u001b[49m\u001b[43mmultiple\u001b[49m\u001b[38;5;241;43m=\u001b[39;49m\u001b[43mmultiple\u001b[49m\u001b[43m,\u001b[49m\n\u001b[1;32m   1418\u001b[0m \u001b[43m        \u001b[49m\u001b[43melement\u001b[49m\u001b[38;5;241;43m=\u001b[39;49m\u001b[43melement\u001b[49m\u001b[43m,\u001b[49m\n\u001b[1;32m   1419\u001b[0m \u001b[43m        \u001b[49m\u001b[43mfill\u001b[49m\u001b[38;5;241;43m=\u001b[39;49m\u001b[43mfill\u001b[49m\u001b[43m,\u001b[49m\n\u001b[1;32m   1420\u001b[0m \u001b[43m        \u001b[49m\u001b[43mshrink\u001b[49m\u001b[38;5;241;43m=\u001b[39;49m\u001b[43mshrink\u001b[49m\u001b[43m,\u001b[49m\n\u001b[1;32m   1421\u001b[0m \u001b[43m        \u001b[49m\u001b[43mcommon_norm\u001b[49m\u001b[38;5;241;43m=\u001b[39;49m\u001b[43mcommon_norm\u001b[49m\u001b[43m,\u001b[49m\n\u001b[1;32m   1422\u001b[0m \u001b[43m        \u001b[49m\u001b[43mcommon_bins\u001b[49m\u001b[38;5;241;43m=\u001b[39;49m\u001b[43mcommon_bins\u001b[49m\u001b[43m,\u001b[49m\n\u001b[1;32m   1423\u001b[0m \u001b[43m        \u001b[49m\u001b[43mkde\u001b[49m\u001b[38;5;241;43m=\u001b[39;49m\u001b[43mkde\u001b[49m\u001b[43m,\u001b[49m\n\u001b[1;32m   1424\u001b[0m \u001b[43m        \u001b[49m\u001b[43mkde_kws\u001b[49m\u001b[38;5;241;43m=\u001b[39;49m\u001b[43mkde_kws\u001b[49m\u001b[43m,\u001b[49m\n\u001b[1;32m   1425\u001b[0m \u001b[43m        \u001b[49m\u001b[43mcolor\u001b[49m\u001b[38;5;241;43m=\u001b[39;49m\u001b[43mcolor\u001b[49m\u001b[43m,\u001b[49m\n\u001b[1;32m   1426\u001b[0m \u001b[43m        \u001b[49m\u001b[43mlegend\u001b[49m\u001b[38;5;241;43m=\u001b[39;49m\u001b[43mlegend\u001b[49m\u001b[43m,\u001b[49m\n\u001b[1;32m   1427\u001b[0m \u001b[43m        \u001b[49m\u001b[43mestimate_kws\u001b[49m\u001b[38;5;241;43m=\u001b[39;49m\u001b[43mestimate_kws\u001b[49m\u001b[43m,\u001b[49m\n\u001b[1;32m   1428\u001b[0m \u001b[43m        \u001b[49m\u001b[43mline_kws\u001b[49m\u001b[38;5;241;43m=\u001b[39;49m\u001b[43mline_kws\u001b[49m\u001b[43m,\u001b[49m\n\u001b[1;32m   1429\u001b[0m \u001b[43m        \u001b[49m\u001b[38;5;241;43m*\u001b[39;49m\u001b[38;5;241;43m*\u001b[39;49m\u001b[43mkwargs\u001b[49m\u001b[43m,\u001b[49m\n\u001b[1;32m   1430\u001b[0m \u001b[43m    \u001b[49m\u001b[43m)\u001b[49m\n\u001b[1;32m   1432\u001b[0m \u001b[38;5;28;01melse\u001b[39;00m:\n\u001b[1;32m   1434\u001b[0m     p\u001b[38;5;241m.\u001b[39mplot_bivariate_histogram(\n\u001b[1;32m   1435\u001b[0m         common_bins\u001b[38;5;241m=\u001b[39mcommon_bins,\n\u001b[1;32m   1436\u001b[0m         common_norm\u001b[38;5;241m=\u001b[39mcommon_norm,\n\u001b[0;32m   (...)\u001b[0m\n\u001b[1;32m   1446\u001b[0m         \u001b[38;5;241m*\u001b[39m\u001b[38;5;241m*\u001b[39mkwargs,\n\u001b[1;32m   1447\u001b[0m     )\n",
      "File \u001b[0;32m~/miniconda3/envs/training_models_pi/lib/python3.12/site-packages/seaborn/distributions.py:571\u001b[0m, in \u001b[0;36m_DistributionPlotter.plot_univariate_histogram\u001b[0;34m(self, multiple, element, fill, common_norm, common_bins, shrink, kde, kde_kws, color, legend, line_kws, estimate_kws, **plot_kws)\u001b[0m\n\u001b[1;32m    566\u001b[0m \u001b[38;5;28;01mif\u001b[39;00m element \u001b[38;5;241m==\u001b[39m \u001b[38;5;124m\"\u001b[39m\u001b[38;5;124mbars\u001b[39m\u001b[38;5;124m\"\u001b[39m:\n\u001b[1;32m    567\u001b[0m \n\u001b[1;32m    568\u001b[0m     \u001b[38;5;66;03m# Use matplotlib bar plotting\u001b[39;00m\n\u001b[1;32m    570\u001b[0m     plot_func \u001b[38;5;241m=\u001b[39m ax\u001b[38;5;241m.\u001b[39mbar \u001b[38;5;28;01mif\u001b[39;00m \u001b[38;5;28mself\u001b[39m\u001b[38;5;241m.\u001b[39mdata_variable \u001b[38;5;241m==\u001b[39m \u001b[38;5;124m\"\u001b[39m\u001b[38;5;124mx\u001b[39m\u001b[38;5;124m\"\u001b[39m \u001b[38;5;28;01melse\u001b[39;00m ax\u001b[38;5;241m.\u001b[39mbarh\n\u001b[0;32m--> 571\u001b[0m     artists \u001b[38;5;241m=\u001b[39m \u001b[43mplot_func\u001b[49m\u001b[43m(\u001b[49m\n\u001b[1;32m    572\u001b[0m \u001b[43m        \u001b[49m\u001b[43mhist\u001b[49m\u001b[43m[\u001b[49m\u001b[38;5;124;43m\"\u001b[39;49m\u001b[38;5;124;43medges\u001b[39;49m\u001b[38;5;124;43m\"\u001b[39;49m\u001b[43m]\u001b[49m\u001b[43m,\u001b[49m\n\u001b[1;32m    573\u001b[0m \u001b[43m        \u001b[49m\u001b[43mhist\u001b[49m\u001b[43m[\u001b[49m\u001b[38;5;124;43m\"\u001b[39;49m\u001b[38;5;124;43mheights\u001b[39;49m\u001b[38;5;124;43m\"\u001b[39;49m\u001b[43m]\u001b[49m\u001b[43m \u001b[49m\u001b[38;5;241;43m-\u001b[39;49m\u001b[43m \u001b[49m\u001b[43mbottom\u001b[49m\u001b[43m,\u001b[49m\n\u001b[1;32m    574\u001b[0m \u001b[43m        \u001b[49m\u001b[43mhist\u001b[49m\u001b[43m[\u001b[49m\u001b[38;5;124;43m\"\u001b[39;49m\u001b[38;5;124;43mwidths\u001b[39;49m\u001b[38;5;124;43m\"\u001b[39;49m\u001b[43m]\u001b[49m\u001b[43m,\u001b[49m\n\u001b[1;32m    575\u001b[0m \u001b[43m        \u001b[49m\u001b[43mbottom\u001b[49m\u001b[43m,\u001b[49m\n\u001b[1;32m    576\u001b[0m \u001b[43m        \u001b[49m\u001b[43malign\u001b[49m\u001b[38;5;241;43m=\u001b[39;49m\u001b[38;5;124;43m\"\u001b[39;49m\u001b[38;5;124;43medge\u001b[39;49m\u001b[38;5;124;43m\"\u001b[39;49m\u001b[43m,\u001b[49m\n\u001b[1;32m    577\u001b[0m \u001b[43m        \u001b[49m\u001b[38;5;241;43m*\u001b[39;49m\u001b[38;5;241;43m*\u001b[39;49m\u001b[43martist_kws\u001b[49m\u001b[43m,\u001b[49m\n\u001b[1;32m    578\u001b[0m \u001b[43m    \u001b[49m\u001b[43m)\u001b[49m\n\u001b[1;32m    580\u001b[0m     \u001b[38;5;28;01mfor\u001b[39;00m bar \u001b[38;5;129;01min\u001b[39;00m artists:\n\u001b[1;32m    581\u001b[0m         \u001b[38;5;28;01mif\u001b[39;00m \u001b[38;5;28mself\u001b[39m\u001b[38;5;241m.\u001b[39mdata_variable \u001b[38;5;241m==\u001b[39m \u001b[38;5;124m\"\u001b[39m\u001b[38;5;124mx\u001b[39m\u001b[38;5;124m\"\u001b[39m:\n",
      "File \u001b[0;32m~/miniconda3/envs/training_models_pi/lib/python3.12/site-packages/matplotlib/__init__.py:1476\u001b[0m, in \u001b[0;36m_preprocess_data.<locals>.inner\u001b[0;34m(ax, data, *args, **kwargs)\u001b[0m\n\u001b[1;32m   1473\u001b[0m \u001b[38;5;129m@functools\u001b[39m\u001b[38;5;241m.\u001b[39mwraps(func)\n\u001b[1;32m   1474\u001b[0m \u001b[38;5;28;01mdef\u001b[39;00m \u001b[38;5;21minner\u001b[39m(ax, \u001b[38;5;241m*\u001b[39margs, data\u001b[38;5;241m=\u001b[39m\u001b[38;5;28;01mNone\u001b[39;00m, \u001b[38;5;241m*\u001b[39m\u001b[38;5;241m*\u001b[39mkwargs):\n\u001b[1;32m   1475\u001b[0m     \u001b[38;5;28;01mif\u001b[39;00m data \u001b[38;5;129;01mis\u001b[39;00m \u001b[38;5;28;01mNone\u001b[39;00m:\n\u001b[0;32m-> 1476\u001b[0m         \u001b[38;5;28;01mreturn\u001b[39;00m \u001b[43mfunc\u001b[49m\u001b[43m(\u001b[49m\n\u001b[1;32m   1477\u001b[0m \u001b[43m            \u001b[49m\u001b[43max\u001b[49m\u001b[43m,\u001b[49m\n\u001b[1;32m   1478\u001b[0m \u001b[43m            \u001b[49m\u001b[38;5;241;43m*\u001b[39;49m\u001b[38;5;28;43mmap\u001b[39;49m\u001b[43m(\u001b[49m\u001b[43msanitize_sequence\u001b[49m\u001b[43m,\u001b[49m\u001b[43m \u001b[49m\u001b[43margs\u001b[49m\u001b[43m)\u001b[49m\u001b[43m,\u001b[49m\n\u001b[1;32m   1479\u001b[0m \u001b[43m            \u001b[49m\u001b[38;5;241;43m*\u001b[39;49m\u001b[38;5;241;43m*\u001b[39;49m\u001b[43m{\u001b[49m\u001b[43mk\u001b[49m\u001b[43m:\u001b[49m\u001b[43m \u001b[49m\u001b[43msanitize_sequence\u001b[49m\u001b[43m(\u001b[49m\u001b[43mv\u001b[49m\u001b[43m)\u001b[49m\u001b[43m \u001b[49m\u001b[38;5;28;43;01mfor\u001b[39;49;00m\u001b[43m \u001b[49m\u001b[43mk\u001b[49m\u001b[43m,\u001b[49m\u001b[43m \u001b[49m\u001b[43mv\u001b[49m\u001b[43m \u001b[49m\u001b[38;5;129;43;01min\u001b[39;49;00m\u001b[43m \u001b[49m\u001b[43mkwargs\u001b[49m\u001b[38;5;241;43m.\u001b[39;49m\u001b[43mitems\u001b[49m\u001b[43m(\u001b[49m\u001b[43m)\u001b[49m\u001b[43m}\u001b[49m\u001b[43m)\u001b[49m\n\u001b[1;32m   1481\u001b[0m     bound \u001b[38;5;241m=\u001b[39m new_sig\u001b[38;5;241m.\u001b[39mbind(ax, \u001b[38;5;241m*\u001b[39margs, \u001b[38;5;241m*\u001b[39m\u001b[38;5;241m*\u001b[39mkwargs)\n\u001b[1;32m   1482\u001b[0m     auto_label \u001b[38;5;241m=\u001b[39m (bound\u001b[38;5;241m.\u001b[39marguments\u001b[38;5;241m.\u001b[39mget(label_namer)\n\u001b[1;32m   1483\u001b[0m                   \u001b[38;5;129;01mor\u001b[39;00m bound\u001b[38;5;241m.\u001b[39mkwargs\u001b[38;5;241m.\u001b[39mget(label_namer))\n",
      "File \u001b[0;32m~/miniconda3/envs/training_models_pi/lib/python3.12/site-packages/matplotlib/axes/_axes.py:2583\u001b[0m, in \u001b[0;36mAxes.bar\u001b[0;34m(self, x, height, width, bottom, align, **kwargs)\u001b[0m\n\u001b[1;32m   2580\u001b[0m args \u001b[38;5;241m=\u001b[39m \u001b[38;5;28mzip\u001b[39m(left, bottom, width, height, color, edgecolor, linewidth,\n\u001b[1;32m   2581\u001b[0m            hatch, patch_labels)\n\u001b[1;32m   2582\u001b[0m \u001b[38;5;28;01mfor\u001b[39;00m l, b, w, h, c, e, lw, htch, lbl \u001b[38;5;129;01min\u001b[39;00m args:\n\u001b[0;32m-> 2583\u001b[0m     r \u001b[38;5;241m=\u001b[39m \u001b[43mmpatches\u001b[49m\u001b[38;5;241;43m.\u001b[39;49m\u001b[43mRectangle\u001b[49m\u001b[43m(\u001b[49m\n\u001b[1;32m   2584\u001b[0m \u001b[43m        \u001b[49m\u001b[43mxy\u001b[49m\u001b[38;5;241;43m=\u001b[39;49m\u001b[43m(\u001b[49m\u001b[43ml\u001b[49m\u001b[43m,\u001b[49m\u001b[43m \u001b[49m\u001b[43mb\u001b[49m\u001b[43m)\u001b[49m\u001b[43m,\u001b[49m\u001b[43m \u001b[49m\u001b[43mwidth\u001b[49m\u001b[38;5;241;43m=\u001b[39;49m\u001b[43mw\u001b[49m\u001b[43m,\u001b[49m\u001b[43m \u001b[49m\u001b[43mheight\u001b[49m\u001b[38;5;241;43m=\u001b[39;49m\u001b[43mh\u001b[49m\u001b[43m,\u001b[49m\n\u001b[1;32m   2585\u001b[0m \u001b[43m        \u001b[49m\u001b[43mfacecolor\u001b[49m\u001b[38;5;241;43m=\u001b[39;49m\u001b[43mc\u001b[49m\u001b[43m,\u001b[49m\n\u001b[1;32m   2586\u001b[0m \u001b[43m        \u001b[49m\u001b[43medgecolor\u001b[49m\u001b[38;5;241;43m=\u001b[39;49m\u001b[43me\u001b[49m\u001b[43m,\u001b[49m\n\u001b[1;32m   2587\u001b[0m \u001b[43m        \u001b[49m\u001b[43mlinewidth\u001b[49m\u001b[38;5;241;43m=\u001b[39;49m\u001b[43mlw\u001b[49m\u001b[43m,\u001b[49m\n\u001b[1;32m   2588\u001b[0m \u001b[43m        \u001b[49m\u001b[43mlabel\u001b[49m\u001b[38;5;241;43m=\u001b[39;49m\u001b[43mlbl\u001b[49m\u001b[43m,\u001b[49m\n\u001b[1;32m   2589\u001b[0m \u001b[43m        \u001b[49m\u001b[43mhatch\u001b[49m\u001b[38;5;241;43m=\u001b[39;49m\u001b[43mhtch\u001b[49m\u001b[43m,\u001b[49m\n\u001b[1;32m   2590\u001b[0m \u001b[43m        \u001b[49m\u001b[43m)\u001b[49m\n\u001b[1;32m   2591\u001b[0m     r\u001b[38;5;241m.\u001b[39m_internal_update(kwargs)\n\u001b[1;32m   2592\u001b[0m     r\u001b[38;5;241m.\u001b[39mget_path()\u001b[38;5;241m.\u001b[39m_interpolation_steps \u001b[38;5;241m=\u001b[39m \u001b[38;5;241m100\u001b[39m\n",
      "File \u001b[0;32m~/miniconda3/envs/training_models_pi/lib/python3.12/site-packages/matplotlib/patches.py:738\u001b[0m, in \u001b[0;36mRectangle.__init__\u001b[0;34m(self, xy, width, height, angle, rotation_point, **kwargs)\u001b[0m\n\u001b[1;32m    735\u001b[0m     fmt \u001b[38;5;241m=\u001b[39m \u001b[38;5;124m\"\u001b[39m\u001b[38;5;124mRectangle(xy=(\u001b[39m\u001b[38;5;132;01m%g\u001b[39;00m\u001b[38;5;124m, \u001b[39m\u001b[38;5;132;01m%g\u001b[39;00m\u001b[38;5;124m), width=\u001b[39m\u001b[38;5;132;01m%g\u001b[39;00m\u001b[38;5;124m, height=\u001b[39m\u001b[38;5;132;01m%g\u001b[39;00m\u001b[38;5;124m, angle=\u001b[39m\u001b[38;5;132;01m%g\u001b[39;00m\u001b[38;5;124m)\u001b[39m\u001b[38;5;124m\"\u001b[39m\n\u001b[1;32m    736\u001b[0m     \u001b[38;5;28;01mreturn\u001b[39;00m fmt \u001b[38;5;241m%\u001b[39m pars\n\u001b[0;32m--> 738\u001b[0m \u001b[38;5;129m@_docstring\u001b[39m\u001b[38;5;241m.\u001b[39mdedent_interpd\n\u001b[1;32m    739\u001b[0m \u001b[38;5;28;01mdef\u001b[39;00m \u001b[38;5;21m__init__\u001b[39m(\u001b[38;5;28mself\u001b[39m, xy, width, height, \u001b[38;5;241m*\u001b[39m,\n\u001b[1;32m    740\u001b[0m              angle\u001b[38;5;241m=\u001b[39m\u001b[38;5;241m0.0\u001b[39m, rotation_point\u001b[38;5;241m=\u001b[39m\u001b[38;5;124m'\u001b[39m\u001b[38;5;124mxy\u001b[39m\u001b[38;5;124m'\u001b[39m, \u001b[38;5;241m*\u001b[39m\u001b[38;5;241m*\u001b[39mkwargs):\n\u001b[1;32m    741\u001b[0m \u001b[38;5;250m    \u001b[39m\u001b[38;5;124;03m\"\"\"\u001b[39;00m\n\u001b[1;32m    742\u001b[0m \u001b[38;5;124;03m    Parameters\u001b[39;00m\n\u001b[1;32m    743\u001b[0m \u001b[38;5;124;03m    ----------\u001b[39;00m\n\u001b[0;32m   (...)\u001b[0m\n\u001b[1;32m    760\u001b[0m \u001b[38;5;124;03m        %(Patch:kwdoc)s\u001b[39;00m\n\u001b[1;32m    761\u001b[0m \u001b[38;5;124;03m    \"\"\"\u001b[39;00m\n\u001b[1;32m    762\u001b[0m     \u001b[38;5;28msuper\u001b[39m()\u001b[38;5;241m.\u001b[39m\u001b[38;5;21m__init__\u001b[39m(\u001b[38;5;241m*\u001b[39m\u001b[38;5;241m*\u001b[39mkwargs)\n",
      "\u001b[0;31mKeyboardInterrupt\u001b[0m: "
     ]
    }
   ],
   "source": [
    "sns.histplot(data=processed_df, x=\"length\", fill=False)"
   ]
  },
  {
   "cell_type": "markdown",
   "metadata": {},
   "source": [
    "- Checking identity distribution"
   ]
  },
  {
   "cell_type": "code",
   "execution_count": null,
   "metadata": {},
   "outputs": [
    {
     "data": {
      "text/plain": [
       "<Axes: xlabel='identity', ylabel='Count'>"
      ]
     },
     "execution_count": 98,
     "metadata": {},
     "output_type": "execute_result"
    },
    {
     "data": {
      "image/png": "[encoded data removed]",
      "text/plain": [
       "<Figure size 640x480 with 1 Axes>"
      ]
     },
     "metadata": {},
     "output_type": "display_data"
    }
   ],
   "source": [
    "sns.histplot(data=processed_df, x=\"identity\", fill=False)"
   ]
  },
  {
   "cell_type": "code",
   "execution_count": null,
   "metadata": {},
   "outputs": [
    {
     "data": {
      "text/plain": [
       "<Axes: xlabel='identity'>"
      ]
     },
     "execution_count": 102,
     "metadata": {},
     "output_type": "execute_result"
    },
    {
     "data": {
      "image/png": "[encoded data removed]",
      "text/plain": [
       "<Figure size 640x480 with 1 Axes>"
      ]
     },
     "metadata": {},
     "output_type": "display_data"
    }
   ],
   "source": [
    "sns.boxplot(data=processed_df, x=\"identity\", fill=False)"
   ]
  },
  {
   "cell_type": "code",
   "execution_count": null,
   "metadata": {},
   "outputs": [
    {
     "data": {
      "text/html": [
       "<div>\n",
       "<style scoped>\n",
       "    .dataframe tbody tr th:only-of-type {\n",
       "        vertical-align: middle;\n",
       "    }\n",
       "\n",
       "    .dataframe tbody tr th {\n",
       "        vertical-align: top;\n",
       "    }\n",
       "\n",
       "    .dataframe thead th {\n",
       "        text-align: right;\n",
       "    }\n",
       "</style>\n",
       "<table border=\"1\" class=\"dataframe\">\n",
       "  <thead>\n",
       "    <tr style=\"text-align: right;\">\n",
       "      <th></th>\n",
       "      <th>score</th>\n",
       "      <th>identity</th>\n",
       "    </tr>\n",
       "  </thead>\n",
       "  <tbody>\n",
       "    <tr>\n",
       "      <th>count</th>\n",
       "      <td>476.000000</td>\n",
       "      <td>476.000000</td>\n",
       "    </tr>\n",
       "    <tr>\n",
       "      <th>mean</th>\n",
       "      <td>103.707983</td>\n",
       "      <td>0.927362</td>\n",
       "    </tr>\n",
       "    <tr>\n",
       "      <th>std</th>\n",
       "      <td>33.309281</td>\n",
       "      <td>0.090178</td>\n",
       "    </tr>\n",
       "    <tr>\n",
       "      <th>min</th>\n",
       "      <td>50.000000</td>\n",
       "      <td>0.666667</td>\n",
       "    </tr>\n",
       "    <tr>\n",
       "      <th>25%</th>\n",
       "      <td>73.000000</td>\n",
       "      <td>0.867269</td>\n",
       "    </tr>\n",
       "    <tr>\n",
       "      <th>50%</th>\n",
       "      <td>108.000000</td>\n",
       "      <td>0.982299</td>\n",
       "    </tr>\n",
       "    <tr>\n",
       "      <th>75%</th>\n",
       "      <td>140.000000</td>\n",
       "      <td>1.000000</td>\n",
       "    </tr>\n",
       "    <tr>\n",
       "      <th>max</th>\n",
       "      <td>267.000000</td>\n",
       "      <td>1.000000</td>\n",
       "    </tr>\n",
       "  </tbody>\n",
       "</table>\n",
       "</div>"
      ],
      "text/plain": [
       "            score    identity\n",
       "count  476.000000  476.000000\n",
       "mean   103.707983    0.927362\n",
       "std     33.309281    0.090178\n",
       "min     50.000000    0.666667\n",
       "25%     73.000000    0.867269\n",
       "50%    108.000000    0.982299\n",
       "75%    140.000000    1.000000\n",
       "max    267.000000    1.000000"
      ]
     },
     "execution_count": 99,
     "metadata": {},
     "output_type": "execute_result"
    }
   ],
   "source": [
    "processed_df.describe()"
   ]
  },
  {
   "cell_type": "markdown",
   "metadata": {},
   "source": [
    "- Taking in consideration the statistics descriptors in terms of quantiles, there are no enough information to apply any outlier detector method. Based on this, we will filter for all organisms that has more than 0.95 of identity "
   ]
  },
  {
   "cell_type": "code",
   "execution_count": null,
   "metadata": {},
   "outputs": [
    {
     "data": {
      "text/plain": [
       "1    264\n",
       "0    212\n",
       "Name: is_for_tree, dtype: int64"
      ]
     },
     "execution_count": 118,
     "metadata": {},
     "output_type": "execute_result"
    }
   ],
   "source": [
    "processed_df[\"is_for_tree\"] = (processed_df[\"identity\"]>=0.95).astype(int)\n",
    "processed_df[\"is_for_tree\"].value_counts()"
   ]
  },
  {
   "cell_type": "code",
   "execution_count": null,
   "metadata": {},
   "outputs": [
    {
     "data": {
      "text/plain": [
       "(264, 11)"
      ]
     },
     "execution_count": 119,
     "metadata": {},
     "output_type": "execute_result"
    }
   ],
   "source": [
    "df_for_tree = processed_df[processed_df[\"is_for_tree\"]==1]\n",
    "df_for_tree.shape"
   ]
  },
  {
   "cell_type": "code",
   "execution_count": null,
   "metadata": {},
   "outputs": [
    {
     "data": {
      "text/html": [
       "<div>\n",
       "<style scoped>\n",
       "    .dataframe tbody tr th:only-of-type {\n",
       "        vertical-align: middle;\n",
       "    }\n",
       "\n",
       "    .dataframe tbody tr th {\n",
       "        vertical-align: top;\n",
       "    }\n",
       "\n",
       "    .dataframe thead th {\n",
       "        text-align: right;\n",
       "    }\n",
       "</style>\n",
       "<table border=\"1\" class=\"dataframe\">\n",
       "  <thead>\n",
       "    <tr style=\"text-align: right;\">\n",
       "      <th></th>\n",
       "      <th>title</th>\n",
       "      <th>score</th>\n",
       "      <th>aligned_sequence</th>\n",
       "      <th>identity</th>\n",
       "      <th>is_predicted</th>\n",
       "      <th>organism</th>\n",
       "      <th>gi</th>\n",
       "      <th>additionl_id</th>\n",
       "      <th>to_ignore</th>\n",
       "      <th>full_sequence</th>\n",
       "      <th>is_for_tree</th>\n",
       "    </tr>\n",
       "  </thead>\n",
       "  <tbody>\n",
       "    <tr>\n",
       "      <th>0</th>\n",
       "      <td>gi|2671790432|gb|PP199098.1| Argopecten irradi...</td>\n",
       "      <td>267.0</td>\n",
       "      <td>CTGGTGGTATTGTTTAAGCAGGTGATGCATCTGTTCTACTTCTTCA...</td>\n",
       "      <td>0.953642</td>\n",
       "      <td>False</td>\n",
       "      <td>Argopecten irradians</td>\n",
       "      <td>gi|2671790432</td>\n",
       "      <td>gb|PP199098.1</td>\n",
       "      <td>False</td>\n",
       "      <td>CCATCTTGGATGTTGAGAGGTGTTGCAGCGATAATGGACCGTCTAC...</td>\n",
       "      <td>1</td>\n",
       "    </tr>\n",
       "    <tr>\n",
       "      <th>6</th>\n",
       "      <td>gi|47600836|emb|AJ715983.1| Equus caballus mRN...</td>\n",
       "      <td>144.0</td>\n",
       "      <td>AGAATCACTAGTGAATTCGCGGCCGCCTGCAGGTCGACCATATGGG...</td>\n",
       "      <td>1.000000</td>\n",
       "      <td>False</td>\n",
       "      <td>Equus caballus</td>\n",
       "      <td>gi|47600836</td>\n",
       "      <td>emb|AJ715983.1</td>\n",
       "      <td>False</td>\n",
       "      <td>TTGCTATGCATCCAACGCGTTGGGAGCTCTCCCATATGGTCGACCT...</td>\n",
       "      <td>1</td>\n",
       "    </tr>\n",
       "    <tr>\n",
       "      <th>7</th>\n",
       "      <td>gi|333774853|emb|FR822395.1| Rhodotorula sp. C...</td>\n",
       "      <td>144.0</td>\n",
       "      <td>AGAATCACTAGTGAATTCGCGGCCGCCTGCAGGTCGACCATATGGG...</td>\n",
       "      <td>1.000000</td>\n",
       "      <td>False</td>\n",
       "      <td>Rhodotorula sp.</td>\n",
       "      <td>gi|333774853</td>\n",
       "      <td>emb|FR822395.1</td>\n",
       "      <td>False</td>\n",
       "      <td>CTATTTAGGTGACACTATAGAATACTCAAGCTATGCATCCAACGCG...</td>\n",
       "      <td>1</td>\n",
       "    </tr>\n",
       "    <tr>\n",
       "      <th>8</th>\n",
       "      <td>gi|333774854|emb|FR822396.1| Aspergillus sp. s...</td>\n",
       "      <td>144.0</td>\n",
       "      <td>AGAATCACTAGTGAATTCGCGGCCGCCTGCAGGTCGACCATATGGG...</td>\n",
       "      <td>1.000000</td>\n",
       "      <td>False</td>\n",
       "      <td>Aspergillus sp.</td>\n",
       "      <td>gi|333774854</td>\n",
       "      <td>emb|FR822396.1</td>\n",
       "      <td>False</td>\n",
       "      <td>ATACTCAAGCTATGCATCCAACGCGTTGGGAGCTCTCCCATATGGT...</td>\n",
       "      <td>1</td>\n",
       "    </tr>\n",
       "    <tr>\n",
       "      <th>9</th>\n",
       "      <td>gi|116175378|emb|AM407893.1| Pseudomonas aceph...</td>\n",
       "      <td>142.0</td>\n",
       "      <td>GAATCACTAGTGAATTCGCGGCCGCCTGCAGGTCGACCATATGGGA...</td>\n",
       "      <td>1.000000</td>\n",
       "      <td>False</td>\n",
       "      <td>Pseudomonas acephalitica</td>\n",
       "      <td>gi|116175378</td>\n",
       "      <td>emb|AM407893.1</td>\n",
       "      <td>False</td>\n",
       "      <td>ATATTCGACTCACTATAGGGCGAATTGGGCCCGACGTCTCATGCTC...</td>\n",
       "      <td>1</td>\n",
       "    </tr>\n",
       "  </tbody>\n",
       "</table>\n",
       "</div>"
      ],
      "text/plain": [
       "                                               title  score  \\\n",
       "0  gi|2671790432|gb|PP199098.1| Argopecten irradi...  267.0   \n",
       "6  gi|47600836|emb|AJ715983.1| Equus caballus mRN...  144.0   \n",
       "7  gi|333774853|emb|FR822395.1| Rhodotorula sp. C...  144.0   \n",
       "8  gi|333774854|emb|FR822396.1| Aspergillus sp. s...  144.0   \n",
       "9  gi|116175378|emb|AM407893.1| Pseudomonas aceph...  142.0   \n",
       "\n",
       "                                    aligned_sequence  identity  is_predicted  \\\n",
       "0  CTGGTGGTATTGTTTAAGCAGGTGATGCATCTGTTCTACTTCTTCA...  0.953642         False   \n",
       "6  AGAATCACTAGTGAATTCGCGGCCGCCTGCAGGTCGACCATATGGG...  1.000000         False   \n",
       "7  AGAATCACTAGTGAATTCGCGGCCGCCTGCAGGTCGACCATATGGG...  1.000000         False   \n",
       "8  AGAATCACTAGTGAATTCGCGGCCGCCTGCAGGTCGACCATATGGG...  1.000000         False   \n",
       "9  GAATCACTAGTGAATTCGCGGCCGCCTGCAGGTCGACCATATGGGA...  1.000000         False   \n",
       "\n",
       "                   organism             gi    additionl_id  to_ignore  \\\n",
       "0      Argopecten irradians  gi|2671790432   gb|PP199098.1      False   \n",
       "6            Equus caballus    gi|47600836  emb|AJ715983.1      False   \n",
       "7           Rhodotorula sp.   gi|333774853  emb|FR822395.1      False   \n",
       "8           Aspergillus sp.   gi|333774854  emb|FR822396.1      False   \n",
       "9  Pseudomonas acephalitica   gi|116175378  emb|AM407893.1      False   \n",
       "\n",
       "                                       full_sequence  is_for_tree  \n",
       "0  CCATCTTGGATGTTGAGAGGTGTTGCAGCGATAATGGACCGTCTAC...            1  \n",
       "6  TTGCTATGCATCCAACGCGTTGGGAGCTCTCCCATATGGTCGACCT...            1  \n",
       "7  CTATTTAGGTGACACTATAGAATACTCAAGCTATGCATCCAACGCG...            1  \n",
       "8  ATACTCAAGCTATGCATCCAACGCGTTGGGAGCTCTCCCATATGGT...            1  \n",
       "9  ATATTCGACTCACTATAGGGCGAATTGGGCCCGACGTCTCATGCTC...            1  "
      ]
     },
     "execution_count": 120,
     "metadata": {},
     "output_type": "execute_result"
    }
   ],
   "source": [
    "df_for_tree.head(5)"
   ]
  },
  {
   "cell_type": "markdown",
   "metadata": {},
   "source": [
    "- Prepare a fasta file for generating the MSA"
   ]
  },
  {
   "cell_type": "code",
   "execution_count": null,
   "metadata": {},
   "outputs": [
    {
     "data": {
      "text/plain": [
       "265"
      ]
     },
     "execution_count": 121,
     "metadata": {},
     "output_type": "execute_result"
    }
   ],
   "source": [
    "fasta_file = \"tmp.fasta\"\n",
    "records = [\n",
    "    SeqRecord(Seq(seq), id=seq_id, description=\"\")\n",
    "    for seq_id, seq in zip(df_for_tree[\"organism\"], df_for_tree[\"full_sequence\"])\n",
    "]\n",
    "\n",
    "record_seq = SeqRecord(query_seq, id=\"Argopecten purpuratus\", description=\"\")\n",
    "\n",
    "records.append(record_seq)\n",
    "\n",
    "SeqIO.write(records, fasta_file, \"fasta\")"
   ]
  },
  {
   "cell_type": "markdown",
   "metadata": {},
   "source": [
    "- Runing MSA"
   ]
  }
 ],
 "metadata": {
  "kernelspec": {
   "display_name": "training_models_pi",
   "language": "python",
   "name": "python3"
  },
  "language_info": {
   "codemirror_mode": {
    "name": "ipython",
    "version": 3
   },
   "file_extension": ".py",
   "mimetype": "text/x-python",
   "name": "python",
   "nbconvert_exporter": "python",
   "pygments_lexer": "ipython3",
   "version": "3.12.8"
  }
 },
 "nbformat": 4,
 "nbformat_minor": 2
}
