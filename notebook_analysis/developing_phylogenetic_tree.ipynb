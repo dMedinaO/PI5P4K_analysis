{
 "cells": [
  {
   "cell_type": "markdown",
   "metadata": {},
   "source": [
    "### Developing a phylogenetic tree for the used oligonucletide data in this work\n",
    "\n",
    "This notebook facilitates the implementation of a phylogenetic tree using the processed sequence in this work. For this, the following steps are implemented:\n",
    "\n",
    "- Read processed sequence in this work\n",
    "- Make a query to Blast for identifying candidates for a multi alignment sequence process\n",
    "- Filter candidates based on stablished criteria\n",
    "- Run a multi alignment sequence\n",
    "- Process the MSA and prepare data for the development of a phylogenetic tree\n",
    "- Generate a phylogenetic tree\n",
    "- Plot phylogenetic tree and save the results"
   ]
  },
  {
   "cell_type": "markdown",
   "metadata": {},
   "source": [
    "- Process warning"
   ]
  },
  {
   "cell_type": "code",
   "execution_count": 1,
   "metadata": {},
   "outputs": [],
   "source": [
    "import warnings\n",
    "warnings.filterwarnings('ignore')"
   ]
  },
  {
   "cell_type": "markdown",
   "metadata": {},
   "source": [
    "- Load modules"
   ]
  },
  {
   "cell_type": "code",
   "execution_count": 2,
   "metadata": {},
   "outputs": [],
   "source": [
    "from Bio.Blast import NCBIWWW, NCBIXML\n",
    "from Bio.Align.Applications import ClustalOmegaCommandline\n",
    "from Bio.Phylo.TreeConstruction import DistanceCalculator, DistanceTreeConstructor\n",
    "import matplotlib.pyplot as plt\n",
    "from Bio import SeqIO, Entrez, AlignIO, Phylo\n",
    "from Bio.Seq import Seq\n",
    "from Bio.SeqRecord import SeqRecord\n",
    "import pandas as pd\n",
    "import seaborn as sns\n",
    "import os\n",
    "import re"
   ]
  },
  {
   "cell_type": "markdown",
   "metadata": {},
   "source": [
    "- Auxiliar functions"
   ]
  },
  {
   "cell_type": "code",
   "execution_count": 3,
   "metadata": {},
   "outputs": [],
   "source": [
    "def apply_process_to_name(title):\n",
    "\n",
    "    values = title.split(\"|\")\n",
    "    names = values[-1]\n",
    "    names = names.strip()\n",
    "    names_list = names.split(\" \")\n",
    "    name_data = f\"{names_list[0]} {names_list[1]}\"\n",
    "    return name_data"
   ]
  },
  {
   "cell_type": "code",
   "execution_count": 4,
   "metadata": {},
   "outputs": [],
   "source": [
    "def get_gi(title):\n",
    "    values = title.split(\"|\")\n",
    "    gi_id = f\"{values[0]}|{values[1]}\"\n",
    "    return gi_id"
   ]
  },
  {
   "cell_type": "code",
   "execution_count": 5,
   "metadata": {},
   "outputs": [],
   "source": [
    "def get_additional_id(title):\n",
    "    values = title.split(\"|\")\n",
    "    additional_id = f\"{values[2]}|{values[3]}\"\n",
    "    return additional_id"
   ]
  },
  {
   "cell_type": "code",
   "execution_count": 6,
   "metadata": {},
   "outputs": [],
   "source": [
    "def check_entres_to_ignore(title):\n",
    "    if \"PREDICTED\" in title or \"cultured\" in title or \"Cloning\" in title or \"Synthetic construct\" in title or \"Homo sapiens\" in title:\n",
    "        return True\n",
    "    else:\n",
    "        return False"
   ]
  },
  {
   "cell_type": "code",
   "execution_count": 7,
   "metadata": {},
   "outputs": [],
   "source": [
    "def recover_full_sequence(title):\n",
    "    \n",
    "    try:\n",
    "        Entrez.email = \"david.medina@cebib.cl\"\n",
    "\n",
    "        accession = re.search(r\"\\|([A-Z_]+\\d+\\.\\d+)\\|\", title)\n",
    "        if accession:\n",
    "            acc = accession.group(1)\n",
    "\n",
    "            # Descargar la secuencia completa\n",
    "            handle = Entrez.efetch(db=\"nucleotide\", id=acc, rettype=\"fasta\", retmode=\"text\")\n",
    "            record = SeqIO.read(handle, \"fasta\")\n",
    "            return str(record.seq)\n",
    "        else:\n",
    "            return \"seq not found\"\n",
    "    except:\n",
    "        return \"seq not found\""
   ]
  },
  {
   "cell_type": "markdown",
   "metadata": {},
   "source": [
    "- Load input sequence"
   ]
  },
  {
   "cell_type": "code",
   "execution_count": 8,
   "metadata": {},
   "outputs": [
    {
     "data": {
      "text/plain": [
       "{'Organism': 'Study Argopecten purpuratus',\n",
       " 'Sequence': 'TCAGTTCAACAGTGTTTGGGCATGAGTCTCTACAATGTACTGGTGGTATTGTTTTAGCAGGTGATGCATTTGTTCTACTTCTTCACTGACTAGTGTTTTCACAAAGAATTTCTTATCCTGAGACATCAACATCCGGGCCCCACTCCGGCCGGGGGAGTCTACATCCAACGCCTGCTTAGTTAAGGAGTTCATATAATCTTGGTCATCGATTCCGAATCTCTCCCGGAGATTCCTGAACACAACTGGGCAATACTCCTTACCTTGAAATGACTTGGCATACTTTCTTTGTTGTAAGAATGATTGTCCACTCGTACTTTACTGAACGCTTTAAAATCATCGGGCATCAACATTACAGGAAGGTTCACATGGTTCAAGCCATTTATCGTATGATTAATCCCCCACCAATGACATCTAGAGAATCACTAGTGAATTCGCGGCCGCCTGCAGGTCGACCATATGGGAGAGCTCCCAACGCGTTGGATGCATA'}"
      ]
     },
     "execution_count": 8,
     "metadata": {},
     "output_type": "execute_result"
    }
   ],
   "source": [
    "for record in SeqIO.parse(\"../raw_data/oligos_sequences.fasta\", \"fasta\"):\n",
    "    sequences_to_process = {\n",
    "        \"Organism\" : record.description,\n",
    "        \"Sequence\" : str(record.seq)\n",
    "    }\n",
    "\n",
    "sequences_to_process"
   ]
  },
  {
   "cell_type": "markdown",
   "metadata": {},
   "source": [
    "- Making query to NCBI-BLAST for alignment sequences"
   ]
  },
  {
   "cell_type": "code",
   "execution_count": 38,
   "metadata": {},
   "outputs": [
    {
     "name": "stdout",
     "output_type": "stream",
     "text": [
      "Sending BLAST query to NCBI...\n"
     ]
    },
    {
     "data": {
      "text/html": [
       "<div>\n",
       "<style scoped>\n",
       "    .dataframe tbody tr th:only-of-type {\n",
       "        vertical-align: middle;\n",
       "    }\n",
       "\n",
       "    .dataframe tbody tr th {\n",
       "        vertical-align: top;\n",
       "    }\n",
       "\n",
       "    .dataframe thead th {\n",
       "        text-align: right;\n",
       "    }\n",
       "</style>\n",
       "<table border=\"1\" class=\"dataframe\">\n",
       "  <thead>\n",
       "    <tr style=\"text-align: right;\">\n",
       "      <th></th>\n",
       "      <th>title</th>\n",
       "      <th>score</th>\n",
       "      <th>aligned_sequence</th>\n",
       "      <th>identity</th>\n",
       "    </tr>\n",
       "  </thead>\n",
       "  <tbody>\n",
       "    <tr>\n",
       "      <th>0</th>\n",
       "      <td>gi|1774220794|gb|MK896701.1| Dinophilus vortic...</td>\n",
       "      <td>36.0</td>\n",
       "      <td>TGTTTTAGCAGG---TGCAATTACTATACTTC-TCACTGAC</td>\n",
       "      <td>0.804878</td>\n",
       "    </tr>\n",
       "    <tr>\n",
       "      <th>1</th>\n",
       "      <td>gi|380508830|ref|NC_006886.2| Mytilus gallopro...</td>\n",
       "      <td>36.0</td>\n",
       "      <td>ATGGTTCAAGCCATTTAT</td>\n",
       "      <td>1.000000</td>\n",
       "    </tr>\n",
       "  </tbody>\n",
       "</table>\n",
       "</div>"
      ],
      "text/plain": [
       "                                               title  score  \\\n",
       "0  gi|1774220794|gb|MK896701.1| Dinophilus vortic...   36.0   \n",
       "1  gi|380508830|ref|NC_006886.2| Mytilus gallopro...   36.0   \n",
       "\n",
       "                            aligned_sequence  identity  \n",
       "0  TGTTTTAGCAGG---TGCAATTACTATACTTC-TCACTGAC  0.804878  \n",
       "1                         ATGGTTCAAGCCATTTAT  1.000000  "
      ]
     },
     "execution_count": 38,
     "metadata": {},
     "output_type": "execute_result"
    }
   ],
   "source": [
    "query_seq = Seq(sequences_to_process[\"Sequence\"])\n",
    "record = SeqRecord(query_seq, id=\"Query1\", description=sequences_to_process[\"Organism\"])\n",
    "\n",
    "print(\"Sending BLAST query to NCBI...\")\n",
    "result_handle = NCBIWWW.qblast(\n",
    "    program=\"blastn\",             \n",
    "    database=\"nt\",                \n",
    "    sequence=record.format(\"fasta\"),\n",
    "    hitlist_size=10000,              \n",
    "    format_type=\"XML\",\n",
    "    entrez_query=\"marine[All Fields] AND COI[Gene]\"\n",
    ")\n",
    "\n",
    "blast_records = NCBIXML.read(result_handle)\n",
    "\n",
    "filter_sequences = []\n",
    "\n",
    "for alignment in blast_records.alignments:\n",
    "    hsp = alignment.hsps[0]  # high-scoring pair\n",
    "    \n",
    "    row = [\n",
    "        alignment.title,\n",
    "        hsp.score,\n",
    "        hsp.sbjct,\n",
    "        hsp.identities / hsp.align_length\n",
    "    ]\n",
    "\n",
    "    filter_sequences.append(row)\n",
    "\n",
    "df_selected_sequences = pd.DataFrame(\n",
    "    data=filter_sequences, \n",
    "    columns=[\"title\", \"score\", \"aligned_sequence\", \"identity\"])\n",
    "\n",
    "df_selected_sequences.head(5)"
   ]
  },
  {
   "cell_type": "code",
   "execution_count": 12,
   "metadata": {},
   "outputs": [
    {
     "data": {
      "text/plain": [
       "(130, 4)"
      ]
     },
     "execution_count": 12,
     "metadata": {},
     "output_type": "execute_result"
    }
   ],
   "source": [
    "df_selected_sequences.shape"
   ]
  },
  {
   "cell_type": "markdown",
   "metadata": {},
   "source": [
    "- Removing PREDICTED/Uncultured elements"
   ]
  },
  {
   "cell_type": "code",
   "execution_count": 13,
   "metadata": {},
   "outputs": [
    {
     "data": {
      "text/html": [
       "<div>\n",
       "<style scoped>\n",
       "    .dataframe tbody tr th:only-of-type {\n",
       "        vertical-align: middle;\n",
       "    }\n",
       "\n",
       "    .dataframe tbody tr th {\n",
       "        vertical-align: top;\n",
       "    }\n",
       "\n",
       "    .dataframe thead th {\n",
       "        text-align: right;\n",
       "    }\n",
       "</style>\n",
       "<table border=\"1\" class=\"dataframe\">\n",
       "  <thead>\n",
       "    <tr style=\"text-align: right;\">\n",
       "      <th></th>\n",
       "      <th>title</th>\n",
       "      <th>score</th>\n",
       "      <th>aligned_sequence</th>\n",
       "      <th>identity</th>\n",
       "      <th>to_ignore</th>\n",
       "    </tr>\n",
       "  </thead>\n",
       "  <tbody>\n",
       "    <tr>\n",
       "      <th>1</th>\n",
       "      <td>gi|2671790432|gb|PP199098.1| Argopecten irradi...</td>\n",
       "      <td>267.0</td>\n",
       "      <td>CTGGTGGTATTGTTTAAGCAGGTGATGCATCTGTTCTACTTCTTCA...</td>\n",
       "      <td>0.953642</td>\n",
       "      <td>False</td>\n",
       "    </tr>\n",
       "    <tr>\n",
       "      <th>2</th>\n",
       "      <td>gi|2277725323|gb|MW800702.1| Octopus vulgaris ...</td>\n",
       "      <td>214.0</td>\n",
       "      <td>AACAACGTCTGTGCGTGTCTTTCAACAATATATGAGTGATACTGTT...</td>\n",
       "      <td>0.717500</td>\n",
       "      <td>False</td>\n",
       "    </tr>\n",
       "    <tr>\n",
       "      <th>12</th>\n",
       "      <td>gi|198033776|emb|AM883195.1| endosymbiont of S...</td>\n",
       "      <td>140.0</td>\n",
       "      <td>AATCACTAGTGAATTCGCGGCCGCCTGCAGGTCGACCATATGGGAG...</td>\n",
       "      <td>1.000000</td>\n",
       "      <td>False</td>\n",
       "    </tr>\n",
       "    <tr>\n",
       "      <th>21</th>\n",
       "      <td>gi|198033772|emb|AM883193.1| endosymbiont of O...</td>\n",
       "      <td>140.0</td>\n",
       "      <td>AATCACTAGTGAATTCGCGGCCGCCTGCAGGTCGACCATATGGGAG...</td>\n",
       "      <td>1.000000</td>\n",
       "      <td>False</td>\n",
       "    </tr>\n",
       "    <tr>\n",
       "      <th>50</th>\n",
       "      <td>gi|198033774|emb|AM883194.1| endosymbiont of O...</td>\n",
       "      <td>140.0</td>\n",
       "      <td>AATCACTAGTGAATTCGCGGCCGCCTGCAGGTCGACCATATGGGAG...</td>\n",
       "      <td>1.000000</td>\n",
       "      <td>False</td>\n",
       "    </tr>\n",
       "  </tbody>\n",
       "</table>\n",
       "</div>"
      ],
      "text/plain": [
       "                                                title  score  \\\n",
       "1   gi|2671790432|gb|PP199098.1| Argopecten irradi...  267.0   \n",
       "2   gi|2277725323|gb|MW800702.1| Octopus vulgaris ...  214.0   \n",
       "12  gi|198033776|emb|AM883195.1| endosymbiont of S...  140.0   \n",
       "21  gi|198033772|emb|AM883193.1| endosymbiont of O...  140.0   \n",
       "50  gi|198033774|emb|AM883194.1| endosymbiont of O...  140.0   \n",
       "\n",
       "                                     aligned_sequence  identity  to_ignore  \n",
       "1   CTGGTGGTATTGTTTAAGCAGGTGATGCATCTGTTCTACTTCTTCA...  0.953642      False  \n",
       "2   AACAACGTCTGTGCGTGTCTTTCAACAATATATGAGTGATACTGTT...  0.717500      False  \n",
       "12  AATCACTAGTGAATTCGCGGCCGCCTGCAGGTCGACCATATGGGAG...  1.000000      False  \n",
       "21  AATCACTAGTGAATTCGCGGCCGCCTGCAGGTCGACCATATGGGAG...  1.000000      False  \n",
       "50  AATCACTAGTGAATTCGCGGCCGCCTGCAGGTCGACCATATGGGAG...  1.000000      False  "
      ]
     },
     "execution_count": 13,
     "metadata": {},
     "output_type": "execute_result"
    }
   ],
   "source": [
    "df_selected_sequences[\"to_ignore\"] = df_selected_sequences[\"title\"].apply(check_entres_to_ignore)\n",
    "df_selected_sequences[\"to_ignore\"].value_counts()\n",
    "df_filter_sequences = df_selected_sequences[df_selected_sequences[\"to_ignore\"]==False]\n",
    "df_filter_sequences.head(5)"
   ]
  },
  {
   "cell_type": "code",
   "execution_count": 14,
   "metadata": {},
   "outputs": [
    {
     "data": {
      "text/plain": [
       "(45, 5)"
      ]
     },
     "execution_count": 14,
     "metadata": {},
     "output_type": "execute_result"
    }
   ],
   "source": [
    "df_filter_sequences.shape"
   ]
  },
  {
   "cell_type": "markdown",
   "metadata": {},
   "source": [
    "- Get names and IDs"
   ]
  },
  {
   "cell_type": "code",
   "execution_count": 15,
   "metadata": {},
   "outputs": [
    {
     "data": {
      "text/html": [
       "<div>\n",
       "<style scoped>\n",
       "    .dataframe tbody tr th:only-of-type {\n",
       "        vertical-align: middle;\n",
       "    }\n",
       "\n",
       "    .dataframe tbody tr th {\n",
       "        vertical-align: top;\n",
       "    }\n",
       "\n",
       "    .dataframe thead th {\n",
       "        text-align: right;\n",
       "    }\n",
       "</style>\n",
       "<table border=\"1\" class=\"dataframe\">\n",
       "  <thead>\n",
       "    <tr style=\"text-align: right;\">\n",
       "      <th></th>\n",
       "      <th>title</th>\n",
       "      <th>score</th>\n",
       "      <th>aligned_sequence</th>\n",
       "      <th>identity</th>\n",
       "      <th>to_ignore</th>\n",
       "      <th>organism</th>\n",
       "      <th>gi</th>\n",
       "      <th>additionl_id</th>\n",
       "    </tr>\n",
       "  </thead>\n",
       "  <tbody>\n",
       "    <tr>\n",
       "      <th>1</th>\n",
       "      <td>gi|2671790432|gb|PP199098.1| Argopecten irradi...</td>\n",
       "      <td>267.0</td>\n",
       "      <td>CTGGTGGTATTGTTTAAGCAGGTGATGCATCTGTTCTACTTCTTCA...</td>\n",
       "      <td>0.953642</td>\n",
       "      <td>False</td>\n",
       "      <td>Argopecten irradians</td>\n",
       "      <td>gi|2671790432</td>\n",
       "      <td>gb|PP199098.1</td>\n",
       "    </tr>\n",
       "    <tr>\n",
       "      <th>2</th>\n",
       "      <td>gi|2277725323|gb|MW800702.1| Octopus vulgaris ...</td>\n",
       "      <td>214.0</td>\n",
       "      <td>AACAACGTCTGTGCGTGTCTTTCAACAATATATGAGTGATACTGTT...</td>\n",
       "      <td>0.717500</td>\n",
       "      <td>False</td>\n",
       "      <td>Octopus vulgaris</td>\n",
       "      <td>gi|2277725323</td>\n",
       "      <td>gb|MW800702.1</td>\n",
       "    </tr>\n",
       "    <tr>\n",
       "      <th>12</th>\n",
       "      <td>gi|198033776|emb|AM883195.1| endosymbiont of S...</td>\n",
       "      <td>140.0</td>\n",
       "      <td>AATCACTAGTGAATTCGCGGCCGCCTGCAGGTCGACCATATGGGAG...</td>\n",
       "      <td>1.000000</td>\n",
       "      <td>False</td>\n",
       "      <td>endosymbiont of</td>\n",
       "      <td>gi|198033776</td>\n",
       "      <td>emb|AM883195.1</td>\n",
       "    </tr>\n",
       "    <tr>\n",
       "      <th>21</th>\n",
       "      <td>gi|198033772|emb|AM883193.1| endosymbiont of O...</td>\n",
       "      <td>140.0</td>\n",
       "      <td>AATCACTAGTGAATTCGCGGCCGCCTGCAGGTCGACCATATGGGAG...</td>\n",
       "      <td>1.000000</td>\n",
       "      <td>False</td>\n",
       "      <td>endosymbiont of</td>\n",
       "      <td>gi|198033772</td>\n",
       "      <td>emb|AM883193.1</td>\n",
       "    </tr>\n",
       "    <tr>\n",
       "      <th>50</th>\n",
       "      <td>gi|198033774|emb|AM883194.1| endosymbiont of O...</td>\n",
       "      <td>140.0</td>\n",
       "      <td>AATCACTAGTGAATTCGCGGCCGCCTGCAGGTCGACCATATGGGAG...</td>\n",
       "      <td>1.000000</td>\n",
       "      <td>False</td>\n",
       "      <td>endosymbiont of</td>\n",
       "      <td>gi|198033774</td>\n",
       "      <td>emb|AM883194.1</td>\n",
       "    </tr>\n",
       "  </tbody>\n",
       "</table>\n",
       "</div>"
      ],
      "text/plain": [
       "                                                title  score  \\\n",
       "1   gi|2671790432|gb|PP199098.1| Argopecten irradi...  267.0   \n",
       "2   gi|2277725323|gb|MW800702.1| Octopus vulgaris ...  214.0   \n",
       "12  gi|198033776|emb|AM883195.1| endosymbiont of S...  140.0   \n",
       "21  gi|198033772|emb|AM883193.1| endosymbiont of O...  140.0   \n",
       "50  gi|198033774|emb|AM883194.1| endosymbiont of O...  140.0   \n",
       "\n",
       "                                     aligned_sequence  identity  to_ignore  \\\n",
       "1   CTGGTGGTATTGTTTAAGCAGGTGATGCATCTGTTCTACTTCTTCA...  0.953642      False   \n",
       "2   AACAACGTCTGTGCGTGTCTTTCAACAATATATGAGTGATACTGTT...  0.717500      False   \n",
       "12  AATCACTAGTGAATTCGCGGCCGCCTGCAGGTCGACCATATGGGAG...  1.000000      False   \n",
       "21  AATCACTAGTGAATTCGCGGCCGCCTGCAGGTCGACCATATGGGAG...  1.000000      False   \n",
       "50  AATCACTAGTGAATTCGCGGCCGCCTGCAGGTCGACCATATGGGAG...  1.000000      False   \n",
       "\n",
       "                organism             gi    additionl_id  \n",
       "1   Argopecten irradians  gi|2671790432   gb|PP199098.1  \n",
       "2       Octopus vulgaris  gi|2277725323   gb|MW800702.1  \n",
       "12       endosymbiont of   gi|198033776  emb|AM883195.1  \n",
       "21       endosymbiont of   gi|198033772  emb|AM883193.1  \n",
       "50       endosymbiont of   gi|198033774  emb|AM883194.1  "
      ]
     },
     "execution_count": 15,
     "metadata": {},
     "output_type": "execute_result"
    }
   ],
   "source": [
    "df_filter_sequences[\"organism\"] = df_filter_sequences[\"title\"].apply(apply_process_to_name)\n",
    "df_filter_sequences[\"gi\"] = df_filter_sequences[\"title\"].apply(get_gi)\n",
    "df_filter_sequences[\"additionl_id\"] = df_filter_sequences[\"title\"].apply(get_additional_id)\n",
    "df_filter_sequences.head(5)"
   ]
  },
  {
   "cell_type": "code",
   "execution_count": 16,
   "metadata": {},
   "outputs": [
    {
     "data": {
      "text/plain": [
       "Vibrio harveyi                  6\n",
       "endosymbiont of                 3\n",
       "Symbiodinium sp.                2\n",
       "Halomonas sp.                   2\n",
       "Pseudomonas sp.                 2\n",
       "Arthrobacter sp.                2\n",
       "Aeromicrobium sp.               1\n",
       "Metabacillus sediminis          1\n",
       "MAG: Candidatus                 1\n",
       "Cherax quadricarinatus          1\n",
       "Vibrio sp.                      1\n",
       "Catalinimonas niigatensis       1\n",
       "MAG: Gemmatimonadetes           1\n",
       "Spongiibacter nanhainus         1\n",
       "Alcanivorax borkumensis         1\n",
       "Bacillus sp.                    1\n",
       "Variovorax sp.                  1\n",
       "Pelagibacterium halotolerans    1\n",
       "Cynoglossus semilaevis          1\n",
       "Argopecten irradians            1\n",
       "Pomacentrus amboinensis         1\n",
       "Octopus vulgaris                1\n",
       "Lithognathus mormyrus           1\n",
       "Aurantiochytrium sp.            1\n",
       "Pichia fermentans               1\n",
       "Aurantimonas sp.                1\n",
       "Nematostella vectensis          1\n",
       "Thraustochytriidae sp.          1\n",
       "Hyphomicrobium sp.              1\n",
       "Janthinobacterium sp.           1\n",
       "Cobetia marina                  1\n",
       "Haplochromis chilotes           1\n",
       "Rhodococcus sp.                 1\n",
       "Shewanella psychrotolerans      1\n",
       "Name: organism, dtype: int64"
      ]
     },
     "execution_count": 16,
     "metadata": {},
     "output_type": "execute_result"
    }
   ],
   "source": [
    "df_filter_sequences[\"organism\"].value_counts()"
   ]
  },
  {
   "cell_type": "markdown",
   "metadata": {},
   "source": [
    "- Checking duplicated entries. Including organisms and sequences"
   ]
  },
  {
   "cell_type": "code",
   "execution_count": 17,
   "metadata": {},
   "outputs": [
    {
     "name": "stdout",
     "output_type": "stream",
     "text": [
      "(28, 7) (6, 7)\n"
     ]
    }
   ],
   "source": [
    "name_cound = df_filter_sequences.groupby(by=\"organism\").count().sort_values(by=\"title\", ascending=False)\n",
    "unique_names = name_cound[name_cound[\"title\"]==1]\n",
    "duplicated_names = name_cound[name_cound[\"title\"]>1]\n",
    "\n",
    "print(unique_names.shape, duplicated_names.shape)"
   ]
  },
  {
   "cell_type": "code",
   "execution_count": 18,
   "metadata": {},
   "outputs": [
    {
     "data": {
      "text/plain": [
       "(28, 8)"
      ]
     },
     "execution_count": 18,
     "metadata": {},
     "output_type": "execute_result"
    }
   ],
   "source": [
    "filter_unique_names = df_filter_sequences[df_filter_sequences[\"organism\"].isin(unique_names.index)]\n",
    "filter_unique_names.shape"
   ]
  },
  {
   "cell_type": "code",
   "execution_count": 19,
   "metadata": {},
   "outputs": [
    {
     "data": {
      "text/plain": [
       "Index(['title', 'score', 'aligned_sequence', 'identity', 'to_ignore',\n",
       "       'organism', 'gi', 'additionl_id'],\n",
       "      dtype='object')"
      ]
     },
     "execution_count": 19,
     "metadata": {},
     "output_type": "execute_result"
    }
   ],
   "source": [
    "filter_unique_names.columns"
   ]
  },
  {
   "cell_type": "code",
   "execution_count": 20,
   "metadata": {},
   "outputs": [
    {
     "data": {
      "text/html": [
       "<div>\n",
       "<style scoped>\n",
       "    .dataframe tbody tr th:only-of-type {\n",
       "        vertical-align: middle;\n",
       "    }\n",
       "\n",
       "    .dataframe tbody tr th {\n",
       "        vertical-align: top;\n",
       "    }\n",
       "\n",
       "    .dataframe thead th {\n",
       "        text-align: right;\n",
       "    }\n",
       "</style>\n",
       "<table border=\"1\" class=\"dataframe\">\n",
       "  <thead>\n",
       "    <tr style=\"text-align: right;\">\n",
       "      <th></th>\n",
       "      <th>title</th>\n",
       "      <th>score</th>\n",
       "      <th>aligned_sequence</th>\n",
       "      <th>identity</th>\n",
       "      <th>to_ignore</th>\n",
       "      <th>organism</th>\n",
       "      <th>gi</th>\n",
       "      <th>additionl_id</th>\n",
       "    </tr>\n",
       "  </thead>\n",
       "  <tbody>\n",
       "    <tr>\n",
       "      <th>0</th>\n",
       "      <td>gi|729057370|gb|CP009467.2| Vibrio harveyi str...</td>\n",
       "      <td>44.0</td>\n",
       "      <td>AGGAATTCATAAGAATCTTGGTCATCGATGCCGA</td>\n",
       "      <td>0.882353</td>\n",
       "      <td>False</td>\n",
       "      <td>Vibrio harveyi</td>\n",
       "      <td>gi|729057370</td>\n",
       "      <td>gb|CP009467.2</td>\n",
       "    </tr>\n",
       "    <tr>\n",
       "      <th>1</th>\n",
       "      <td>gi|198033776|emb|AM883195.1| endosymbiont of S...</td>\n",
       "      <td>140.0</td>\n",
       "      <td>AATCACTAGTGAATTCGCGGCCGCCTGCAGGTCGACCATATGGGAG...</td>\n",
       "      <td>1.000000</td>\n",
       "      <td>False</td>\n",
       "      <td>endosymbiont of</td>\n",
       "      <td>gi|198033776</td>\n",
       "      <td>emb|AM883195.1</td>\n",
       "    </tr>\n",
       "    <tr>\n",
       "      <th>2</th>\n",
       "      <td>gi|34525829|emb|AJ551115.1| Halomonas sp. mp1 ...</td>\n",
       "      <td>107.0</td>\n",
       "      <td>AATCACTAGTG------CGGCCGCCTGCAGGTCGACCATATGGGAG...</td>\n",
       "      <td>0.911765</td>\n",
       "      <td>False</td>\n",
       "      <td>Halomonas sp.</td>\n",
       "      <td>gi|34525829</td>\n",
       "      <td>emb|AJ551115.1</td>\n",
       "    </tr>\n",
       "    <tr>\n",
       "      <th>3</th>\n",
       "      <td>gi|34525865|emb|AJ551151.1| Arthrobacter sp. A...</td>\n",
       "      <td>99.0</td>\n",
       "      <td>AATCACTAGTG------CGGCCGCCTGCAGGTCGACCATATGGGAG...</td>\n",
       "      <td>0.906250</td>\n",
       "      <td>False</td>\n",
       "      <td>Arthrobacter sp.</td>\n",
       "      <td>gi|34525865</td>\n",
       "      <td>emb|AJ551151.1</td>\n",
       "    </tr>\n",
       "    <tr>\n",
       "      <th>4</th>\n",
       "      <td>gi|77362710|dbj|AB207195.1| Symbiodinium sp. A...</td>\n",
       "      <td>61.0</td>\n",
       "      <td>GAATCACTAGTG------CGGCCGCCTGCAGGTCGACCATATGGG</td>\n",
       "      <td>0.866667</td>\n",
       "      <td>False</td>\n",
       "      <td>Symbiodinium sp.</td>\n",
       "      <td>gi|77362710</td>\n",
       "      <td>dbj|AB207195.1</td>\n",
       "    </tr>\n",
       "    <tr>\n",
       "      <th>5</th>\n",
       "      <td>gi|34525856|emb|AJ551142.1| Pseudomonas sp. An...</td>\n",
       "      <td>99.0</td>\n",
       "      <td>AATCACTAGTG------CGGCCGCCTGCAGGTCGACCATATGGGAG...</td>\n",
       "      <td>0.906250</td>\n",
       "      <td>False</td>\n",
       "      <td>Pseudomonas sp.</td>\n",
       "      <td>gi|34525856</td>\n",
       "      <td>emb|AJ551142.1</td>\n",
       "    </tr>\n",
       "  </tbody>\n",
       "</table>\n",
       "</div>"
      ],
      "text/plain": [
       "                                               title  score  \\\n",
       "0  gi|729057370|gb|CP009467.2| Vibrio harveyi str...   44.0   \n",
       "1  gi|198033776|emb|AM883195.1| endosymbiont of S...  140.0   \n",
       "2  gi|34525829|emb|AJ551115.1| Halomonas sp. mp1 ...  107.0   \n",
       "3  gi|34525865|emb|AJ551151.1| Arthrobacter sp. A...   99.0   \n",
       "4  gi|77362710|dbj|AB207195.1| Symbiodinium sp. A...   61.0   \n",
       "5  gi|34525856|emb|AJ551142.1| Pseudomonas sp. An...   99.0   \n",
       "\n",
       "                                    aligned_sequence  identity  to_ignore  \\\n",
       "0                 AGGAATTCATAAGAATCTTGGTCATCGATGCCGA  0.882353      False   \n",
       "1  AATCACTAGTGAATTCGCGGCCGCCTGCAGGTCGACCATATGGGAG...  1.000000      False   \n",
       "2  AATCACTAGTG------CGGCCGCCTGCAGGTCGACCATATGGGAG...  0.911765      False   \n",
       "3  AATCACTAGTG------CGGCCGCCTGCAGGTCGACCATATGGGAG...  0.906250      False   \n",
       "4      GAATCACTAGTG------CGGCCGCCTGCAGGTCGACCATATGGG  0.866667      False   \n",
       "5  AATCACTAGTG------CGGCCGCCTGCAGGTCGACCATATGGGAG...  0.906250      False   \n",
       "\n",
       "           organism            gi    additionl_id  \n",
       "0    Vibrio harveyi  gi|729057370   gb|CP009467.2  \n",
       "1   endosymbiont of  gi|198033776  emb|AM883195.1  \n",
       "2     Halomonas sp.   gi|34525829  emb|AJ551115.1  \n",
       "3  Arthrobacter sp.   gi|34525865  emb|AJ551151.1  \n",
       "4  Symbiodinium sp.   gi|77362710  dbj|AB207195.1  \n",
       "5   Pseudomonas sp.   gi|34525856  emb|AJ551142.1  "
      ]
     },
     "execution_count": 20,
     "metadata": {},
     "output_type": "execute_result"
    }
   ],
   "source": [
    "matrix_duplicated = []\n",
    "for organism in duplicated_names.index:\n",
    "    records_in_df = df_filter_sequences[df_filter_sequences[\"organism\"] == organism]\n",
    "    records_in_df.reset_index(inplace=True)\n",
    "        \n",
    "    row = []\n",
    "\n",
    "    for column in ['title', 'score', 'aligned_sequence', 'identity', 'to_ignore', 'organism', 'gi', 'additionl_id']:\n",
    "        row.append(records_in_df[column][0])\n",
    "    \n",
    "    matrix_duplicated.append(row)\n",
    "\n",
    "df_selected_duplicated = pd.DataFrame(data=matrix_duplicated, columns=filter_unique_names.columns)\n",
    "df_selected_duplicated"
   ]
  },
  {
   "cell_type": "code",
   "execution_count": 21,
   "metadata": {},
   "outputs": [
    {
     "data": {
      "text/plain": [
       "(34, 8)"
      ]
     },
     "execution_count": 21,
     "metadata": {},
     "output_type": "execute_result"
    }
   ],
   "source": [
    "processed_df = pd.concat([filter_unique_names, df_selected_duplicated], axis=0)\n",
    "processed_df.reset_index(inplace=True)\n",
    "processed_df = processed_df.drop(columns=[\"index\"])\n",
    "processed_df.shape"
   ]
  },
  {
   "cell_type": "markdown",
   "metadata": {},
   "source": [
    "- Get full sequences"
   ]
  },
  {
   "cell_type": "code",
   "execution_count": 23,
   "metadata": {},
   "outputs": [],
   "source": [
    "processed_df[\"full_sequence\"] = processed_df[\"title\"].apply(recover_full_sequence)"
   ]
  },
  {
   "cell_type": "code",
   "execution_count": 24,
   "metadata": {},
   "outputs": [
    {
     "data": {
      "text/plain": [
       "(34, 9)"
      ]
     },
     "execution_count": 24,
     "metadata": {},
     "output_type": "execute_result"
    }
   ],
   "source": [
    "processed_df = processed_df[processed_df[\"full_sequence\"] != \"seq not found\"]\n",
    "processed_df.shape"
   ]
  },
  {
   "cell_type": "code",
   "execution_count": 25,
   "metadata": {},
   "outputs": [
    {
     "data": {
      "text/html": [
       "<div>\n",
       "<style scoped>\n",
       "    .dataframe tbody tr th:only-of-type {\n",
       "        vertical-align: middle;\n",
       "    }\n",
       "\n",
       "    .dataframe tbody tr th {\n",
       "        vertical-align: top;\n",
       "    }\n",
       "\n",
       "    .dataframe thead th {\n",
       "        text-align: right;\n",
       "    }\n",
       "</style>\n",
       "<table border=\"1\" class=\"dataframe\">\n",
       "  <thead>\n",
       "    <tr style=\"text-align: right;\">\n",
       "      <th></th>\n",
       "      <th>title</th>\n",
       "      <th>score</th>\n",
       "      <th>aligned_sequence</th>\n",
       "      <th>identity</th>\n",
       "      <th>to_ignore</th>\n",
       "      <th>organism</th>\n",
       "      <th>gi</th>\n",
       "      <th>additionl_id</th>\n",
       "      <th>full_sequence</th>\n",
       "    </tr>\n",
       "  </thead>\n",
       "  <tbody>\n",
       "    <tr>\n",
       "      <th>0</th>\n",
       "      <td>gi|2671790432|gb|PP199098.1| Argopecten irradi...</td>\n",
       "      <td>267.0</td>\n",
       "      <td>CTGGTGGTATTGTTTAAGCAGGTGATGCATCTGTTCTACTTCTTCA...</td>\n",
       "      <td>0.953642</td>\n",
       "      <td>False</td>\n",
       "      <td>Argopecten irradians</td>\n",
       "      <td>gi|2671790432</td>\n",
       "      <td>gb|PP199098.1</td>\n",
       "      <td>CCATCTTGGATGTTGAGAGGTGTTGCAGCGATAATGGACCGTCTAC...</td>\n",
       "    </tr>\n",
       "    <tr>\n",
       "      <th>1</th>\n",
       "      <td>gi|2277725323|gb|MW800702.1| Octopus vulgaris ...</td>\n",
       "      <td>214.0</td>\n",
       "      <td>AACAACGTCTGTGCGTGTCTTTCAACAATATATGAGTGATACTGTT...</td>\n",
       "      <td>0.717500</td>\n",
       "      <td>False</td>\n",
       "      <td>Octopus vulgaris</td>\n",
       "      <td>gi|2277725323</td>\n",
       "      <td>gb|MW800702.1</td>\n",
       "      <td>ATGGCTAGTGCCAAAAGGAAGCACCTTAAAATGAAAACTGTCCAAC...</td>\n",
       "    </tr>\n",
       "    <tr>\n",
       "      <th>2</th>\n",
       "      <td>gi|34525880|emb|AJ551166.1| Rhodococcus sp. An...</td>\n",
       "      <td>111.0</td>\n",
       "      <td>AATCACTAGTG------CGGCCGCCTGCAGGTCGACCATATGGGAG...</td>\n",
       "      <td>0.914286</td>\n",
       "      <td>False</td>\n",
       "      <td>Rhodococcus sp.</td>\n",
       "      <td>gi|34525880</td>\n",
       "      <td>emb|AJ551166.1</td>\n",
       "      <td>GTCGCATGCTCCCGGCCGCCATGGCCGCGGGATTGGTTACCTTGTT...</td>\n",
       "    </tr>\n",
       "    <tr>\n",
       "      <th>3</th>\n",
       "      <td>gi|170676012|dbj|AB305628.1| Haplochromis chil...</td>\n",
       "      <td>108.0</td>\n",
       "      <td>AATCACTAGTGAAT-CGCGGCCGCCTGCAGGTCGACCATATGGGAG...</td>\n",
       "      <td>0.942857</td>\n",
       "      <td>False</td>\n",
       "      <td>Haplochromis chilotes</td>\n",
       "      <td>gi|170676012</td>\n",
       "      <td>dbj|AB305628.1</td>\n",
       "      <td>GATCTCAGTTTATAGAGATTAATAGCTGTCCACCTCGTAGAAATTA...</td>\n",
       "    </tr>\n",
       "    <tr>\n",
       "      <th>4</th>\n",
       "      <td>gi|329581600|emb|FR750934.1| Cobetia marina pa...</td>\n",
       "      <td>107.0</td>\n",
       "      <td>AATCACTAGTG------CGGCCGCCTGCAGGTCGACCATATGGGAG...</td>\n",
       "      <td>0.911765</td>\n",
       "      <td>False</td>\n",
       "      <td>Cobetia marina</td>\n",
       "      <td>gi|329581600</td>\n",
       "      <td>emb|FR750934.1</td>\n",
       "      <td>CATGCAAGTCGAGCGGAACGATCCTAGCTTGCTAGGAGGCGTCGAG...</td>\n",
       "    </tr>\n",
       "  </tbody>\n",
       "</table>\n",
       "</div>"
      ],
      "text/plain": [
       "                                               title  score  \\\n",
       "0  gi|2671790432|gb|PP199098.1| Argopecten irradi...  267.0   \n",
       "1  gi|2277725323|gb|MW800702.1| Octopus vulgaris ...  214.0   \n",
       "2  gi|34525880|emb|AJ551166.1| Rhodococcus sp. An...  111.0   \n",
       "3  gi|170676012|dbj|AB305628.1| Haplochromis chil...  108.0   \n",
       "4  gi|329581600|emb|FR750934.1| Cobetia marina pa...  107.0   \n",
       "\n",
       "                                    aligned_sequence  identity  to_ignore  \\\n",
       "0  CTGGTGGTATTGTTTAAGCAGGTGATGCATCTGTTCTACTTCTTCA...  0.953642      False   \n",
       "1  AACAACGTCTGTGCGTGTCTTTCAACAATATATGAGTGATACTGTT...  0.717500      False   \n",
       "2  AATCACTAGTG------CGGCCGCCTGCAGGTCGACCATATGGGAG...  0.914286      False   \n",
       "3  AATCACTAGTGAAT-CGCGGCCGCCTGCAGGTCGACCATATGGGAG...  0.942857      False   \n",
       "4  AATCACTAGTG------CGGCCGCCTGCAGGTCGACCATATGGGAG...  0.911765      False   \n",
       "\n",
       "                organism             gi    additionl_id  \\\n",
       "0   Argopecten irradians  gi|2671790432   gb|PP199098.1   \n",
       "1       Octopus vulgaris  gi|2277725323   gb|MW800702.1   \n",
       "2        Rhodococcus sp.    gi|34525880  emb|AJ551166.1   \n",
       "3  Haplochromis chilotes   gi|170676012  dbj|AB305628.1   \n",
       "4         Cobetia marina   gi|329581600  emb|FR750934.1   \n",
       "\n",
       "                                       full_sequence  \n",
       "0  CCATCTTGGATGTTGAGAGGTGTTGCAGCGATAATGGACCGTCTAC...  \n",
       "1  ATGGCTAGTGCCAAAAGGAAGCACCTTAAAATGAAAACTGTCCAAC...  \n",
       "2  GTCGCATGCTCCCGGCCGCCATGGCCGCGGGATTGGTTACCTTGTT...  \n",
       "3  GATCTCAGTTTATAGAGATTAATAGCTGTCCACCTCGTAGAAATTA...  \n",
       "4  CATGCAAGTCGAGCGGAACGATCCTAGCTTGCTAGGAGGCGTCGAG...  "
      ]
     },
     "execution_count": 25,
     "metadata": {},
     "output_type": "execute_result"
    }
   ],
   "source": [
    "processed_df.head(5)"
   ]
  },
  {
   "cell_type": "markdown",
   "metadata": {},
   "source": [
    "- Checking length"
   ]
  },
  {
   "cell_type": "code",
   "execution_count": 26,
   "metadata": {},
   "outputs": [
    {
     "data": {
      "text/plain": [
       "count    3.400000e+01\n",
       "mean     1.567519e+06\n",
       "std      2.283889e+06\n",
       "min      4.730000e+02\n",
       "25%      8.072500e+02\n",
       "50%      1.600000e+03\n",
       "75%      3.752318e+06\n",
       "max      7.168845e+06\n",
       "Name: length, dtype: float64"
      ]
     },
     "execution_count": 26,
     "metadata": {},
     "output_type": "execute_result"
    }
   ],
   "source": [
    "processed_df[\"length\"] = processed_df[\"full_sequence\"].str.len()\n",
    "processed_df[\"length\"].describe()"
   ]
  },
  {
   "cell_type": "markdown",
   "metadata": {},
   "source": [
    "- Checking identity distribution"
   ]
  },
  {
   "cell_type": "code",
   "execution_count": 28,
   "metadata": {},
   "outputs": [
    {
     "data": {
      "text/plain": [
       "<Axes: xlabel='identity', ylabel='Count'>"
      ]
     },
     "execution_count": 28,
     "metadata": {},
     "output_type": "execute_result"
    },
    {
     "data": {
      "image/png": "[encoded data removed]",
      "text/plain": [
       "<Figure size 640x480 with 1 Axes>"
      ]
     },
     "metadata": {},
     "output_type": "display_data"
    }
   ],
   "source": [
    "sns.histplot(data=processed_df, x=\"identity\", fill=False)"
   ]
  },
  {
   "cell_type": "code",
   "execution_count": 29,
   "metadata": {},
   "outputs": [
    {
     "data": {
      "text/plain": [
       "<Axes: xlabel='identity'>"
      ]
     },
     "execution_count": 29,
     "metadata": {},
     "output_type": "execute_result"
    },
    {
     "data": {
      "image/png": "[encoded data removed]",
      "text/plain": [
       "<Figure size 640x480 with 1 Axes>"
      ]
     },
     "metadata": {},
     "output_type": "display_data"
    }
   ],
   "source": [
    "sns.boxplot(data=processed_df, x=\"identity\", fill=False)"
   ]
  },
  {
   "cell_type": "code",
   "execution_count": 30,
   "metadata": {},
   "outputs": [
    {
     "data": {
      "text/html": [
       "<div>\n",
       "<style scoped>\n",
       "    .dataframe tbody tr th:only-of-type {\n",
       "        vertical-align: middle;\n",
       "    }\n",
       "\n",
       "    .dataframe tbody tr th {\n",
       "        vertical-align: top;\n",
       "    }\n",
       "\n",
       "    .dataframe thead th {\n",
       "        text-align: right;\n",
       "    }\n",
       "</style>\n",
       "<table border=\"1\" class=\"dataframe\">\n",
       "  <thead>\n",
       "    <tr style=\"text-align: right;\">\n",
       "      <th></th>\n",
       "      <th>score</th>\n",
       "      <th>identity</th>\n",
       "      <th>length</th>\n",
       "    </tr>\n",
       "  </thead>\n",
       "  <tbody>\n",
       "    <tr>\n",
       "      <th>count</th>\n",
       "      <td>34.000000</td>\n",
       "      <td>34.000000</td>\n",
       "      <td>3.400000e+01</td>\n",
       "    </tr>\n",
       "    <tr>\n",
       "      <th>mean</th>\n",
       "      <td>79.088235</td>\n",
       "      <td>0.901412</td>\n",
       "      <td>1.567519e+06</td>\n",
       "    </tr>\n",
       "    <tr>\n",
       "      <th>std</th>\n",
       "      <td>49.246054</td>\n",
       "      <td>0.064673</td>\n",
       "      <td>2.283889e+06</td>\n",
       "    </tr>\n",
       "    <tr>\n",
       "      <th>min</th>\n",
       "      <td>44.000000</td>\n",
       "      <td>0.717500</td>\n",
       "      <td>4.730000e+02</td>\n",
       "    </tr>\n",
       "    <tr>\n",
       "      <th>25%</th>\n",
       "      <td>45.000000</td>\n",
       "      <td>0.874434</td>\n",
       "      <td>8.072500e+02</td>\n",
       "    </tr>\n",
       "    <tr>\n",
       "      <th>50%</th>\n",
       "      <td>63.000000</td>\n",
       "      <td>0.906250</td>\n",
       "      <td>1.600000e+03</td>\n",
       "    </tr>\n",
       "    <tr>\n",
       "      <th>75%</th>\n",
       "      <td>99.000000</td>\n",
       "      <td>0.931034</td>\n",
       "      <td>3.752318e+06</td>\n",
       "    </tr>\n",
       "    <tr>\n",
       "      <th>max</th>\n",
       "      <td>267.000000</td>\n",
       "      <td>1.000000</td>\n",
       "      <td>7.168845e+06</td>\n",
       "    </tr>\n",
       "  </tbody>\n",
       "</table>\n",
       "</div>"
      ],
      "text/plain": [
       "            score   identity        length\n",
       "count   34.000000  34.000000  3.400000e+01\n",
       "mean    79.088235   0.901412  1.567519e+06\n",
       "std     49.246054   0.064673  2.283889e+06\n",
       "min     44.000000   0.717500  4.730000e+02\n",
       "25%     45.000000   0.874434  8.072500e+02\n",
       "50%     63.000000   0.906250  1.600000e+03\n",
       "75%     99.000000   0.931034  3.752318e+06\n",
       "max    267.000000   1.000000  7.168845e+06"
      ]
     },
     "execution_count": 30,
     "metadata": {},
     "output_type": "execute_result"
    }
   ],
   "source": [
    "processed_df.describe()"
   ]
  },
  {
   "cell_type": "code",
   "execution_count": 33,
   "metadata": {},
   "outputs": [
    {
     "data": {
      "text/plain": [
       "1    34\n",
       "Name: is_for_tree, dtype: int64"
      ]
     },
     "execution_count": 33,
     "metadata": {},
     "output_type": "execute_result"
    }
   ],
   "source": [
    "processed_df[\"is_for_tree\"] = (processed_df[\"identity\"]>=0.70).astype(int)\n",
    "processed_df[\"is_for_tree\"].value_counts()"
   ]
  },
  {
   "cell_type": "code",
   "execution_count": 34,
   "metadata": {},
   "outputs": [
    {
     "data": {
      "text/plain": [
       "(34, 11)"
      ]
     },
     "execution_count": 34,
     "metadata": {},
     "output_type": "execute_result"
    }
   ],
   "source": [
    "df_for_tree = processed_df[processed_df[\"is_for_tree\"]==1]\n",
    "df_for_tree.shape"
   ]
  },
  {
   "cell_type": "code",
   "execution_count": 35,
   "metadata": {},
   "outputs": [
    {
     "data": {
      "text/html": [
       "<div>\n",
       "<style scoped>\n",
       "    .dataframe tbody tr th:only-of-type {\n",
       "        vertical-align: middle;\n",
       "    }\n",
       "\n",
       "    .dataframe tbody tr th {\n",
       "        vertical-align: top;\n",
       "    }\n",
       "\n",
       "    .dataframe thead th {\n",
       "        text-align: right;\n",
       "    }\n",
       "</style>\n",
       "<table border=\"1\" class=\"dataframe\">\n",
       "  <thead>\n",
       "    <tr style=\"text-align: right;\">\n",
       "      <th></th>\n",
       "      <th>title</th>\n",
       "      <th>score</th>\n",
       "      <th>aligned_sequence</th>\n",
       "      <th>identity</th>\n",
       "      <th>to_ignore</th>\n",
       "      <th>organism</th>\n",
       "      <th>gi</th>\n",
       "      <th>additionl_id</th>\n",
       "      <th>full_sequence</th>\n",
       "      <th>length</th>\n",
       "      <th>is_for_tree</th>\n",
       "    </tr>\n",
       "  </thead>\n",
       "  <tbody>\n",
       "    <tr>\n",
       "      <th>0</th>\n",
       "      <td>gi|2671790432|gb|PP199098.1| Argopecten irradi...</td>\n",
       "      <td>267.0</td>\n",
       "      <td>CTGGTGGTATTGTTTAAGCAGGTGATGCATCTGTTCTACTTCTTCA...</td>\n",
       "      <td>0.953642</td>\n",
       "      <td>False</td>\n",
       "      <td>Argopecten irradians</td>\n",
       "      <td>gi|2671790432</td>\n",
       "      <td>gb|PP199098.1</td>\n",
       "      <td>CCATCTTGGATGTTGAGAGGTGTTGCAGCGATAATGGACCGTCTAC...</td>\n",
       "      <td>10545</td>\n",
       "      <td>1</td>\n",
       "    </tr>\n",
       "    <tr>\n",
       "      <th>1</th>\n",
       "      <td>gi|2277725323|gb|MW800702.1| Octopus vulgaris ...</td>\n",
       "      <td>214.0</td>\n",
       "      <td>AACAACGTCTGTGCGTGTCTTTCAACAATATATGAGTGATACTGTT...</td>\n",
       "      <td>0.717500</td>\n",
       "      <td>False</td>\n",
       "      <td>Octopus vulgaris</td>\n",
       "      <td>gi|2277725323</td>\n",
       "      <td>gb|MW800702.1</td>\n",
       "      <td>ATGGCTAGTGCCAAAAGGAAGCACCTTAAAATGAAAACTGTCCAAC...</td>\n",
       "      <td>1230</td>\n",
       "      <td>1</td>\n",
       "    </tr>\n",
       "    <tr>\n",
       "      <th>2</th>\n",
       "      <td>gi|34525880|emb|AJ551166.1| Rhodococcus sp. An...</td>\n",
       "      <td>111.0</td>\n",
       "      <td>AATCACTAGTG------CGGCCGCCTGCAGGTCGACCATATGGGAG...</td>\n",
       "      <td>0.914286</td>\n",
       "      <td>False</td>\n",
       "      <td>Rhodococcus sp.</td>\n",
       "      <td>gi|34525880</td>\n",
       "      <td>emb|AJ551166.1</td>\n",
       "      <td>GTCGCATGCTCCCGGCCGCCATGGCCGCGGGATTGGTTACCTTGTT...</td>\n",
       "      <td>1582</td>\n",
       "      <td>1</td>\n",
       "    </tr>\n",
       "    <tr>\n",
       "      <th>3</th>\n",
       "      <td>gi|170676012|dbj|AB305628.1| Haplochromis chil...</td>\n",
       "      <td>108.0</td>\n",
       "      <td>AATCACTAGTGAAT-CGCGGCCGCCTGCAGGTCGACCATATGGGAG...</td>\n",
       "      <td>0.942857</td>\n",
       "      <td>False</td>\n",
       "      <td>Haplochromis chilotes</td>\n",
       "      <td>gi|170676012</td>\n",
       "      <td>dbj|AB305628.1</td>\n",
       "      <td>GATCTCAGTTTATAGAGATTAATAGCTGTCCACCTCGTAGAAATTA...</td>\n",
       "      <td>859</td>\n",
       "      <td>1</td>\n",
       "    </tr>\n",
       "    <tr>\n",
       "      <th>4</th>\n",
       "      <td>gi|329581600|emb|FR750934.1| Cobetia marina pa...</td>\n",
       "      <td>107.0</td>\n",
       "      <td>AATCACTAGTG------CGGCCGCCTGCAGGTCGACCATATGGGAG...</td>\n",
       "      <td>0.911765</td>\n",
       "      <td>False</td>\n",
       "      <td>Cobetia marina</td>\n",
       "      <td>gi|329581600</td>\n",
       "      <td>emb|FR750934.1</td>\n",
       "      <td>CATGCAAGTCGAGCGGAACGATCCTAGCTTGCTAGGAGGCGTCGAG...</td>\n",
       "      <td>1519</td>\n",
       "      <td>1</td>\n",
       "    </tr>\n",
       "  </tbody>\n",
       "</table>\n",
       "</div>"
      ],
      "text/plain": [
       "                                               title  score  \\\n",
       "0  gi|2671790432|gb|PP199098.1| Argopecten irradi...  267.0   \n",
       "1  gi|2277725323|gb|MW800702.1| Octopus vulgaris ...  214.0   \n",
       "2  gi|34525880|emb|AJ551166.1| Rhodococcus sp. An...  111.0   \n",
       "3  gi|170676012|dbj|AB305628.1| Haplochromis chil...  108.0   \n",
       "4  gi|329581600|emb|FR750934.1| Cobetia marina pa...  107.0   \n",
       "\n",
       "                                    aligned_sequence  identity  to_ignore  \\\n",
       "0  CTGGTGGTATTGTTTAAGCAGGTGATGCATCTGTTCTACTTCTTCA...  0.953642      False   \n",
       "1  AACAACGTCTGTGCGTGTCTTTCAACAATATATGAGTGATACTGTT...  0.717500      False   \n",
       "2  AATCACTAGTG------CGGCCGCCTGCAGGTCGACCATATGGGAG...  0.914286      False   \n",
       "3  AATCACTAGTGAAT-CGCGGCCGCCTGCAGGTCGACCATATGGGAG...  0.942857      False   \n",
       "4  AATCACTAGTG------CGGCCGCCTGCAGGTCGACCATATGGGAG...  0.911765      False   \n",
       "\n",
       "                organism             gi    additionl_id  \\\n",
       "0   Argopecten irradians  gi|2671790432   gb|PP199098.1   \n",
       "1       Octopus vulgaris  gi|2277725323   gb|MW800702.1   \n",
       "2        Rhodococcus sp.    gi|34525880  emb|AJ551166.1   \n",
       "3  Haplochromis chilotes   gi|170676012  dbj|AB305628.1   \n",
       "4         Cobetia marina   gi|329581600  emb|FR750934.1   \n",
       "\n",
       "                                       full_sequence  length  is_for_tree  \n",
       "0  CCATCTTGGATGTTGAGAGGTGTTGCAGCGATAATGGACCGTCTAC...   10545            1  \n",
       "1  ATGGCTAGTGCCAAAAGGAAGCACCTTAAAATGAAAACTGTCCAAC...    1230            1  \n",
       "2  GTCGCATGCTCCCGGCCGCCATGGCCGCGGGATTGGTTACCTTGTT...    1582            1  \n",
       "3  GATCTCAGTTTATAGAGATTAATAGCTGTCCACCTCGTAGAAATTA...     859            1  \n",
       "4  CATGCAAGTCGAGCGGAACGATCCTAGCTTGCTAGGAGGCGTCGAG...    1519            1  "
      ]
     },
     "execution_count": 35,
     "metadata": {},
     "output_type": "execute_result"
    }
   ],
   "source": [
    "df_for_tree.head(5)"
   ]
  },
  {
   "cell_type": "markdown",
   "metadata": {},
   "source": [
    "- Prepare a fasta file for generating the MSA"
   ]
  },
  {
   "cell_type": "code",
   "execution_count": 36,
   "metadata": {},
   "outputs": [
    {
     "data": {
      "text/plain": [
       "35"
      ]
     },
     "execution_count": 36,
     "metadata": {},
     "output_type": "execute_result"
    }
   ],
   "source": [
    "fasta_file = \"tmp.fasta\"\n",
    "records = [\n",
    "    SeqRecord(Seq(seq), id=seq_id, description=\"\")\n",
    "    for seq_id, seq in zip(df_for_tree[\"organism\"], df_for_tree[\"full_sequence\"])\n",
    "]\n",
    "\n",
    "record_seq = SeqRecord(query_seq, id=\"Argopecten purpuratus\", description=\"\")\n",
    "\n",
    "records.append(record_seq)\n",
    "\n",
    "SeqIO.write(records, fasta_file, \"fasta\")"
   ]
  },
  {
   "cell_type": "markdown",
   "metadata": {},
   "source": [
    "- Runing MSA"
   ]
  },
  {
   "cell_type": "code",
   "execution_count": null,
   "metadata": {},
   "outputs": [],
   "source": [
    "aligned_file = \"aligned_sequences.fasta\"\n",
    "clustalomega_cline = ClustalOmegaCommandline(\n",
    "    infile=fasta_file, outfile=aligned_file, verbose=True, auto=True, force=True\n",
    ")\n",
    "print(\"Running alignment...\")\n",
    "stdout, stderr = clustalomega_cline()"
   ]
  }
 ],
 "metadata": {
  "kernelspec": {
   "display_name": "training_models_pi",
   "language": "python",
   "name": "python3"
  },
  "language_info": {
   "codemirror_mode": {
    "name": "ipython",
    "version": 3
   },
   "file_extension": ".py",
   "mimetype": "text/x-python",
   "name": "python",
   "nbconvert_exporter": "python",
   "pygments_lexer": "ipython3",
   "version": "3.12.8"
  }
 },
 "nbformat": 4,
 "nbformat_minor": 2
}
