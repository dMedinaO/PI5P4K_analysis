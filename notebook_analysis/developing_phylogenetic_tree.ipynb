{
 "cells": [
  {
   "cell_type": "markdown",
   "metadata": {},
   "source": [
    "### Developing a phylogenetic tree for the used oligonucletide data in this work\n",
    "\n",
    "This notebook facilitates the implementation of a phylogenetic tree using the processed sequence in this work. For this, the following steps are implemented:\n",
    "\n",
    "- Read processed sequence in this work\n",
    "- Make a query to Blast for identifying candidates for a multi alignment sequence process\n",
    "- Filter candidates based on stablished criteria\n",
    "- Run a multi alignment sequence\n",
    "- Process the MSA and prepare data for the development of a phylogenetic tree\n",
    "- Generate a phylogenetic tree\n",
    "- Plot phylogenetic tree and save the results"
   ]
  },
  {
   "cell_type": "markdown",
   "metadata": {},
   "source": [
    "- Process warning"
   ]
  },
  {
   "cell_type": "code",
   "execution_count": 64,
   "metadata": {},
   "outputs": [],
   "source": [
    "import warnings\n",
    "warnings.filterwarnings('ignore')"
   ]
  },
  {
   "cell_type": "markdown",
   "metadata": {},
   "source": [
    "- Auxiliar functions"
   ]
  },
  {
   "cell_type": "code",
   "execution_count": 80,
   "metadata": {},
   "outputs": [],
   "source": [
    "def apply_process_to_name(title):\n",
    "\n",
    "    values = title.split(\"|\")\n",
    "    id_value = values[3]\n",
    "    names = values[-1]\n",
    "    names = names.strip()\n",
    "    names_list = names.split(\" \")\n",
    "    name_data = f\"{id_value}| {names_list[0]} {names_list[1]}\"\n",
    "    return name_data"
   ]
  },
  {
   "cell_type": "code",
   "execution_count": 65,
   "metadata": {},
   "outputs": [],
   "source": [
    "def check_predicted_sequence(title):\n",
    "    if \"PREDICTED\" in title:\n",
    "        return True\n",
    "    else:\n",
    "        return False"
   ]
  },
  {
   "cell_type": "markdown",
   "metadata": {},
   "source": [
    "- Load modules"
   ]
  },
  {
   "cell_type": "code",
   "execution_count": 76,
   "metadata": {},
   "outputs": [],
   "source": [
    "from Bio.Blast import NCBIWWW, NCBIXML\n",
    "from Bio import SeqIO, AlignIO, Phylo\n",
    "from Bio.Align.Applications import ClustalOmegaCommandline\n",
    "from Bio.Phylo.TreeConstruction import DistanceCalculator, DistanceTreeConstructor\n",
    "import matplotlib.pyplot as plt\n",
    "from Bio import SeqIO\n",
    "from Bio.Seq import Seq\n",
    "from Bio.SeqRecord import SeqRecord\n",
    "import pandas as pd\n",
    "import seaborn as sns\n",
    "import os"
   ]
  },
  {
   "cell_type": "markdown",
   "metadata": {},
   "source": [
    "- Load input sequence"
   ]
  },
  {
   "cell_type": "code",
   "execution_count": 67,
   "metadata": {},
   "outputs": [
    {
     "data": {
      "text/plain": [
       "{'Organism': 'Study Argopecten purpuratus',\n",
       " 'Sequence': 'TCAGTTCAACAGTGTTTGGGCATGAGTCTCTACAATGTACTGGTGGTATTGTTTTAGCAGGTGATGCATTTGTTCTACTTCTTCACTGACTAGTGTTTTCACAAAGAATTTCTTATCCTGAGACATCAACATCCGGGCCCCACTCCGGCCGGGGGAGTCTACATCCAACGCCTGCTTAGTTAAGGAGTTCATATAATCTTGGTCATCGATTCCGAATCTCTCCCGGAGATTCCTGAACACAACTGGGCAATACTCCTTACCTTGAAATGACTTGGCATACTTTCTTTGTTGTAAGAATGATTGTCCACTCGTACTTTACTGAACGCTTTAAAATCATCGGGCATCAACATTACAGGAAGGTTCACATGGTTCAAGCCATTTATCGTATGATTAATCCCCCACCAATGACATCTAGAGAATCACTAGTGAATTCGCGGCCGCCTGCAGGTCGACCATATGGGAGAGCTCCCAACGCGTTGGATGCATA'}"
      ]
     },
     "execution_count": 67,
     "metadata": {},
     "output_type": "execute_result"
    }
   ],
   "source": [
    "for record in SeqIO.parse(\"../raw_data_giannina/oligos_sequences.fasta\", \"fasta\"):\n",
    "    sequences_to_process = {\n",
    "        \"Organism\" : record.description,\n",
    "        \"Sequence\" : str(record.seq)\n",
    "    }\n",
    "\n",
    "sequences_to_process"
   ]
  },
  {
   "cell_type": "markdown",
   "metadata": {},
   "source": [
    "- Making query to NCBI-BLAST for alignment sequences"
   ]
  },
  {
   "cell_type": "code",
   "execution_count": 68,
   "metadata": {},
   "outputs": [
    {
     "name": "stdout",
     "output_type": "stream",
     "text": [
      "Sending BLAST query to NCBI...\n"
     ]
    },
    {
     "data": {
      "text/html": [
       "<div>\n",
       "<style scoped>\n",
       "    .dataframe tbody tr th:only-of-type {\n",
       "        vertical-align: middle;\n",
       "    }\n",
       "\n",
       "    .dataframe tbody tr th {\n",
       "        vertical-align: top;\n",
       "    }\n",
       "\n",
       "    .dataframe thead th {\n",
       "        text-align: right;\n",
       "    }\n",
       "</style>\n",
       "<table border=\"1\" class=\"dataframe\">\n",
       "  <thead>\n",
       "    <tr style=\"text-align: right;\">\n",
       "      <th></th>\n",
       "      <th>title</th>\n",
       "      <th>score</th>\n",
       "      <th>sequence</th>\n",
       "      <th>identity</th>\n",
       "    </tr>\n",
       "  </thead>\n",
       "  <tbody>\n",
       "    <tr>\n",
       "      <th>0</th>\n",
       "      <td>gi|2835362640|ref|XM_069255312.1| PREDICTED: A...</td>\n",
       "      <td>735.0</td>\n",
       "      <td>CAACAATGTCTGGGCATGAGTCTCTACAATGTACTGGTGGTATTGT...</td>\n",
       "      <td>0.972292</td>\n",
       "    </tr>\n",
       "    <tr>\n",
       "      <th>1</th>\n",
       "      <td>gi|1835471732|ref|XR_004536138.1| PREDICTED: P...</td>\n",
       "      <td>625.0</td>\n",
       "      <td>CAGCAATGTCTGAGCATGAGTCTCTACAATGTACTGATGGTACTGT...</td>\n",
       "      <td>0.916877</td>\n",
       "    </tr>\n",
       "    <tr>\n",
       "      <th>2</th>\n",
       "      <td>gi|1835471729|ref|XR_004536137.1| PREDICTED: P...</td>\n",
       "      <td>625.0</td>\n",
       "      <td>CAGCAATGTCTGAGCATGAGTCTCTACAATGTACTGATGGTACTGT...</td>\n",
       "      <td>0.916877</td>\n",
       "    </tr>\n",
       "    <tr>\n",
       "      <th>3</th>\n",
       "      <td>gi|1835471725|ref|XM_033906951.1| PREDICTED: P...</td>\n",
       "      <td>625.0</td>\n",
       "      <td>CAGCAATGTCTGAGCATGAGTCTCTACAATGTACTGATGGTACTGT...</td>\n",
       "      <td>0.916877</td>\n",
       "    </tr>\n",
       "    <tr>\n",
       "      <th>4</th>\n",
       "      <td>gi|1207973896|ref|XM_021522106.1| PREDICTED: M...</td>\n",
       "      <td>581.0</td>\n",
       "      <td>GTCTGGGCATGAGTCTCTACAATGTACTGGTGGTACTGTTTGAGTA...</td>\n",
       "      <td>0.900000</td>\n",
       "    </tr>\n",
       "  </tbody>\n",
       "</table>\n",
       "</div>"
      ],
      "text/plain": [
       "                                               title  score  \\\n",
       "0  gi|2835362640|ref|XM_069255312.1| PREDICTED: A...  735.0   \n",
       "1  gi|1835471732|ref|XR_004536138.1| PREDICTED: P...  625.0   \n",
       "2  gi|1835471729|ref|XR_004536137.1| PREDICTED: P...  625.0   \n",
       "3  gi|1835471725|ref|XM_033906951.1| PREDICTED: P...  625.0   \n",
       "4  gi|1207973896|ref|XM_021522106.1| PREDICTED: M...  581.0   \n",
       "\n",
       "                                            sequence  identity  \n",
       "0  CAACAATGTCTGGGCATGAGTCTCTACAATGTACTGGTGGTATTGT...  0.972292  \n",
       "1  CAGCAATGTCTGAGCATGAGTCTCTACAATGTACTGATGGTACTGT...  0.916877  \n",
       "2  CAGCAATGTCTGAGCATGAGTCTCTACAATGTACTGATGGTACTGT...  0.916877  \n",
       "3  CAGCAATGTCTGAGCATGAGTCTCTACAATGTACTGATGGTACTGT...  0.916877  \n",
       "4  GTCTGGGCATGAGTCTCTACAATGTACTGGTGGTACTGTTTGAGTA...  0.900000  "
      ]
     },
     "execution_count": 68,
     "metadata": {},
     "output_type": "execute_result"
    }
   ],
   "source": [
    "query_seq = Seq(sequences_to_process[\"Sequence\"])\n",
    "record = SeqRecord(query_seq, id=\"Query1\", description=sequences_to_process[\"Organism\"])\n",
    "\n",
    "print(\"Sending BLAST query to NCBI...\")\n",
    "result_handle = NCBIWWW.qblast(\n",
    "    program=\"blastn\",             \n",
    "    database=\"nt\",                \n",
    "    sequence=record.format(\"fasta\"),\n",
    "    hitlist_size=1000,              \n",
    "    format_type=\"XML\"\n",
    ")\n",
    "\n",
    "blast_records = NCBIXML.read(result_handle)\n",
    "\n",
    "filter_sequences = []\n",
    "\n",
    "for alignment in blast_records.alignments:\n",
    "    hsp = alignment.hsps[0]  # high-scoring pair\n",
    "    \n",
    "    row = [\n",
    "        alignment.title,\n",
    "        hsp.score,\n",
    "        hsp.sbjct,\n",
    "        hsp.identities / hsp.align_length\n",
    "    ]\n",
    "\n",
    "    filter_sequences.append(row)\n",
    "\n",
    "df_selected_sequences = pd.DataFrame(\n",
    "    data=filter_sequences, \n",
    "    columns=[\"title\", \"score\", \"sequence\", \"identity\"])\n",
    "\n",
    "df_selected_sequences.head(5)"
   ]
  },
  {
   "cell_type": "markdown",
   "metadata": {},
   "source": [
    "- Removing PREDICTED elements"
   ]
  },
  {
   "cell_type": "code",
   "execution_count": 69,
   "metadata": {},
   "outputs": [
    {
     "data": {
      "text/plain": [
       "True     906\n",
       "False     94\n",
       "Name: is_predicted, dtype: int64"
      ]
     },
     "execution_count": 69,
     "metadata": {},
     "output_type": "execute_result"
    }
   ],
   "source": [
    "df_selected_sequences[\"is_predicted\"] = df_selected_sequences[\"title\"].apply(check_predicted_sequence)\n",
    "df_selected_sequences[\"is_predicted\"].value_counts()"
   ]
  },
  {
   "cell_type": "markdown",
   "metadata": {},
   "source": [
    "- Checking duplicated sequences"
   ]
  },
  {
   "cell_type": "code",
   "execution_count": 89,
   "metadata": {},
   "outputs": [
    {
     "data": {
      "text/html": [
       "<div>\n",
       "<style scoped>\n",
       "    .dataframe tbody tr th:only-of-type {\n",
       "        vertical-align: middle;\n",
       "    }\n",
       "\n",
       "    .dataframe tbody tr th {\n",
       "        vertical-align: top;\n",
       "    }\n",
       "\n",
       "    .dataframe thead th {\n",
       "        text-align: right;\n",
       "    }\n",
       "</style>\n",
       "<table border=\"1\" class=\"dataframe\">\n",
       "  <thead>\n",
       "    <tr style=\"text-align: right;\">\n",
       "      <th></th>\n",
       "      <th>title</th>\n",
       "      <th>score</th>\n",
       "      <th>identity</th>\n",
       "      <th>is_predicted</th>\n",
       "      <th>sequence</th>\n",
       "    </tr>\n",
       "    <tr>\n",
       "      <th>sequence</th>\n",
       "      <th></th>\n",
       "      <th></th>\n",
       "      <th></th>\n",
       "      <th></th>\n",
       "      <th></th>\n",
       "    </tr>\n",
       "  </thead>\n",
       "  <tbody>\n",
       "    <tr>\n",
       "      <th>AATCTTGATCATCAATTCCAAACCTCTCCCGCAGGTTACGGAAGACCATCGGGCAGTATTCCTTAAACTTGAAATGGCTCGGCATGTTTTCTTTGTTAAAAAGGTGATTGTCCACCTTTATTTT--TGAATAGGCTTTGAAGTCATCTGGCATCAACATAACAGGGATTTGAACATGGCTCAGTTCATTGATCGAGTGGTTTACCCCCCAC</th>\n",
       "      <td>28</td>\n",
       "      <td>28</td>\n",
       "      <td>28</td>\n",
       "      <td>28</td>\n",
       "      <td>AATCTTGATCATCAATTCCAAACCTCTCCCGCAGGTTACGGAAGAC...</td>\n",
       "    </tr>\n",
       "    <tr>\n",
       "      <th>GAATCACTAGTGAATTCGCGGCCGCCTGCAGGTCGACCATATGGGAGAGCTCCCAACGCGTTGGATGCATA</th>\n",
       "      <td>23</td>\n",
       "      <td>23</td>\n",
       "      <td>23</td>\n",
       "      <td>23</td>\n",
       "      <td>GAATCACTAGTGAATTCGCGGCCGCCTGCAGGTCGACCATATGGGA...</td>\n",
       "    </tr>\n",
       "    <tr>\n",
       "      <th>GAGTTCTGGTAGTCTTGATCGTCAATCCCAAATCTTTCTCGGAGGTTTCGGAACACCAGTGGACAATACTCCTTAAATTTAAAGCGACTTGGCAAGTTTTCCTTGTTGAATAGATGATTGTCCAC-CTTAATCTTACTGTAGGCTTTAAAGTCATCGGGCATTAACATGACAGGGACAGGAACATTGCTGAGTTCATTGATCGTGTGGTTGGCCCCCCAC</th>\n",
       "      <td>20</td>\n",
       "      <td>20</td>\n",
       "      <td>20</td>\n",
       "      <td>20</td>\n",
       "      <td>GAGTTCTGGTAGTCTTGATCGTCAATCCCAAATCTTTCTCGGAGGT...</td>\n",
       "    </tr>\n",
       "    <tr>\n",
       "      <th>AATCTTGATCATCAATTCCAAACCTCTCCCGCAGGTTACGGAAGACCATCGGGCAGTATTCCTTAAACTTGAAATGGCTCGGCATGTTTTCTTTGTTAAAAAGGTGATTGTCCACCTTTATTTT--TGAATAGGCTTTGAAGTCATCTGGCATCAACATAACAGGGATTTGAACATGGCTCAGTTCATTGATCGAGTGGTTTACTCCCCAC</th>\n",
       "      <td>14</td>\n",
       "      <td>14</td>\n",
       "      <td>14</td>\n",
       "      <td>14</td>\n",
       "      <td>AATCTTGATCATCAATTCCAAACCTCTCCCGCAGGTTACGGAAGAC...</td>\n",
       "    </tr>\n",
       "    <tr>\n",
       "      <th>GAGTTCTGGTAGTCTTGATCGTCAATCCCAAATCTTTCTCGGAGGTTTCGGAACACCAGTGGACAATACTCCTTAAATTTAAAGCGACTTGGCAAGTTCTCCTTGTTGAATAGATGATTGTCCAC-CTTAATCTTACTGTAGGCTTTAAAGTCATCGGGCATTAACATGACAGGAACGGGAACATTGCTGAGTTCGTTGATCGTGTGGTTGGCCCCCCAC</th>\n",
       "      <td>12</td>\n",
       "      <td>12</td>\n",
       "      <td>12</td>\n",
       "      <td>12</td>\n",
       "      <td>GAGTTCTGGTAGTCTTGATCGTCAATCCCAAATCTTTCTCGGAGGT...</td>\n",
       "    </tr>\n",
       "    <tr>\n",
       "      <th>...</th>\n",
       "      <td>...</td>\n",
       "      <td>...</td>\n",
       "      <td>...</td>\n",
       "      <td>...</td>\n",
       "      <td>...</td>\n",
       "    </tr>\n",
       "    <tr>\n",
       "      <th>CATGACACTCCACAATAAACTGATGGTATTTCTTCAGTATGTTGTGCATTTCTGCTACATCTTCACTTGTTATAGTTTTGATGATATATCTTTTGTCGTAAGATGTATGAAAGCGGGCACCACTGCGTGCTTGGGAATC-ATTGGCAAGGGGTGCACTTCTTGTCAATGAATTCTGAAAGTCTTGATCATCAATTCCAAACCTCTCTCTAAGATTACGGAAAACCATTGGACAATATTCCTTAAATTTGAAATGACTTGGCATGTTTTCTTTGTTGAAAAGGTGATTGTCCACCTTTATCTT--TGAATACGCTTTGAAATCATCTGGCATCAACATAACAGGGATTTGAACATGGCTCA</th>\n",
       "      <td>1</td>\n",
       "      <td>1</td>\n",
       "      <td>1</td>\n",
       "      <td>1</td>\n",
       "      <td>CATGACACTCCACAATAAACTGATGGTATTTCTTCAGTATGTTGTG...</td>\n",
       "    </tr>\n",
       "    <tr>\n",
       "      <th>CATGACACTCCACAATAAACTGATGGTATTTCTTCAGTATGTTGTGCATTTCTGCTACATCTTCACTTGTTATAGTTTTGATGATATATCTTTTGTCGTAAGATGTATGAAAGCGGGCACCACTGCGTGCTTGGGAATC-ATTGGCAAGGGGTGCACTTCTTGTCAATGAATTCTGAAAGTCCTGATCATCAATTCCAAATCTCTCTCTTAGATTACGGAAAACCATTGGACAATATTCCTTAAATTTGAAATGACTTGGCATGTTTTCTTTGTTG-AAGAGGTGATTGTCCACCTTTATCTTTGAGTACGCTTTGAAATCATCTGGCATCAACATAACAGGGATTTGAACATGGCTCAGTTCATTGATCTGTGTCATTA</th>\n",
       "      <td>1</td>\n",
       "      <td>1</td>\n",
       "      <td>1</td>\n",
       "      <td>1</td>\n",
       "      <td>CATGACACTCCACAATAAACTGATGGTATTTCTTCAGTATGTTGTG...</td>\n",
       "    </tr>\n",
       "    <tr>\n",
       "      <th>CATGACACTCCACAATAAACTGATGGTATTTCTTCAGTATGTTGTGCATTTCTGCTACATCTTCACTTGTTATAGTTTTGATGATATATCTTTTGTCGTAAGATGTATGAAAGCGGGCACCACTGCGTGCTTGGGAATC-ATTGGCAAGGGGTGAACTTCTTGTCAATGAATTCTGAAAGTCTTGATCATCAATTCCAAACCTCTCTCTCAGATTACGGAAAACCATTGGACAATATTCTTTAAATTTGAAATGACTTGGCATGTTTTCTTTGTTGAAAAGGTGATTGTCCACCTTTATCTTTGAGTATGCTTTGAAATCATCTGGCATCAACATAACAGGGATTTGAACATGGCTCAGTTCATTGATCGAGTGGTTGACCCCCCAC</th>\n",
       "      <td>1</td>\n",
       "      <td>1</td>\n",
       "      <td>1</td>\n",
       "      <td>1</td>\n",
       "      <td>CATGACACTCCACAATAAACTGATGGTATTTCTTCAGTATGTTGTG...</td>\n",
       "    </tr>\n",
       "    <tr>\n",
       "      <th>CATGACACTCCACAATAAACTGATGGTATTTCTTCAGTATGTTGTGCATTTCTGCTACATCTTCACTTGTTATAGTTTTGATGATATATCTTTTGTCGTAAGATGTATGAAAGCGGGCACCACTGCGTGCTTGGGAATC-ATTGGCAAGGGGTGAACTTCTTGTCAATGAATTCTGAAAGTCTTGATCATCAATTCCAAACCTCTCTCTCAGATTACGGAAAACCATTGGACAATATTCTTTAAATTTGAAATGACTTGGCATGTTTTCTTTGTTGAAAAGGTGATTGTCCACCTTTATCTTTGAGTACGCTTTGAAATCATCTGGCATCAACATAACAGGGATTTGAACATGGCTCAGTTCATTGATC</th>\n",
       "      <td>1</td>\n",
       "      <td>1</td>\n",
       "      <td>1</td>\n",
       "      <td>1</td>\n",
       "      <td>CATGACACTCCACAATAAACTGATGGTATTTCTTCAGTATGTTGTG...</td>\n",
       "    </tr>\n",
       "    <tr>\n",
       "      <th>TTTGTCAAAGAATTCATATAATCAACATCATCTATTCCAAATCTCTCTCTCAAGTTTCTAAATACAAGTGGACAGTATTCTTTTACCTTAAAATGACTTGGCATATTCTCTTTATTAAAATGATGATTATCCACCTTTATTTTACCGAAGGCTTTAAAATCATCGGGGAGAAGCATCACAGGTATACTGACATGAGTTAATTCATTAATAGTGTGATTCACACCCCAC</th>\n",
       "      <td>1</td>\n",
       "      <td>1</td>\n",
       "      <td>1</td>\n",
       "      <td>1</td>\n",
       "      <td>TTTGTCAAAGAATTCATATAATCAACATCATCTATTCCAAATCTCT...</td>\n",
       "    </tr>\n",
       "  </tbody>\n",
       "</table>\n",
       "<p>535 rows × 5 columns</p>\n",
       "</div>"
      ],
      "text/plain": [
       "                                                    title  score  identity  \\\n",
       "sequence                                                                     \n",
       "AATCTTGATCATCAATTCCAAACCTCTCCCGCAGGTTACGGAAGACC...     28     28        28   \n",
       "GAATCACTAGTGAATTCGCGGCCGCCTGCAGGTCGACCATATGGGAG...     23     23        23   \n",
       "GAGTTCTGGTAGTCTTGATCGTCAATCCCAAATCTTTCTCGGAGGTT...     20     20        20   \n",
       "AATCTTGATCATCAATTCCAAACCTCTCCCGCAGGTTACGGAAGACC...     14     14        14   \n",
       "GAGTTCTGGTAGTCTTGATCGTCAATCCCAAATCTTTCTCGGAGGTT...     12     12        12   \n",
       "...                                                   ...    ...       ...   \n",
       "CATGACACTCCACAATAAACTGATGGTATTTCTTCAGTATGTTGTGC...      1      1         1   \n",
       "CATGACACTCCACAATAAACTGATGGTATTTCTTCAGTATGTTGTGC...      1      1         1   \n",
       "CATGACACTCCACAATAAACTGATGGTATTTCTTCAGTATGTTGTGC...      1      1         1   \n",
       "CATGACACTCCACAATAAACTGATGGTATTTCTTCAGTATGTTGTGC...      1      1         1   \n",
       "TTTGTCAAAGAATTCATATAATCAACATCATCTATTCCAAATCTCTC...      1      1         1   \n",
       "\n",
       "                                                    is_predicted  \\\n",
       "sequence                                                           \n",
       "AATCTTGATCATCAATTCCAAACCTCTCCCGCAGGTTACGGAAGACC...            28   \n",
       "GAATCACTAGTGAATTCGCGGCCGCCTGCAGGTCGACCATATGGGAG...            23   \n",
       "GAGTTCTGGTAGTCTTGATCGTCAATCCCAAATCTTTCTCGGAGGTT...            20   \n",
       "AATCTTGATCATCAATTCCAAACCTCTCCCGCAGGTTACGGAAGACC...            14   \n",
       "GAGTTCTGGTAGTCTTGATCGTCAATCCCAAATCTTTCTCGGAGGTT...            12   \n",
       "...                                                          ...   \n",
       "CATGACACTCCACAATAAACTGATGGTATTTCTTCAGTATGTTGTGC...             1   \n",
       "CATGACACTCCACAATAAACTGATGGTATTTCTTCAGTATGTTGTGC...             1   \n",
       "CATGACACTCCACAATAAACTGATGGTATTTCTTCAGTATGTTGTGC...             1   \n",
       "CATGACACTCCACAATAAACTGATGGTATTTCTTCAGTATGTTGTGC...             1   \n",
       "TTTGTCAAAGAATTCATATAATCAACATCATCTATTCCAAATCTCTC...             1   \n",
       "\n",
       "                                                                                             sequence  \n",
       "sequence                                                                                               \n",
       "AATCTTGATCATCAATTCCAAACCTCTCCCGCAGGTTACGGAAGACC...  AATCTTGATCATCAATTCCAAACCTCTCCCGCAGGTTACGGAAGAC...  \n",
       "GAATCACTAGTGAATTCGCGGCCGCCTGCAGGTCGACCATATGGGAG...  GAATCACTAGTGAATTCGCGGCCGCCTGCAGGTCGACCATATGGGA...  \n",
       "GAGTTCTGGTAGTCTTGATCGTCAATCCCAAATCTTTCTCGGAGGTT...  GAGTTCTGGTAGTCTTGATCGTCAATCCCAAATCTTTCTCGGAGGT...  \n",
       "AATCTTGATCATCAATTCCAAACCTCTCCCGCAGGTTACGGAAGACC...  AATCTTGATCATCAATTCCAAACCTCTCCCGCAGGTTACGGAAGAC...  \n",
       "GAGTTCTGGTAGTCTTGATCGTCAATCCCAAATCTTTCTCGGAGGTT...  GAGTTCTGGTAGTCTTGATCGTCAATCCCAAATCTTTCTCGGAGGT...  \n",
       "...                                                                                               ...  \n",
       "CATGACACTCCACAATAAACTGATGGTATTTCTTCAGTATGTTGTGC...  CATGACACTCCACAATAAACTGATGGTATTTCTTCAGTATGTTGTG...  \n",
       "CATGACACTCCACAATAAACTGATGGTATTTCTTCAGTATGTTGTGC...  CATGACACTCCACAATAAACTGATGGTATTTCTTCAGTATGTTGTG...  \n",
       "CATGACACTCCACAATAAACTGATGGTATTTCTTCAGTATGTTGTGC...  CATGACACTCCACAATAAACTGATGGTATTTCTTCAGTATGTTGTG...  \n",
       "CATGACACTCCACAATAAACTGATGGTATTTCTTCAGTATGTTGTGC...  CATGACACTCCACAATAAACTGATGGTATTTCTTCAGTATGTTGTG...  \n",
       "TTTGTCAAAGAATTCATATAATCAACATCATCTATTCCAAATCTCTC...  TTTGTCAAAGAATTCATATAATCAACATCATCTATTCCAAATCTCT...  \n",
       "\n",
       "[535 rows x 5 columns]"
      ]
     },
     "execution_count": 89,
     "metadata": {},
     "output_type": "execute_result"
    }
   ],
   "source": [
    "sequences_count = df_selected_sequences.groupby(by=\"sequence\").count().sort_values(by=\"title\", ascending=False)\n",
    "unique_sequences = sequences_count[sequences_count[\"title\"]==1]\n",
    "duplicated_sequences = sequences_count[sequences_count[\"title\"]>1]\n",
    "\n",
    "print()"
   ]
  },
  {
   "cell_type": "code",
   "execution_count": 70,
   "metadata": {},
   "outputs": [
    {
     "data": {
      "text/plain": [
       "(94, 5)"
      ]
     },
     "execution_count": 70,
     "metadata": {},
     "output_type": "execute_result"
    }
   ],
   "source": [
    "df_filter = df_selected_sequences[df_selected_sequences[\"is_predicted\"] == False]\n",
    "df_filter.shape"
   ]
  },
  {
   "cell_type": "markdown",
   "metadata": {},
   "source": [
    "- Checking identity distribution"
   ]
  },
  {
   "cell_type": "code",
   "execution_count": 71,
   "metadata": {},
   "outputs": [
    {
     "data": {
      "text/plain": [
       "<Axes: xlabel='identity', ylabel='Count'>"
      ]
     },
     "execution_count": 71,
     "metadata": {},
     "output_type": "execute_result"
    },
    {
     "data": {
      "image/png": "[encoded data removed]",
      "text/plain": [
       "<Figure size 640x480 with 1 Axes>"
      ]
     },
     "metadata": {},
     "output_type": "display_data"
    }
   ],
   "source": [
    "sns.histplot(data=df_filter, x=\"identity\", fill=False)"
   ]
  },
  {
   "cell_type": "code",
   "execution_count": 72,
   "metadata": {},
   "outputs": [
    {
     "data": {
      "text/html": [
       "<div>\n",
       "<style scoped>\n",
       "    .dataframe tbody tr th:only-of-type {\n",
       "        vertical-align: middle;\n",
       "    }\n",
       "\n",
       "    .dataframe tbody tr th {\n",
       "        vertical-align: top;\n",
       "    }\n",
       "\n",
       "    .dataframe thead th {\n",
       "        text-align: right;\n",
       "    }\n",
       "</style>\n",
       "<table border=\"1\" class=\"dataframe\">\n",
       "  <thead>\n",
       "    <tr style=\"text-align: right;\">\n",
       "      <th></th>\n",
       "      <th>score</th>\n",
       "      <th>identity</th>\n",
       "    </tr>\n",
       "  </thead>\n",
       "  <tbody>\n",
       "    <tr>\n",
       "      <th>count</th>\n",
       "      <td>94.000000</td>\n",
       "      <td>94.000000</td>\n",
       "    </tr>\n",
       "    <tr>\n",
       "      <th>mean</th>\n",
       "      <td>149.234043</td>\n",
       "      <td>0.908517</td>\n",
       "    </tr>\n",
       "    <tr>\n",
       "      <th>std</th>\n",
       "      <td>16.291977</td>\n",
       "      <td>0.126814</td>\n",
       "    </tr>\n",
       "    <tr>\n",
       "      <th>min</th>\n",
       "      <td>142.000000</td>\n",
       "      <td>0.684755</td>\n",
       "    </tr>\n",
       "    <tr>\n",
       "      <th>25%</th>\n",
       "      <td>142.250000</td>\n",
       "      <td>0.748815</td>\n",
       "    </tr>\n",
       "    <tr>\n",
       "      <th>50%</th>\n",
       "      <td>144.000000</td>\n",
       "      <td>0.986842</td>\n",
       "    </tr>\n",
       "    <tr>\n",
       "      <th>75%</th>\n",
       "      <td>148.000000</td>\n",
       "      <td>1.000000</td>\n",
       "    </tr>\n",
       "    <tr>\n",
       "      <th>max</th>\n",
       "      <td>267.000000</td>\n",
       "      <td>1.000000</td>\n",
       "    </tr>\n",
       "  </tbody>\n",
       "</table>\n",
       "</div>"
      ],
      "text/plain": [
       "            score   identity\n",
       "count   94.000000  94.000000\n",
       "mean   149.234043   0.908517\n",
       "std     16.291977   0.126814\n",
       "min    142.000000   0.684755\n",
       "25%    142.250000   0.748815\n",
       "50%    144.000000   0.986842\n",
       "75%    148.000000   1.000000\n",
       "max    267.000000   1.000000"
      ]
     },
     "execution_count": 72,
     "metadata": {},
     "output_type": "execute_result"
    }
   ],
   "source": [
    "df_filter.describe()"
   ]
  },
  {
   "cell_type": "markdown",
   "metadata": {},
   "source": [
    "- Taking in consideration the statistics descriptors in terms of quantiles, there are no enough information to apply any outlier detector method. Based on this, we will filter for all organisms that has more than 0.95 of identity "
   ]
  },
  {
   "cell_type": "code",
   "execution_count": 73,
   "metadata": {},
   "outputs": [
    {
     "data": {
      "text/plain": [
       "1    64\n",
       "0    30\n",
       "Name: is_for_tree, dtype: int64"
      ]
     },
     "execution_count": 73,
     "metadata": {},
     "output_type": "execute_result"
    }
   ],
   "source": [
    "df_filter[\"is_for_tree\"] = (df_filter[\"identity\"]>=0.95).astype(int)\n",
    "df_filter[\"is_for_tree\"].value_counts()"
   ]
  },
  {
   "cell_type": "code",
   "execution_count": 75,
   "metadata": {},
   "outputs": [
    {
     "data": {
      "text/plain": [
       "(64, 6)"
      ]
     },
     "execution_count": 75,
     "metadata": {},
     "output_type": "execute_result"
    }
   ],
   "source": [
    "df_for_tree = df_filter[df_filter[\"is_for_tree\"]==1]\n",
    "df_for_tree.shape"
   ]
  },
  {
   "cell_type": "code",
   "execution_count": 78,
   "metadata": {},
   "outputs": [
    {
     "data": {
      "text/html": [
       "<div>\n",
       "<style scoped>\n",
       "    .dataframe tbody tr th:only-of-type {\n",
       "        vertical-align: middle;\n",
       "    }\n",
       "\n",
       "    .dataframe tbody tr th {\n",
       "        vertical-align: top;\n",
       "    }\n",
       "\n",
       "    .dataframe thead th {\n",
       "        text-align: right;\n",
       "    }\n",
       "</style>\n",
       "<table border=\"1\" class=\"dataframe\">\n",
       "  <thead>\n",
       "    <tr style=\"text-align: right;\">\n",
       "      <th></th>\n",
       "      <th>title</th>\n",
       "      <th>score</th>\n",
       "      <th>sequence</th>\n",
       "      <th>identity</th>\n",
       "      <th>is_predicted</th>\n",
       "      <th>is_for_tree</th>\n",
       "    </tr>\n",
       "  </thead>\n",
       "  <tbody>\n",
       "    <tr>\n",
       "      <th>26</th>\n",
       "      <td>gi|2671790432|gb|PP199098.1| Argopecten irradi...</td>\n",
       "      <td>267.0</td>\n",
       "      <td>CTGGTGGTATTGTTTAAGCAGGTGATGCATCTGTTCTACTTCTTCA...</td>\n",
       "      <td>0.953642</td>\n",
       "      <td>False</td>\n",
       "      <td>1</td>\n",
       "    </tr>\n",
       "    <tr>\n",
       "      <th>608</th>\n",
       "      <td>gi|50874046|emb|AJ578646.1| Elaeis guineensis ...</td>\n",
       "      <td>148.0</td>\n",
       "      <td>AGAGAATCACTAGTGAATTCGCGGCCGCCTGCAGGTCGACCATATG...</td>\n",
       "      <td>1.000000</td>\n",
       "      <td>False</td>\n",
       "      <td>1</td>\n",
       "    </tr>\n",
       "    <tr>\n",
       "      <th>618</th>\n",
       "      <td>gi|17148520|emb|AJ420885.1| Entandrophragma cy...</td>\n",
       "      <td>148.0</td>\n",
       "      <td>AGAGAATCACTAGTGAATTCGCGGCCGCCTGCAGGTCGACCATATG...</td>\n",
       "      <td>1.000000</td>\n",
       "      <td>False</td>\n",
       "      <td>1</td>\n",
       "    </tr>\n",
       "    <tr>\n",
       "      <th>621</th>\n",
       "      <td>gi|63024995|emb|AJ888986.2| Cocos nucifera mic...</td>\n",
       "      <td>148.0</td>\n",
       "      <td>AGAGAATCACTAGTGAATTCGCGGCCGCCTGCAGGTCGACCATATG...</td>\n",
       "      <td>1.000000</td>\n",
       "      <td>False</td>\n",
       "      <td>1</td>\n",
       "    </tr>\n",
       "    <tr>\n",
       "      <th>637</th>\n",
       "      <td>gi|17148529|emb|AJ420894.1| Entandrophragma cy...</td>\n",
       "      <td>148.0</td>\n",
       "      <td>AGAGAATCACTAGTGAATTCGCGGCCGCCTGCAGGTCGACCATATG...</td>\n",
       "      <td>1.000000</td>\n",
       "      <td>False</td>\n",
       "      <td>1</td>\n",
       "    </tr>\n",
       "  </tbody>\n",
       "</table>\n",
       "</div>"
      ],
      "text/plain": [
       "                                                 title  score  \\\n",
       "26   gi|2671790432|gb|PP199098.1| Argopecten irradi...  267.0   \n",
       "608  gi|50874046|emb|AJ578646.1| Elaeis guineensis ...  148.0   \n",
       "618  gi|17148520|emb|AJ420885.1| Entandrophragma cy...  148.0   \n",
       "621  gi|63024995|emb|AJ888986.2| Cocos nucifera mic...  148.0   \n",
       "637  gi|17148529|emb|AJ420894.1| Entandrophragma cy...  148.0   \n",
       "\n",
       "                                              sequence  identity  \\\n",
       "26   CTGGTGGTATTGTTTAAGCAGGTGATGCATCTGTTCTACTTCTTCA...  0.953642   \n",
       "608  AGAGAATCACTAGTGAATTCGCGGCCGCCTGCAGGTCGACCATATG...  1.000000   \n",
       "618  AGAGAATCACTAGTGAATTCGCGGCCGCCTGCAGGTCGACCATATG...  1.000000   \n",
       "621  AGAGAATCACTAGTGAATTCGCGGCCGCCTGCAGGTCGACCATATG...  1.000000   \n",
       "637  AGAGAATCACTAGTGAATTCGCGGCCGCCTGCAGGTCGACCATATG...  1.000000   \n",
       "\n",
       "     is_predicted  is_for_tree  \n",
       "26          False            1  \n",
       "608         False            1  \n",
       "618         False            1  \n",
       "621         False            1  \n",
       "637         False            1  "
      ]
     },
     "execution_count": 78,
     "metadata": {},
     "output_type": "execute_result"
    }
   ],
   "source": [
    "df_for_tree.head(5)"
   ]
  },
  {
   "cell_type": "markdown",
   "metadata": {},
   "source": [
    "- Preparing column with the name of the sequences to use"
   ]
  },
  {
   "cell_type": "code",
   "execution_count": 81,
   "metadata": {},
   "outputs": [],
   "source": [
    "df_for_tree[\"name\"] = df_for_tree[\"title\"].apply(apply_process_to_name)"
   ]
  },
  {
   "cell_type": "markdown",
   "metadata": {},
   "source": [
    "- Prepare a fasta file for generating the MSA"
   ]
  },
  {
   "cell_type": "code",
   "execution_count": 84,
   "metadata": {},
   "outputs": [],
   "source": [
    "df_for_tree.to_csv(\"tmp.csv\", index=False)"
   ]
  },
  {
   "cell_type": "code",
   "execution_count": 83,
   "metadata": {},
   "outputs": [
    {
     "data": {
      "text/plain": [
       "64"
      ]
     },
     "execution_count": 83,
     "metadata": {},
     "output_type": "execute_result"
    }
   ],
   "source": [
    "fasta_file = \"tmp.fasta\"\n",
    "records = [\n",
    "    SeqRecord(Seq(seq), id=seq_id, description=\"\")\n",
    "    for seq_id, seq in zip(df_for_tree[\"name\"], df_for_tree[\"sequence\"])\n",
    "]\n",
    "SeqIO.write(records, fasta_file, \"fasta\")"
   ]
  }
 ],
 "metadata": {
  "kernelspec": {
   "display_name": "protein_engineering",
   "language": "python",
   "name": "python3"
  },
  "language_info": {
   "codemirror_mode": {
    "name": "ipython",
    "version": 3
   },
   "file_extension": ".py",
   "mimetype": "text/x-python",
   "name": "python",
   "nbconvert_exporter": "python",
   "pygments_lexer": "ipython3",
   "version": "3.12.8"
  }
 },
 "nbformat": 4,
 "nbformat_minor": 2
}
