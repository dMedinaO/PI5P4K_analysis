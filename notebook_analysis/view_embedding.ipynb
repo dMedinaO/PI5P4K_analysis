{
 "cells": [
  {
   "cell_type": "markdown",
   "id": "641e361c",
   "metadata": {},
   "source": [
    "### Numerical visualization in latent space"
   ]
  },
  {
   "cell_type": "markdown",
   "id": "53b23542",
   "metadata": {},
   "source": [
    "- Process warning"
   ]
  },
  {
   "cell_type": "code",
   "execution_count": 22,
   "id": "d52bf96f",
   "metadata": {},
   "outputs": [],
   "source": [
    "import warnings\n",
    "warnings.filterwarnings('ignore')"
   ]
  },
  {
   "cell_type": "markdown",
   "id": "5ad9c11e",
   "metadata": {},
   "source": [
    "- Loading modules"
   ]
  },
  {
   "cell_type": "code",
   "execution_count": 23,
   "id": "b8bd1f88",
   "metadata": {},
   "outputs": [],
   "source": [
    "import pandas as pd\n",
    "from sklearn.manifold import TSNE\n",
    "import seaborn as sns\n",
    "import matplotlib.pyplot as plt\n",
    "from Bio import SeqIO\n",
    "from transformers import AutoModel, AutoTokenizer\n",
    "import numpy as np\n",
    "import torch\n",
    "from tqdm import tqdm"
   ]
  },
  {
   "cell_type": "markdown",
   "id": "b79156ed",
   "metadata": {},
   "source": [
    "- Auxiliar functions"
   ]
  },
  {
   "cell_type": "code",
   "execution_count": 24,
   "id": "29ffeecd",
   "metadata": {},
   "outputs": [],
   "source": [
    "def embedding_batch(tokenizer, device, model, batch, max_length=1024):\n",
    "    inputs = tokenizer(\n",
    "        batch,\n",
    "        return_tensors=\"pt\",\n",
    "        truncation=True,\n",
    "        padding=True,\n",
    "        add_special_tokens=False,\n",
    "        max_length=max_length,\n",
    "    ).to(device)\n",
    "\n",
    "    inputs = {key: value.to(device) for key, value in inputs.items()}\n",
    "\n",
    "    with torch.no_grad():\n",
    "        all_hiden_layers = model(**inputs, output_hidden_states=False)\n",
    "\n",
    "    del inputs\n",
    "\n",
    "    return all_hiden_layers.last_hidden_state"
   ]
  },
  {
   "cell_type": "markdown",
   "id": "80270462",
   "metadata": {},
   "source": [
    "- Reading raw fasta and generate a raw dataframe"
   ]
  },
  {
   "cell_type": "code",
   "execution_count": 25,
   "id": "7c478fca",
   "metadata": {},
   "outputs": [
    {
     "data": {
      "text/html": [
       "<div>\n",
       "<style scoped>\n",
       "    .dataframe tbody tr th:only-of-type {\n",
       "        vertical-align: middle;\n",
       "    }\n",
       "\n",
       "    .dataframe tbody tr th {\n",
       "        vertical-align: top;\n",
       "    }\n",
       "\n",
       "    .dataframe thead th {\n",
       "        text-align: right;\n",
       "    }\n",
       "</style>\n",
       "<table border=\"1\" class=\"dataframe\">\n",
       "  <thead>\n",
       "    <tr style=\"text-align: right;\">\n",
       "      <th></th>\n",
       "      <th>Organism</th>\n",
       "      <th>Accession</th>\n",
       "      <th>Subtype</th>\n",
       "      <th>Sequence</th>\n",
       "    </tr>\n",
       "  </thead>\n",
       "  <tbody>\n",
       "    <tr>\n",
       "      <th>0</th>\n",
       "      <td>A. irradians</td>\n",
       "      <td>XP_069111413</td>\n",
       "      <td>Alpha</td>\n",
       "      <td>MDKLKKERIRKVNPVSQKVKLFRASEPLLSVFMWGINHTINGLNHV...</td>\n",
       "    </tr>\n",
       "    <tr>\n",
       "      <th>1</th>\n",
       "      <td>P. maximus</td>\n",
       "      <td>XP_033762842</td>\n",
       "      <td>Alpha</td>\n",
       "      <td>MDKLKKERIRKVNPVSQKVKLFRASEPLLSVFMWGINHTINGLNHV...</td>\n",
       "    </tr>\n",
       "    <tr>\n",
       "      <th>2</th>\n",
       "      <td>Y. balloti</td>\n",
       "      <td>XP_060083998</td>\n",
       "      <td>Alpha</td>\n",
       "      <td>MDKLKKERIRKVNPVSQKVKLFRASEPLLSVFMWGINHTINGLNHV...</td>\n",
       "    </tr>\n",
       "    <tr>\n",
       "      <th>3</th>\n",
       "      <td>M. yessoensis</td>\n",
       "      <td>XP_021377781</td>\n",
       "      <td>Beta</td>\n",
       "      <td>MDKLKKERIRKVNPVSQKVKLFRASEPLLSVFMWGINHTINGLNHV...</td>\n",
       "    </tr>\n",
       "    <tr>\n",
       "      <th>4</th>\n",
       "      <td>R. philippinarum</td>\n",
       "      <td>XP_060589942</td>\n",
       "      <td>Alpha</td>\n",
       "      <td>MASVQTVPKQKVLKVKAVYQKRKLFRANEPLLSVFMWGINHTVSEL...</td>\n",
       "    </tr>\n",
       "  </tbody>\n",
       "</table>\n",
       "</div>"
      ],
      "text/plain": [
       "           Organism     Accession Subtype  \\\n",
       "0      A. irradians  XP_069111413   Alpha   \n",
       "1        P. maximus  XP_033762842   Alpha   \n",
       "2        Y. balloti  XP_060083998   Alpha   \n",
       "3     M. yessoensis  XP_021377781    Beta   \n",
       "4  R. philippinarum  XP_060589942   Alpha   \n",
       "\n",
       "                                            Sequence  \n",
       "0  MDKLKKERIRKVNPVSQKVKLFRASEPLLSVFMWGINHTINGLNHV...  \n",
       "1  MDKLKKERIRKVNPVSQKVKLFRASEPLLSVFMWGINHTINGLNHV...  \n",
       "2  MDKLKKERIRKVNPVSQKVKLFRASEPLLSVFMWGINHTINGLNHV...  \n",
       "3  MDKLKKERIRKVNPVSQKVKLFRASEPLLSVFMWGINHTINGLNHV...  \n",
       "4  MASVQTVPKQKVLKVKAVYQKRKLFRANEPLLSVFMWGINHTVSEL...  "
      ]
     },
     "execution_count": 25,
     "metadata": {},
     "output_type": "execute_result"
    }
   ],
   "source": [
    "processed_sequences = []\n",
    "\n",
    "for record in SeqIO.parse(\"tmp.fasta\", \"fasta\"):\n",
    "\n",
    "    if (\"Alpha\" in record.description or \"Beta\" in record.description):\n",
    "        subtype = record.description.split(\"|\")[-1]\n",
    "    elif \"Studied\" in record.description:\n",
    "        subtype = \"A. purpuratus\"\n",
    "    else:\n",
    "        subtype = \"Non specificied\"\n",
    "\n",
    "    processed_sequences.append({\n",
    "        \"Organism\" : record.description.replace(\"-\", \" \").split(\"]\")[1].split(\"|\")[0].split(\"Frame\")[0],\n",
    "        \"Accession\" : record.description.split(\"]\")[0].replace(\"[\", \"\"),\n",
    "        \"Subtype\" : subtype,\n",
    "        \"Sequence\" : str(record.seq)\n",
    "    })\n",
    "\n",
    "raw_df = pd.DataFrame(processed_sequences)\n",
    "raw_df.head(5)"
   ]
  },
  {
   "cell_type": "code",
   "execution_count": 26,
   "id": "d39d26c7",
   "metadata": {},
   "outputs": [
    {
     "data": {
      "text/plain": [
       "Alpha              28\n",
       "Beta               10\n",
       "Non specificied     7\n",
       "A. purpuratus       1\n",
       "Name: Subtype, dtype: int64"
      ]
     },
     "execution_count": 26,
     "metadata": {},
     "output_type": "execute_result"
    }
   ],
   "source": [
    "raw_df[\"Subtype\"].value_counts()"
   ]
  },
  {
   "cell_type": "code",
   "execution_count": 27,
   "id": "bb62b27b",
   "metadata": {},
   "outputs": [
    {
     "data": {
      "text/plain": [
       "Index(['Organism', 'Accession', 'Subtype', 'Sequence'], dtype='object')"
      ]
     },
     "execution_count": 27,
     "metadata": {},
     "output_type": "execute_result"
    }
   ],
   "source": [
    "raw_df.columns"
   ]
  },
  {
   "cell_type": "markdown",
   "id": "bfb58433",
   "metadata": {},
   "source": [
    "- Starting embedding extraction: Preparing pre-trained model"
   ]
  },
  {
   "cell_type": "code",
   "execution_count": 28,
   "id": "74388ace",
   "metadata": {},
   "outputs": [
    {
     "name": "stderr",
     "output_type": "stream",
     "text": [
      "Some weights of EsmModel were not initialized from the model checkpoint at facebook/esm2_t6_8M_UR50D and are newly initialized: ['esm.pooler.dense.bias', 'esm.pooler.dense.weight']\n",
      "You should probably TRAIN this model on a down-stream task to be able to use it for predictions and inference.\n"
     ]
    },
    {
     "data": {
      "text/plain": [
       "EsmModel(\n",
       "  (embeddings): EsmEmbeddings(\n",
       "    (word_embeddings): Embedding(33, 320, padding_idx=1)\n",
       "    (dropout): Dropout(p=0.0, inplace=False)\n",
       "    (position_embeddings): Embedding(1026, 320, padding_idx=1)\n",
       "  )\n",
       "  (encoder): EsmEncoder(\n",
       "    (layer): ModuleList(\n",
       "      (0-5): 6 x EsmLayer(\n",
       "        (attention): EsmAttention(\n",
       "          (self): EsmSelfAttention(\n",
       "            (query): Linear(in_features=320, out_features=320, bias=True)\n",
       "            (key): Linear(in_features=320, out_features=320, bias=True)\n",
       "            (value): Linear(in_features=320, out_features=320, bias=True)\n",
       "            (dropout): Dropout(p=0.0, inplace=False)\n",
       "            (rotary_embeddings): RotaryEmbedding()\n",
       "          )\n",
       "          (output): EsmSelfOutput(\n",
       "            (dense): Linear(in_features=320, out_features=320, bias=True)\n",
       "            (dropout): Dropout(p=0.0, inplace=False)\n",
       "          )\n",
       "          (LayerNorm): LayerNorm((320,), eps=1e-05, elementwise_affine=True)\n",
       "        )\n",
       "        (intermediate): EsmIntermediate(\n",
       "          (dense): Linear(in_features=320, out_features=1280, bias=True)\n",
       "        )\n",
       "        (output): EsmOutput(\n",
       "          (dense): Linear(in_features=1280, out_features=320, bias=True)\n",
       "          (dropout): Dropout(p=0.0, inplace=False)\n",
       "        )\n",
       "        (LayerNorm): LayerNorm((320,), eps=1e-05, elementwise_affine=True)\n",
       "      )\n",
       "    )\n",
       "    (emb_layer_norm_after): LayerNorm((320,), eps=1e-05, elementwise_affine=True)\n",
       "  )\n",
       "  (pooler): EsmPooler(\n",
       "    (dense): Linear(in_features=320, out_features=320, bias=True)\n",
       "    (activation): Tanh()\n",
       "  )\n",
       "  (contact_head): EsmContactPredictionHead(\n",
       "    (regression): Linear(in_features=120, out_features=1, bias=True)\n",
       "    (activation): Sigmoid()\n",
       "  )\n",
       ")"
      ]
     },
     "execution_count": 28,
     "metadata": {},
     "output_type": "execute_result"
    }
   ],
   "source": [
    "name_model = \"facebook/esm2_t6_8M_UR50D\"\n",
    "name_device = \"cuda\"\n",
    "\n",
    "device = torch.device(name_device)\n",
    "tokenizer = AutoTokenizer.from_pretrained(name_model, do_lower_case=False)\n",
    "model = AutoModel.from_pretrained(name_model).to(device)\n",
    "model.eval()"
   ]
  },
  {
   "cell_type": "markdown",
   "id": "7bf164d6",
   "metadata": {},
   "source": [
    "- Embedding extraction"
   ]
  },
  {
   "cell_type": "code",
   "execution_count": 29,
   "id": "c5be0643",
   "metadata": {},
   "outputs": [
    {
     "name": "stderr",
     "output_type": "stream",
     "text": [
      "[+] Embedding: 100%|██████████| 5/5 [00:00<00:00, 17.82batch/s]\n"
     ]
    },
    {
     "data": {
      "text/html": [
       "<div>\n",
       "<style scoped>\n",
       "    .dataframe tbody tr th:only-of-type {\n",
       "        vertical-align: middle;\n",
       "    }\n",
       "\n",
       "    .dataframe tbody tr th {\n",
       "        vertical-align: top;\n",
       "    }\n",
       "\n",
       "    .dataframe thead th {\n",
       "        text-align: right;\n",
       "    }\n",
       "</style>\n",
       "<table border=\"1\" class=\"dataframe\">\n",
       "  <thead>\n",
       "    <tr style=\"text-align: right;\">\n",
       "      <th></th>\n",
       "      <th>p_1</th>\n",
       "      <th>p_2</th>\n",
       "      <th>p_3</th>\n",
       "      <th>p_4</th>\n",
       "      <th>p_5</th>\n",
       "      <th>p_6</th>\n",
       "      <th>p_7</th>\n",
       "      <th>p_8</th>\n",
       "      <th>p_9</th>\n",
       "      <th>p_10</th>\n",
       "      <th>...</th>\n",
       "      <th>p_314</th>\n",
       "      <th>p_315</th>\n",
       "      <th>p_316</th>\n",
       "      <th>p_317</th>\n",
       "      <th>p_318</th>\n",
       "      <th>p_319</th>\n",
       "      <th>p_320</th>\n",
       "      <th>Organism</th>\n",
       "      <th>Accession</th>\n",
       "      <th>Subtype</th>\n",
       "    </tr>\n",
       "  </thead>\n",
       "  <tbody>\n",
       "    <tr>\n",
       "      <th>0</th>\n",
       "      <td>0.011214</td>\n",
       "      <td>-0.019663</td>\n",
       "      <td>0.107679</td>\n",
       "      <td>0.131824</td>\n",
       "      <td>0.083376</td>\n",
       "      <td>-0.034295</td>\n",
       "      <td>-0.026730</td>\n",
       "      <td>-0.125509</td>\n",
       "      <td>-0.149442</td>\n",
       "      <td>-0.170146</td>\n",
       "      <td>...</td>\n",
       "      <td>0.124073</td>\n",
       "      <td>0.106996</td>\n",
       "      <td>-0.080499</td>\n",
       "      <td>-0.047241</td>\n",
       "      <td>0.164060</td>\n",
       "      <td>-0.021175</td>\n",
       "      <td>0.028820</td>\n",
       "      <td>A. irradians</td>\n",
       "      <td>XP_069111413</td>\n",
       "      <td>Alpha</td>\n",
       "    </tr>\n",
       "    <tr>\n",
       "      <th>1</th>\n",
       "      <td>0.014028</td>\n",
       "      <td>-0.015263</td>\n",
       "      <td>0.093516</td>\n",
       "      <td>0.144540</td>\n",
       "      <td>0.104989</td>\n",
       "      <td>-0.026181</td>\n",
       "      <td>-0.012108</td>\n",
       "      <td>-0.125137</td>\n",
       "      <td>-0.139674</td>\n",
       "      <td>-0.172551</td>\n",
       "      <td>...</td>\n",
       "      <td>0.134798</td>\n",
       "      <td>0.127963</td>\n",
       "      <td>-0.076750</td>\n",
       "      <td>-0.046026</td>\n",
       "      <td>0.153913</td>\n",
       "      <td>-0.024680</td>\n",
       "      <td>0.021997</td>\n",
       "      <td>P. maximus</td>\n",
       "      <td>XP_033762842</td>\n",
       "      <td>Alpha</td>\n",
       "    </tr>\n",
       "    <tr>\n",
       "      <th>2</th>\n",
       "      <td>0.012982</td>\n",
       "      <td>-0.027826</td>\n",
       "      <td>0.094994</td>\n",
       "      <td>0.138186</td>\n",
       "      <td>0.092075</td>\n",
       "      <td>-0.039200</td>\n",
       "      <td>-0.031184</td>\n",
       "      <td>-0.129234</td>\n",
       "      <td>-0.141030</td>\n",
       "      <td>-0.177885</td>\n",
       "      <td>...</td>\n",
       "      <td>0.131012</td>\n",
       "      <td>0.123976</td>\n",
       "      <td>-0.070518</td>\n",
       "      <td>-0.040269</td>\n",
       "      <td>0.141144</td>\n",
       "      <td>-0.022393</td>\n",
       "      <td>0.036758</td>\n",
       "      <td>Y. balloti</td>\n",
       "      <td>XP_060083998</td>\n",
       "      <td>Alpha</td>\n",
       "    </tr>\n",
       "    <tr>\n",
       "      <th>3</th>\n",
       "      <td>-0.011086</td>\n",
       "      <td>-0.018023</td>\n",
       "      <td>0.091648</td>\n",
       "      <td>0.139869</td>\n",
       "      <td>0.131932</td>\n",
       "      <td>-0.019015</td>\n",
       "      <td>-0.014911</td>\n",
       "      <td>-0.121987</td>\n",
       "      <td>-0.121678</td>\n",
       "      <td>-0.173311</td>\n",
       "      <td>...</td>\n",
       "      <td>0.142700</td>\n",
       "      <td>0.126329</td>\n",
       "      <td>-0.084361</td>\n",
       "      <td>-0.034195</td>\n",
       "      <td>0.164271</td>\n",
       "      <td>-0.035118</td>\n",
       "      <td>0.019891</td>\n",
       "      <td>M. yessoensis</td>\n",
       "      <td>XP_021377781</td>\n",
       "      <td>Beta</td>\n",
       "    </tr>\n",
       "    <tr>\n",
       "      <th>4</th>\n",
       "      <td>0.023605</td>\n",
       "      <td>-0.052796</td>\n",
       "      <td>0.069550</td>\n",
       "      <td>0.137392</td>\n",
       "      <td>0.097633</td>\n",
       "      <td>-0.080081</td>\n",
       "      <td>-0.053613</td>\n",
       "      <td>-0.143139</td>\n",
       "      <td>-0.084147</td>\n",
       "      <td>-0.212017</td>\n",
       "      <td>...</td>\n",
       "      <td>0.116353</td>\n",
       "      <td>0.145644</td>\n",
       "      <td>-0.074341</td>\n",
       "      <td>-0.050943</td>\n",
       "      <td>0.120973</td>\n",
       "      <td>-0.034928</td>\n",
       "      <td>0.009496</td>\n",
       "      <td>R. philippinarum</td>\n",
       "      <td>XP_060589942</td>\n",
       "      <td>Alpha</td>\n",
       "    </tr>\n",
       "  </tbody>\n",
       "</table>\n",
       "<p>5 rows × 323 columns</p>\n",
       "</div>"
      ],
      "text/plain": [
       "        p_1       p_2       p_3       p_4       p_5       p_6       p_7  \\\n",
       "0  0.011214 -0.019663  0.107679  0.131824  0.083376 -0.034295 -0.026730   \n",
       "1  0.014028 -0.015263  0.093516  0.144540  0.104989 -0.026181 -0.012108   \n",
       "2  0.012982 -0.027826  0.094994  0.138186  0.092075 -0.039200 -0.031184   \n",
       "3 -0.011086 -0.018023  0.091648  0.139869  0.131932 -0.019015 -0.014911   \n",
       "4  0.023605 -0.052796  0.069550  0.137392  0.097633 -0.080081 -0.053613   \n",
       "\n",
       "        p_8       p_9      p_10  ...     p_314     p_315     p_316     p_317  \\\n",
       "0 -0.125509 -0.149442 -0.170146  ...  0.124073  0.106996 -0.080499 -0.047241   \n",
       "1 -0.125137 -0.139674 -0.172551  ...  0.134798  0.127963 -0.076750 -0.046026   \n",
       "2 -0.129234 -0.141030 -0.177885  ...  0.131012  0.123976 -0.070518 -0.040269   \n",
       "3 -0.121987 -0.121678 -0.173311  ...  0.142700  0.126329 -0.084361 -0.034195   \n",
       "4 -0.143139 -0.084147 -0.212017  ...  0.116353  0.145644 -0.074341 -0.050943   \n",
       "\n",
       "      p_318     p_319     p_320          Organism     Accession  Subtype  \n",
       "0  0.164060 -0.021175  0.028820      A. irradians  XP_069111413    Alpha  \n",
       "1  0.153913 -0.024680  0.021997        P. maximus  XP_033762842    Alpha  \n",
       "2  0.141144 -0.022393  0.036758        Y. balloti  XP_060083998    Alpha  \n",
       "3  0.164271 -0.035118  0.019891     M. yessoensis  XP_021377781     Beta  \n",
       "4  0.120973 -0.034928  0.009496  R. philippinarum  XP_060589942    Alpha  \n",
       "\n",
       "[5 rows x 323 columns]"
      ]
     },
     "execution_count": 29,
     "metadata": {},
     "output_type": "execute_result"
    }
   ],
   "source": [
    "batch_size=10\n",
    "\n",
    "sequences = raw_df[\"Sequence\"].tolist()\n",
    "\n",
    "layer_embeddings = []\n",
    "\n",
    "for i in tqdm(range(0, len(sequences), batch_size), desc=\"[+] Embedding\", unit=\"batch\"):\n",
    "    batch = sequences[i : i + batch_size]\n",
    "\n",
    "    last_hidden_layer = embedding_batch(tokenizer=tokenizer, device=device, model=model, batch=batch)\n",
    "\n",
    "    batch_embedding = last_hidden_layer.mean(dim=1).cpu().numpy()\n",
    "    layer_embeddings.append(batch_embedding)\n",
    "\n",
    "layer_embeddings = np.concatenate(layer_embeddings, axis=0)\n",
    "\n",
    "header = [f\"p_{i + 1}\" for i in range(layer_embeddings.shape[1])]\n",
    "\n",
    "df_embedding = pd.DataFrame(data=layer_embeddings, columns=header)\n",
    "\n",
    "for column in ['Organism', 'Accession', 'Subtype']:\n",
    "    df_embedding[column] = raw_df[column].values\n",
    "\n",
    "df_embedding.head(5)"
   ]
  },
  {
   "cell_type": "markdown",
   "id": "1e94878a",
   "metadata": {},
   "source": [
    "- Embedding visualization"
   ]
  },
  {
   "cell_type": "code",
   "execution_count": 30,
   "id": "30a8565f",
   "metadata": {},
   "outputs": [
    {
     "data": {
      "text/html": [
       "<div>\n",
       "<style scoped>\n",
       "    .dataframe tbody tr th:only-of-type {\n",
       "        vertical-align: middle;\n",
       "    }\n",
       "\n",
       "    .dataframe tbody tr th {\n",
       "        vertical-align: top;\n",
       "    }\n",
       "\n",
       "    .dataframe thead th {\n",
       "        text-align: right;\n",
       "    }\n",
       "</style>\n",
       "<table border=\"1\" class=\"dataframe\">\n",
       "  <thead>\n",
       "    <tr style=\"text-align: right;\">\n",
       "      <th></th>\n",
       "      <th>t-SNE 1</th>\n",
       "      <th>t-SNE 2</th>\n",
       "      <th>Subtype</th>\n",
       "    </tr>\n",
       "  </thead>\n",
       "  <tbody>\n",
       "    <tr>\n",
       "      <th>0</th>\n",
       "      <td>-0.680058</td>\n",
       "      <td>13.596807</td>\n",
       "      <td>Alpha</td>\n",
       "    </tr>\n",
       "    <tr>\n",
       "      <th>1</th>\n",
       "      <td>-0.759288</td>\n",
       "      <td>13.622346</td>\n",
       "      <td>Alpha</td>\n",
       "    </tr>\n",
       "    <tr>\n",
       "      <th>2</th>\n",
       "      <td>-0.547444</td>\n",
       "      <td>13.645936</td>\n",
       "      <td>Alpha</td>\n",
       "    </tr>\n",
       "    <tr>\n",
       "      <th>3</th>\n",
       "      <td>-0.783886</td>\n",
       "      <td>13.625185</td>\n",
       "      <td>Beta</td>\n",
       "    </tr>\n",
       "    <tr>\n",
       "      <th>4</th>\n",
       "      <td>0.260829</td>\n",
       "      <td>13.645704</td>\n",
       "      <td>Alpha</td>\n",
       "    </tr>\n",
       "  </tbody>\n",
       "</table>\n",
       "</div>"
      ],
      "text/plain": [
       "    t-SNE 1    t-SNE 2 Subtype\n",
       "0 -0.680058  13.596807   Alpha\n",
       "1 -0.759288  13.622346   Alpha\n",
       "2 -0.547444  13.645936   Alpha\n",
       "3 -0.783886  13.625185    Beta\n",
       "4  0.260829  13.645704   Alpha"
      ]
     },
     "execution_count": 30,
     "metadata": {},
     "output_type": "execute_result"
    }
   ],
   "source": [
    "tsne_instance = TSNE(n_components=2, random_state=42)\n",
    "data_tsne = tsne_instance.fit_transform(X=df_embedding.drop(columns=['Organism', 'Accession', 'Subtype']).values)\n",
    "\n",
    "df_tsne = pd.DataFrame(data=data_tsne, columns=[\"t-SNE 1\", \"t-SNE 2\"])\n",
    "df_tsne[\"Subtype\"] = df_embedding[\"Subtype\"].values\n",
    "df_tsne.head(5)"
   ]
  },
  {
   "cell_type": "code",
   "execution_count": 31,
   "id": "0bc879e2",
   "metadata": {},
   "outputs": [
    {
     "data": {
      "text/plain": [
       "<Axes: xlabel='t-SNE 1', ylabel='t-SNE 2'>"
      ]
     },
     "execution_count": 31,
     "metadata": {},
     "output_type": "execute_result"
    },
    {
     "data": {
      "image/png": "[encoded data removed]",
      "text/plain": [
       "<Figure size 640x480 with 1 Axes>"
      ]
     },
     "metadata": {},
     "output_type": "display_data"
    }
   ],
   "source": [
    "sns.scatterplot(data=df_tsne, x=\"t-SNE 1\", y=\"t-SNE 2\", hue=\"Subtype\")"
   ]
  }
 ],
 "metadata": {
  "kernelspec": {
   "display_name": "training_models_pi",
   "language": "python",
   "name": "python3"
  },
  "language_info": {
   "codemirror_mode": {
    "name": "ipython",
    "version": 3
   },
   "file_extension": ".py",
   "mimetype": "text/x-python",
   "name": "python",
   "nbconvert_exporter": "python",
   "pygments_lexer": "ipython3",
   "version": "3.12.8"
  }
 },
 "nbformat": 4,
 "nbformat_minor": 5
}
